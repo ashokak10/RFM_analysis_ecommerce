{
 "cells": [
  {
   "cell_type": "code",
   "execution_count": 71,
   "id": "5474909a",
   "metadata": {},
   "outputs": [],
   "source": [
    "# Problem Statement\n",
    "# RFM analysis\n",
    "\n",
    "# Objective of this project is to segment the ecommerce customers based on their number of purchase, recent orders, value of\n",
    "# order. Using the dataset of approx 5L records, use the unsupervised machine learning / Data mining to group \n",
    "# customers based on the above criteria.\n",
    "# Build a model using K-Means and analyze the data using manual RFM analysis approach"
   ]
  },
  {
   "cell_type": "code",
   "execution_count": 72,
   "id": "0a01fc5f",
   "metadata": {},
   "outputs": [],
   "source": [
    "# Importing important libraries\n",
    "\n",
    "import numpy as np\n",
    "import pandas as pd\n",
    "import seaborn as sns\n",
    "sns.set()\n",
    "import matplotlib.pyplot as plt\n",
    "import warnings\n",
    "warnings.filterwarnings('ignore')\n",
    "import os\n",
    "%matplotlib inline\n",
    "from pandas_profiling import ProfileReport"
   ]
  },
  {
   "cell_type": "code",
   "execution_count": 73,
   "id": "da50dee8",
   "metadata": {},
   "outputs": [
    {
     "data": {
      "text/plain": [
       "'/Users/ashok/Documents/Study_Materials/Learnbay Learning/ML Project by Sundaram/Ecommerce- Project'"
      ]
     },
     "execution_count": 73,
     "metadata": {},
     "output_type": "execute_result"
    }
   ],
   "source": [
    "# Checking the current working directory\n",
    "\n",
    "os.getcwd()"
   ]
  },
  {
   "cell_type": "code",
   "execution_count": 74,
   "id": "54e26244",
   "metadata": {},
   "outputs": [],
   "source": [
    "# Reading the customer data\n",
    "\n",
    "df = pd.read_csv('E-com_Data.csv')"
   ]
  },
  {
   "cell_type": "code",
   "execution_count": 75,
   "id": "268fa083",
   "metadata": {},
   "outputs": [
    {
     "data": {
      "text/html": [
       "<div>\n",
       "<style scoped>\n",
       "    .dataframe tbody tr th:only-of-type {\n",
       "        vertical-align: middle;\n",
       "    }\n",
       "\n",
       "    .dataframe tbody tr th {\n",
       "        vertical-align: top;\n",
       "    }\n",
       "\n",
       "    .dataframe thead th {\n",
       "        text-align: right;\n",
       "    }\n",
       "</style>\n",
       "<table border=\"1\" class=\"dataframe\">\n",
       "  <thead>\n",
       "    <tr style=\"text-align: right;\">\n",
       "      <th></th>\n",
       "      <th>CustomerID</th>\n",
       "      <th>Item Code</th>\n",
       "      <th>InvoieNo</th>\n",
       "      <th>Date of purchase</th>\n",
       "      <th>Quantity</th>\n",
       "      <th>Time</th>\n",
       "      <th>price per Unit</th>\n",
       "      <th>Price</th>\n",
       "      <th>Shipping Location</th>\n",
       "      <th>Cancelled_status</th>\n",
       "      <th>Reason of return</th>\n",
       "      <th>Sold as set</th>\n",
       "    </tr>\n",
       "  </thead>\n",
       "  <tbody>\n",
       "    <tr>\n",
       "      <th>0</th>\n",
       "      <td>4355.0</td>\n",
       "      <td>15734</td>\n",
       "      <td>398177.0</td>\n",
       "      <td>29-10-2017</td>\n",
       "      <td>6.0</td>\n",
       "      <td>3:36:00 PM</td>\n",
       "      <td>321.0</td>\n",
       "      <td>1926.0</td>\n",
       "      <td>Location 1</td>\n",
       "      <td>NaN</td>\n",
       "      <td>NaN</td>\n",
       "      <td>NaN</td>\n",
       "    </tr>\n",
       "    <tr>\n",
       "      <th>1</th>\n",
       "      <td>4352.0</td>\n",
       "      <td>14616</td>\n",
       "      <td>394422.0</td>\n",
       "      <td>05-10-2017</td>\n",
       "      <td>2.0</td>\n",
       "      <td>2:53:00 PM</td>\n",
       "      <td>870.0</td>\n",
       "      <td>1740.0</td>\n",
       "      <td>Location 1</td>\n",
       "      <td>NaN</td>\n",
       "      <td>NaN</td>\n",
       "      <td>NaN</td>\n",
       "    </tr>\n",
       "    <tr>\n",
       "      <th>2</th>\n",
       "      <td>4352.0</td>\n",
       "      <td>14614</td>\n",
       "      <td>394422.0</td>\n",
       "      <td>12-10-2017</td>\n",
       "      <td>2.0</td>\n",
       "      <td>2:53:00 PM</td>\n",
       "      <td>933.0</td>\n",
       "      <td>1866.0</td>\n",
       "      <td>Location 1</td>\n",
       "      <td>NaN</td>\n",
       "      <td>NaN</td>\n",
       "      <td>NaN</td>\n",
       "    </tr>\n",
       "    <tr>\n",
       "      <th>3</th>\n",
       "      <td>4352.0</td>\n",
       "      <td>85014B</td>\n",
       "      <td>388633.0</td>\n",
       "      <td>22-08-2017</td>\n",
       "      <td>3.0</td>\n",
       "      <td>2:47:00 PM</td>\n",
       "      <td>623.0</td>\n",
       "      <td>1869.0</td>\n",
       "      <td>Location 1</td>\n",
       "      <td>NaN</td>\n",
       "      <td>NaN</td>\n",
       "      <td>NaN</td>\n",
       "    </tr>\n",
       "    <tr>\n",
       "      <th>4</th>\n",
       "      <td>4352.0</td>\n",
       "      <td>15364</td>\n",
       "      <td>394422.0</td>\n",
       "      <td>10-10-2017</td>\n",
       "      <td>2.0</td>\n",
       "      <td>2:53:00 PM</td>\n",
       "      <td>944.0</td>\n",
       "      <td>1888.0</td>\n",
       "      <td>Location 1</td>\n",
       "      <td>NaN</td>\n",
       "      <td>NaN</td>\n",
       "      <td>NaN</td>\n",
       "    </tr>\n",
       "  </tbody>\n",
       "</table>\n",
       "</div>"
      ],
      "text/plain": [
       "   CustomerID Item Code  InvoieNo Date of purchase  Quantity        Time  \\\n",
       "0      4355.0     15734  398177.0       29-10-2017       6.0  3:36:00 PM   \n",
       "1      4352.0     14616  394422.0       05-10-2017       2.0  2:53:00 PM   \n",
       "2      4352.0     14614  394422.0       12-10-2017       2.0  2:53:00 PM   \n",
       "3      4352.0    85014B  388633.0       22-08-2017       3.0  2:47:00 PM   \n",
       "4      4352.0     15364  394422.0       10-10-2017       2.0  2:53:00 PM   \n",
       "\n",
       "   price per Unit   Price Shipping Location Cancelled_status Reason of return  \\\n",
       "0           321.0  1926.0        Location 1              NaN              NaN   \n",
       "1           870.0  1740.0        Location 1              NaN              NaN   \n",
       "2           933.0  1866.0        Location 1              NaN              NaN   \n",
       "3           623.0  1869.0        Location 1              NaN              NaN   \n",
       "4           944.0  1888.0        Location 1              NaN              NaN   \n",
       "\n",
       "   Sold as set  \n",
       "0          NaN  \n",
       "1          NaN  \n",
       "2          NaN  \n",
       "3          NaN  \n",
       "4          NaN  "
      ]
     },
     "execution_count": 75,
     "metadata": {},
     "output_type": "execute_result"
    }
   ],
   "source": [
    "# Top 5 data\n",
    "\n",
    "df.head()"
   ]
  },
  {
   "cell_type": "code",
   "execution_count": 76,
   "id": "97669222",
   "metadata": {},
   "outputs": [
    {
     "name": "stdout",
     "output_type": "stream",
     "text": [
      "<class 'pandas.core.frame.DataFrame'>\n",
      "RangeIndex: 541116 entries, 0 to 541115\n",
      "Data columns (total 12 columns):\n",
      " #   Column             Non-Null Count   Dtype  \n",
      "---  ------             --------------   -----  \n",
      " 0   CustomerID         404189 non-null  float64\n",
      " 1   Item Code          537979 non-null  object \n",
      " 2   InvoieNo           537979 non-null  float64\n",
      " 3   Date of purchase   537979 non-null  object \n",
      " 4   Quantity           537979 non-null  float64\n",
      " 5   Time               537979 non-null  object \n",
      " 6   price per Unit     537979 non-null  float64\n",
      " 7   Price              537979 non-null  float64\n",
      " 8   Shipping Location  537979 non-null  object \n",
      " 9   Cancelled_status   8345 non-null    object \n",
      " 10  Reason of return   3 non-null       object \n",
      " 11  Sold as set        0 non-null       float64\n",
      "dtypes: float64(6), object(6)\n",
      "memory usage: 49.5+ MB\n"
     ]
    }
   ],
   "source": [
    "# Checking the dataset info\n",
    "\n",
    "df.info()"
   ]
  },
  {
   "cell_type": "code",
   "execution_count": 77,
   "id": "4deaa03c",
   "metadata": {},
   "outputs": [
    {
     "data": {
      "text/html": [
       "<div>\n",
       "<style scoped>\n",
       "    .dataframe tbody tr th:only-of-type {\n",
       "        vertical-align: middle;\n",
       "    }\n",
       "\n",
       "    .dataframe tbody tr th {\n",
       "        vertical-align: top;\n",
       "    }\n",
       "\n",
       "    .dataframe thead th {\n",
       "        text-align: right;\n",
       "    }\n",
       "</style>\n",
       "<table border=\"1\" class=\"dataframe\">\n",
       "  <thead>\n",
       "    <tr style=\"text-align: right;\">\n",
       "      <th></th>\n",
       "      <th>CustomerID</th>\n",
       "      <th>InvoieNo</th>\n",
       "      <th>Quantity</th>\n",
       "      <th>price per Unit</th>\n",
       "      <th>Price</th>\n",
       "      <th>Sold as set</th>\n",
       "    </tr>\n",
       "  </thead>\n",
       "  <tbody>\n",
       "    <tr>\n",
       "      <th>count</th>\n",
       "      <td>404189.000000</td>\n",
       "      <td>537979.000000</td>\n",
       "      <td>537979.000000</td>\n",
       "      <td>537979.000000</td>\n",
       "      <td>537979.000000</td>\n",
       "      <td>0.0</td>\n",
       "    </tr>\n",
       "    <tr>\n",
       "      <th>mean</th>\n",
       "      <td>2181.909035</td>\n",
       "      <td>385017.572063</td>\n",
       "      <td>9.343339</td>\n",
       "      <td>378.339062</td>\n",
       "      <td>2161.414593</td>\n",
       "      <td>NaN</td>\n",
       "    </tr>\n",
       "    <tr>\n",
       "      <th>std</th>\n",
       "      <td>1252.681881</td>\n",
       "      <td>13426.052649</td>\n",
       "      <td>27.623322</td>\n",
       "      <td>440.048823</td>\n",
       "      <td>4538.487177</td>\n",
       "      <td>NaN</td>\n",
       "    </tr>\n",
       "    <tr>\n",
       "      <th>min</th>\n",
       "      <td>2.000000</td>\n",
       "      <td>361429.000000</td>\n",
       "      <td>-2003.000000</td>\n",
       "      <td>1.000000</td>\n",
       "      <td>-10152.000000</td>\n",
       "      <td>NaN</td>\n",
       "    </tr>\n",
       "    <tr>\n",
       "      <th>25%</th>\n",
       "      <td>1207.000000</td>\n",
       "      <td>372961.000000</td>\n",
       "      <td>1.000000</td>\n",
       "      <td>169.000000</td>\n",
       "      <td>451.000000</td>\n",
       "      <td>NaN</td>\n",
       "    </tr>\n",
       "    <tr>\n",
       "      <th>50%</th>\n",
       "      <td>2078.000000</td>\n",
       "      <td>385706.000000</td>\n",
       "      <td>3.000000</td>\n",
       "      <td>261.000000</td>\n",
       "      <td>1194.000000</td>\n",
       "      <td>NaN</td>\n",
       "    </tr>\n",
       "    <tr>\n",
       "      <th>75%</th>\n",
       "      <td>3291.000000</td>\n",
       "      <td>396873.000000</td>\n",
       "      <td>10.000000</td>\n",
       "      <td>456.000000</td>\n",
       "      <td>2232.000000</td>\n",
       "      <td>NaN</td>\n",
       "    </tr>\n",
       "    <tr>\n",
       "      <th>max</th>\n",
       "      <td>4372.000000</td>\n",
       "      <td>406651.000000</td>\n",
       "      <td>3186.000000</td>\n",
       "      <td>64973.000000</td>\n",
       "      <td>90400.000000</td>\n",
       "      <td>NaN</td>\n",
       "    </tr>\n",
       "  </tbody>\n",
       "</table>\n",
       "</div>"
      ],
      "text/plain": [
       "          CustomerID       InvoieNo       Quantity  price per Unit  \\\n",
       "count  404189.000000  537979.000000  537979.000000   537979.000000   \n",
       "mean     2181.909035  385017.572063       9.343339      378.339062   \n",
       "std      1252.681881   13426.052649      27.623322      440.048823   \n",
       "min         2.000000  361429.000000   -2003.000000        1.000000   \n",
       "25%      1207.000000  372961.000000       1.000000      169.000000   \n",
       "50%      2078.000000  385706.000000       3.000000      261.000000   \n",
       "75%      3291.000000  396873.000000      10.000000      456.000000   \n",
       "max      4372.000000  406651.000000    3186.000000    64973.000000   \n",
       "\n",
       "               Price  Sold as set  \n",
       "count  537979.000000          0.0  \n",
       "mean     2161.414593          NaN  \n",
       "std      4538.487177          NaN  \n",
       "min    -10152.000000          NaN  \n",
       "25%       451.000000          NaN  \n",
       "50%      1194.000000          NaN  \n",
       "75%      2232.000000          NaN  \n",
       "max     90400.000000          NaN  "
      ]
     },
     "execution_count": 77,
     "metadata": {},
     "output_type": "execute_result"
    }
   ],
   "source": [
    "df.describe()"
   ]
  },
  {
   "cell_type": "code",
   "execution_count": 78,
   "id": "0fcb23ee",
   "metadata": {},
   "outputs": [
    {
     "data": {
      "text/plain": [
       "CustomerID            25.304556\n",
       "Item Code              0.579728\n",
       "InvoieNo               0.579728\n",
       "Date of purchase       0.579728\n",
       "Quantity               0.579728\n",
       "Time                   0.579728\n",
       "price per Unit         0.579728\n",
       "Price                  0.579728\n",
       "Shipping Location      0.579728\n",
       "Cancelled_status      98.457817\n",
       "Reason of return      99.999446\n",
       "Sold as set          100.000000\n",
       "dtype: float64"
      ]
     },
     "execution_count": 78,
     "metadata": {},
     "output_type": "execute_result"
    }
   ],
   "source": [
    "# Missing value percentage\n",
    "# Since RMF is calculated based on the customer_ID, even though customer_ID has 25% missing value, ignore it and\n",
    "# remove the null values in the customer ID\n",
    "\n",
    "df.isnull().sum()/len(df)*100"
   ]
  },
  {
   "cell_type": "code",
   "execution_count": 79,
   "id": "62015917",
   "metadata": {},
   "outputs": [
    {
     "data": {
      "text/plain": [
       "4349"
      ]
     },
     "execution_count": 79,
     "metadata": {},
     "output_type": "execute_result"
    }
   ],
   "source": [
    "# Unique customers\n",
    "\n",
    "df['CustomerID'].nunique()"
   ]
  },
  {
   "cell_type": "markdown",
   "id": "1c390dec",
   "metadata": {},
   "source": [
    "## EDA"
   ]
  },
  {
   "cell_type": "code",
   "execution_count": 80,
   "id": "efea06bc",
   "metadata": {},
   "outputs": [],
   "source": [
    "# Using pandas profiling to visualize the data\n",
    "\n",
    "prof = ProfileReport(df)"
   ]
  },
  {
   "cell_type": "code",
   "execution_count": 81,
   "id": "107626e7",
   "metadata": {},
   "outputs": [
    {
     "name": "stderr",
     "output_type": "stream",
     "text": [
      "Summarize dataset: 100%|█████████████| 47/47 [00:05<00:00,  8.08it/s, Completed]\n",
      "Generate report structure: 100%|██████████████████| 1/1 [00:00<00:00,  1.09it/s]\n",
      "Render HTML: 100%|████████████████████████████████| 1/1 [00:00<00:00,  2.84it/s]\n",
      "Export report to file: 100%|█████████████████████| 1/1 [00:00<00:00, 691.10it/s]\n"
     ]
    }
   ],
   "source": [
    "# Export output to html file\n",
    "\n",
    "prof.to_file('output.html')"
   ]
  },
  {
   "cell_type": "code",
   "execution_count": 82,
   "id": "c68f55f6",
   "metadata": {},
   "outputs": [],
   "source": [
    "# Removing non significant variables\n",
    "# item code\n",
    "# Since total price is calculated based on quantity and per unit price, hence quantity and per unit price is removed\n",
    "# Time variable is not significant because time is not used to calculate recency\n",
    "# shipping location, cancelled_status, Reason_of_return, sold_as_set has no impact on calculating RMF"
   ]
  },
  {
   "cell_type": "code",
   "execution_count": 83,
   "id": "339343c0",
   "metadata": {},
   "outputs": [
    {
     "data": {
      "text/plain": [
       "Index(['CustomerID', 'Item Code', 'InvoieNo', 'Date of purchase', 'Quantity',\n",
       "       'Time', 'price per Unit', 'Price', 'Shipping Location',\n",
       "       'Cancelled_status', 'Reason of return', 'Sold as set'],\n",
       "      dtype='object')"
      ]
     },
     "execution_count": 83,
     "metadata": {},
     "output_type": "execute_result"
    }
   ],
   "source": [
    "df.columns"
   ]
  },
  {
   "cell_type": "code",
   "execution_count": 84,
   "id": "fbb2d3e3",
   "metadata": {},
   "outputs": [
    {
     "data": {
      "text/html": [
       "<div>\n",
       "<style scoped>\n",
       "    .dataframe tbody tr th:only-of-type {\n",
       "        vertical-align: middle;\n",
       "    }\n",
       "\n",
       "    .dataframe tbody tr th {\n",
       "        vertical-align: top;\n",
       "    }\n",
       "\n",
       "    .dataframe thead th {\n",
       "        text-align: right;\n",
       "    }\n",
       "</style>\n",
       "<table border=\"1\" class=\"dataframe\">\n",
       "  <thead>\n",
       "    <tr style=\"text-align: right;\">\n",
       "      <th></th>\n",
       "      <th>CustomerID</th>\n",
       "      <th>InvoieNo</th>\n",
       "      <th>Date of purchase</th>\n",
       "      <th>Price</th>\n",
       "    </tr>\n",
       "  </thead>\n",
       "  <tbody>\n",
       "    <tr>\n",
       "      <th>0</th>\n",
       "      <td>4355.0</td>\n",
       "      <td>398177.0</td>\n",
       "      <td>29-10-2017</td>\n",
       "      <td>1926.0</td>\n",
       "    </tr>\n",
       "    <tr>\n",
       "      <th>1</th>\n",
       "      <td>4352.0</td>\n",
       "      <td>394422.0</td>\n",
       "      <td>05-10-2017</td>\n",
       "      <td>1740.0</td>\n",
       "    </tr>\n",
       "    <tr>\n",
       "      <th>2</th>\n",
       "      <td>4352.0</td>\n",
       "      <td>394422.0</td>\n",
       "      <td>12-10-2017</td>\n",
       "      <td>1866.0</td>\n",
       "    </tr>\n",
       "    <tr>\n",
       "      <th>3</th>\n",
       "      <td>4352.0</td>\n",
       "      <td>388633.0</td>\n",
       "      <td>22-08-2017</td>\n",
       "      <td>1869.0</td>\n",
       "    </tr>\n",
       "    <tr>\n",
       "      <th>4</th>\n",
       "      <td>4352.0</td>\n",
       "      <td>394422.0</td>\n",
       "      <td>10-10-2017</td>\n",
       "      <td>1888.0</td>\n",
       "    </tr>\n",
       "  </tbody>\n",
       "</table>\n",
       "</div>"
      ],
      "text/plain": [
       "   CustomerID  InvoieNo Date of purchase   Price\n",
       "0      4355.0  398177.0       29-10-2017  1926.0\n",
       "1      4352.0  394422.0       05-10-2017  1740.0\n",
       "2      4352.0  394422.0       12-10-2017  1866.0\n",
       "3      4352.0  388633.0       22-08-2017  1869.0\n",
       "4      4352.0  394422.0       10-10-2017  1888.0"
      ]
     },
     "execution_count": 84,
     "metadata": {},
     "output_type": "execute_result"
    }
   ],
   "source": [
    "df = df.drop(['Item Code','Quantity','Time','price per Unit','Shipping Location',\n",
    "       'Cancelled_status', 'Reason of return', 'Sold as set'],axis=1)\n",
    "df.head()"
   ]
  },
  {
   "cell_type": "code",
   "execution_count": 85,
   "id": "c13d2e1a",
   "metadata": {},
   "outputs": [
    {
     "data": {
      "text/plain": [
       "(541116, 4)"
      ]
     },
     "execution_count": 85,
     "metadata": {},
     "output_type": "execute_result"
    }
   ],
   "source": [
    "df.shape"
   ]
  },
  {
   "cell_type": "code",
   "execution_count": 86,
   "id": "7a756b88",
   "metadata": {},
   "outputs": [
    {
     "data": {
      "text/plain": [
       "6008"
      ]
     },
     "execution_count": 86,
     "metadata": {},
     "output_type": "execute_result"
    }
   ],
   "source": [
    "# Checking dupicate rows based on the above 4 variables\n",
    "\n",
    "\n",
    "df.duplicated().sum()"
   ]
  },
  {
   "cell_type": "code",
   "execution_count": 87,
   "id": "4ed6219e",
   "metadata": {},
   "outputs": [],
   "source": [
    "# Dropping duplicate records\n",
    "\n",
    "df = df.drop_duplicates(ignore_index=True)"
   ]
  },
  {
   "cell_type": "code",
   "execution_count": 88,
   "id": "252502eb",
   "metadata": {},
   "outputs": [],
   "source": [
    "# Renaming columns\n",
    "\n",
    "df = df.rename(columns = {'InvoieNo':'InvoiceNo','Date of purchase':'Date'})"
   ]
  },
  {
   "cell_type": "code",
   "execution_count": 89,
   "id": "67cddb6a",
   "metadata": {},
   "outputs": [],
   "source": [
    "# Handling missing values in customerID columns\n",
    "\n",
    "df = df.dropna(subset = ['CustomerID'])"
   ]
  },
  {
   "cell_type": "code",
   "execution_count": 90,
   "id": "089bc267",
   "metadata": {},
   "outputs": [
    {
     "data": {
      "text/plain": [
       "(402859, 4)"
      ]
     },
     "execution_count": 90,
     "metadata": {},
     "output_type": "execute_result"
    }
   ],
   "source": [
    "df.shape"
   ]
  },
  {
   "cell_type": "markdown",
   "id": "1b502840",
   "metadata": {},
   "source": [
    "## Date analysis"
   ]
  },
  {
   "cell_type": "code",
   "execution_count": 91,
   "id": "6f2c9288",
   "metadata": {},
   "outputs": [],
   "source": [
    "import datetime as dt"
   ]
  },
  {
   "cell_type": "code",
   "execution_count": 92,
   "id": "26fad997",
   "metadata": {},
   "outputs": [
    {
     "name": "stdout",
     "output_type": "stream",
     "text": [
      "<class 'pandas.core.frame.DataFrame'>\n",
      "Int64Index: 402859 entries, 0 to 535079\n",
      "Data columns (total 4 columns):\n",
      " #   Column      Non-Null Count   Dtype  \n",
      "---  ------      --------------   -----  \n",
      " 0   CustomerID  402859 non-null  float64\n",
      " 1   InvoiceNo   402859 non-null  float64\n",
      " 2   Date        402859 non-null  object \n",
      " 3   Price       402859 non-null  float64\n",
      "dtypes: float64(3), object(1)\n",
      "memory usage: 15.4+ MB\n"
     ]
    }
   ],
   "source": [
    "# Date is in object type which needs to be converted to datetime format\n",
    "\n",
    "df.info()"
   ]
  },
  {
   "cell_type": "code",
   "execution_count": 93,
   "id": "fb5fccdf",
   "metadata": {},
   "outputs": [],
   "source": [
    "df['Date'] = pd.to_datetime(df['Date'])"
   ]
  },
  {
   "cell_type": "code",
   "execution_count": 94,
   "id": "5a6a430a",
   "metadata": {
    "scrolled": false
   },
   "outputs": [
    {
     "data": {
      "text/plain": [
       "count                  402859\n",
       "unique                    381\n",
       "top       2017-11-24 00:00:00\n",
       "freq                     2507\n",
       "first     2016-02-12 00:00:00\n",
       "last      2017-12-19 00:00:00\n",
       "Name: Date, dtype: object"
      ]
     },
     "execution_count": 94,
     "metadata": {},
     "output_type": "execute_result"
    }
   ],
   "source": [
    "df['Date'].describe()"
   ]
  },
  {
   "cell_type": "code",
   "execution_count": 95,
   "id": "5d5282c6",
   "metadata": {},
   "outputs": [
    {
     "data": {
      "text/plain": [
       "datetime.datetime(2017, 12, 20, 0, 0)"
      ]
     },
     "execution_count": 95,
     "metadata": {},
     "output_type": "execute_result"
    }
   ],
   "source": [
    "# Last transaction date in the dataset is 2017-12-19. Hence, considering 2017-12-20 as the reference\n",
    "# date to calculate recency\n",
    "\n",
    "latest_date = pd.datetime(2017,12,20)\n",
    "latest_date"
   ]
  },
  {
   "cell_type": "code",
   "execution_count": 96,
   "id": "7c4e98cb",
   "metadata": {},
   "outputs": [
    {
     "data": {
      "text/html": [
       "<div>\n",
       "<style scoped>\n",
       "    .dataframe tbody tr th:only-of-type {\n",
       "        vertical-align: middle;\n",
       "    }\n",
       "\n",
       "    .dataframe tbody tr th {\n",
       "        vertical-align: top;\n",
       "    }\n",
       "\n",
       "    .dataframe thead th {\n",
       "        text-align: right;\n",
       "    }\n",
       "</style>\n",
       "<table border=\"1\" class=\"dataframe\">\n",
       "  <thead>\n",
       "    <tr style=\"text-align: right;\">\n",
       "      <th></th>\n",
       "      <th>CustomerID</th>\n",
       "      <th>InvoiceNo</th>\n",
       "      <th>Date</th>\n",
       "      <th>Price</th>\n",
       "    </tr>\n",
       "  </thead>\n",
       "  <tbody>\n",
       "    <tr>\n",
       "      <th>0</th>\n",
       "      <td>4355.0</td>\n",
       "      <td>398177.0</td>\n",
       "      <td>2017-10-29</td>\n",
       "      <td>1926.0</td>\n",
       "    </tr>\n",
       "    <tr>\n",
       "      <th>1</th>\n",
       "      <td>4352.0</td>\n",
       "      <td>394422.0</td>\n",
       "      <td>2017-05-10</td>\n",
       "      <td>1740.0</td>\n",
       "    </tr>\n",
       "    <tr>\n",
       "      <th>2</th>\n",
       "      <td>4352.0</td>\n",
       "      <td>394422.0</td>\n",
       "      <td>2017-12-10</td>\n",
       "      <td>1866.0</td>\n",
       "    </tr>\n",
       "    <tr>\n",
       "      <th>3</th>\n",
       "      <td>4352.0</td>\n",
       "      <td>388633.0</td>\n",
       "      <td>2017-08-22</td>\n",
       "      <td>1869.0</td>\n",
       "    </tr>\n",
       "    <tr>\n",
       "      <th>4</th>\n",
       "      <td>4352.0</td>\n",
       "      <td>394422.0</td>\n",
       "      <td>2017-10-10</td>\n",
       "      <td>1888.0</td>\n",
       "    </tr>\n",
       "  </tbody>\n",
       "</table>\n",
       "</div>"
      ],
      "text/plain": [
       "   CustomerID  InvoiceNo       Date   Price\n",
       "0      4355.0   398177.0 2017-10-29  1926.0\n",
       "1      4352.0   394422.0 2017-05-10  1740.0\n",
       "2      4352.0   394422.0 2017-12-10  1866.0\n",
       "3      4352.0   388633.0 2017-08-22  1869.0\n",
       "4      4352.0   394422.0 2017-10-10  1888.0"
      ]
     },
     "execution_count": 96,
     "metadata": {},
     "output_type": "execute_result"
    }
   ],
   "source": [
    "df.head()"
   ]
  },
  {
   "cell_type": "code",
   "execution_count": 97,
   "id": "fa8e70d2",
   "metadata": {},
   "outputs": [],
   "source": [
    "# Grouping customerid and aggregating date, invoice, price columns to calculate the recency, frequency, monetary\n",
    "# Recency is the latest date cx purchased\n",
    "# Frequency is num of times cx purchased\n",
    "# monetary is value of of purchase\n",
    "\n",
    "RFMscore = df.groupby('CustomerID').agg({'Date': lambda x:(latest_date - x.max()).days,\n",
    "                                       'InvoiceNo': lambda x: x.count(),\n",
    "                                       'Price':lambda x: x.sum()})"
   ]
  },
  {
   "cell_type": "code",
   "execution_count": 98,
   "id": "b75f1396",
   "metadata": {},
   "outputs": [],
   "source": [
    "RFMscore.rename(columns = {'Date':'Recency','InvoiceNo':'Frequency','Price':'Monetary'},inplace=True)"
   ]
  },
  {
   "cell_type": "code",
   "execution_count": 99,
   "id": "6930cb80",
   "metadata": {},
   "outputs": [],
   "source": [
    "RFMscore.reset_index(inplace=True)"
   ]
  },
  {
   "cell_type": "code",
   "execution_count": 100,
   "id": "232f9d18",
   "metadata": {},
   "outputs": [
    {
     "data": {
      "text/html": [
       "<div>\n",
       "<style scoped>\n",
       "    .dataframe tbody tr th:only-of-type {\n",
       "        vertical-align: middle;\n",
       "    }\n",
       "\n",
       "    .dataframe tbody tr th {\n",
       "        vertical-align: top;\n",
       "    }\n",
       "\n",
       "    .dataframe thead th {\n",
       "        text-align: right;\n",
       "    }\n",
       "</style>\n",
       "<table border=\"1\" class=\"dataframe\">\n",
       "  <thead>\n",
       "    <tr style=\"text-align: right;\">\n",
       "      <th></th>\n",
       "      <th>CustomerID</th>\n",
       "      <th>Recency</th>\n",
       "      <th>Frequency</th>\n",
       "      <th>Monetary</th>\n",
       "    </tr>\n",
       "  </thead>\n",
       "  <tbody>\n",
       "    <tr>\n",
       "      <th>0</th>\n",
       "      <td>2.0</td>\n",
       "      <td>4</td>\n",
       "      <td>181</td>\n",
       "      <td>550416.0</td>\n",
       "    </tr>\n",
       "    <tr>\n",
       "      <th>1</th>\n",
       "      <td>3.0</td>\n",
       "      <td>77</td>\n",
       "      <td>27</td>\n",
       "      <td>257404.0</td>\n",
       "    </tr>\n",
       "    <tr>\n",
       "      <th>2</th>\n",
       "      <td>4.0</td>\n",
       "      <td>20</td>\n",
       "      <td>72</td>\n",
       "      <td>176613.0</td>\n",
       "    </tr>\n",
       "    <tr>\n",
       "      <th>3</th>\n",
       "      <td>5.0</td>\n",
       "      <td>18</td>\n",
       "      <td>16</td>\n",
       "      <td>41976.0</td>\n",
       "    </tr>\n",
       "    <tr>\n",
       "      <th>4</th>\n",
       "      <td>6.0</td>\n",
       "      <td>9</td>\n",
       "      <td>84</td>\n",
       "      <td>151822.0</td>\n",
       "    </tr>\n",
       "  </tbody>\n",
       "</table>\n",
       "</div>"
      ],
      "text/plain": [
       "   CustomerID  Recency  Frequency  Monetary\n",
       "0         2.0        4        181  550416.0\n",
       "1         3.0       77         27  257404.0\n",
       "2         4.0       20         72  176613.0\n",
       "3         5.0       18         16   41976.0\n",
       "4         6.0        9         84  151822.0"
      ]
     },
     "execution_count": 100,
     "metadata": {},
     "output_type": "execute_result"
    }
   ],
   "source": [
    "# RFM score\n",
    "\n",
    "RFMscore.head()"
   ]
  },
  {
   "cell_type": "code",
   "execution_count": 101,
   "id": "2c7791c9",
   "metadata": {},
   "outputs": [
    {
     "name": "stdout",
     "output_type": "stream",
     "text": [
      "****************** CustomerID **************\n",
      "\n",
      "{2.0, 3.0, 4.0, 5.0, 6.0, 7.0, 8.0, 9.0, 10.0, 11.0, 12.0, 13.0, 14.0, 15.0, 16.0, 17.0, 18.0, 19.0, 20.0, 21.0, 22.0, 23.0, 24.0, 25.0, 26.0, 27.0, 28.0, 29.0, 30.0, 31.0, 32.0, 33.0, 34.0, 35.0, 36.0, 37.0, 38.0, 39.0, 40.0, 41.0, 42.0, 43.0, 44.0, 45.0, 46.0, 47.0, 48.0, 49.0, 50.0, 51.0, 52.0, 53.0, 54.0, 55.0, 56.0, 57.0, 58.0, 59.0, 60.0, 61.0, 62.0, 63.0, 64.0, 65.0, 66.0, 67.0, 68.0, 69.0, 70.0, 71.0, 72.0, 73.0, 74.0, 75.0, 76.0, 77.0, 78.0, 79.0, 80.0, 81.0, 82.0, 83.0, 84.0, 85.0, 86.0, 87.0, 88.0, 89.0, 90.0, 91.0, 92.0, 93.0, 94.0, 95.0, 96.0, 97.0, 98.0, 99.0, 100.0, 101.0, 102.0, 103.0, 104.0, 105.0, 106.0, 107.0, 108.0, 109.0, 110.0, 111.0, 112.0, 113.0, 114.0, 115.0, 116.0, 117.0, 118.0, 119.0, 120.0, 121.0, 122.0, 123.0, 124.0, 125.0, 127.0, 129.0, 130.0, 131.0, 132.0, 133.0, 134.0, 135.0, 136.0, 137.0, 138.0, 139.0, 140.0, 141.0, 142.0, 143.0, 144.0, 145.0, 146.0, 147.0, 148.0, 149.0, 150.0, 151.0, 152.0, 153.0, 154.0, 155.0, 156.0, 157.0, 158.0, 159.0, 160.0, 161.0, 162.0, 163.0, 164.0, 165.0, 166.0, 167.0, 168.0, 169.0, 170.0, 171.0, 172.0, 173.0, 174.0, 175.0, 176.0, 177.0, 178.0, 179.0, 180.0, 181.0, 182.0, 183.0, 184.0, 185.0, 186.0, 187.0, 188.0, 189.0, 190.0, 191.0, 192.0, 193.0, 194.0, 195.0, 196.0, 197.0, 198.0, 199.0, 200.0, 201.0, 202.0, 203.0, 204.0, 205.0, 206.0, 207.0, 208.0, 209.0, 210.0, 211.0, 212.0, 213.0, 214.0, 215.0, 216.0, 217.0, 218.0, 219.0, 220.0, 221.0, 222.0, 223.0, 224.0, 225.0, 226.0, 227.0, 228.0, 229.0, 230.0, 231.0, 232.0, 233.0, 234.0, 235.0, 236.0, 237.0, 238.0, 239.0, 240.0, 241.0, 242.0, 243.0, 244.0, 245.0, 246.0, 247.0, 248.0, 249.0, 250.0, 251.0, 252.0, 253.0, 254.0, 255.0, 256.0, 257.0, 258.0, 259.0, 260.0, 261.0, 262.0, 263.0, 264.0, 266.0, 267.0, 268.0, 269.0, 270.0, 271.0, 272.0, 273.0, 274.0, 275.0, 276.0, 277.0, 278.0, 279.0, 280.0, 281.0, 282.0, 283.0, 284.0, 285.0, 286.0, 287.0, 288.0, 289.0, 290.0, 291.0, 292.0, 293.0, 294.0, 295.0, 296.0, 297.0, 298.0, 299.0, 300.0, 301.0, 302.0, 303.0, 304.0, 305.0, 306.0, 307.0, 308.0, 309.0, 310.0, 311.0, 312.0, 313.0, 314.0, 315.0, 316.0, 317.0, 318.0, 319.0, 320.0, 321.0, 322.0, 323.0, 324.0, 325.0, 326.0, 327.0, 328.0, 329.0, 330.0, 331.0, 332.0, 333.0, 334.0, 335.0, 336.0, 337.0, 338.0, 339.0, 340.0, 341.0, 342.0, 343.0, 344.0, 345.0, 346.0, 347.0, 348.0, 349.0, 350.0, 351.0, 352.0, 353.0, 354.0, 355.0, 356.0, 357.0, 358.0, 359.0, 360.0, 361.0, 362.0, 363.0, 364.0, 365.0, 366.0, 367.0, 368.0, 369.0, 370.0, 371.0, 372.0, 373.0, 374.0, 375.0, 376.0, 377.0, 378.0, 379.0, 380.0, 381.0, 382.0, 383.0, 384.0, 385.0, 386.0, 387.0, 388.0, 389.0, 390.0, 391.0, 392.0, 393.0, 394.0, 395.0, 396.0, 397.0, 398.0, 399.0, 400.0, 401.0, 402.0, 403.0, 404.0, 405.0, 406.0, 407.0, 408.0, 409.0, 410.0, 411.0, 412.0, 413.0, 414.0, 415.0, 416.0, 417.0, 418.0, 419.0, 420.0, 421.0, 422.0, 423.0, 424.0, 425.0, 426.0, 427.0, 428.0, 429.0, 430.0, 431.0, 432.0, 433.0, 434.0, 435.0, 436.0, 437.0, 438.0, 439.0, 440.0, 441.0, 442.0, 443.0, 444.0, 445.0, 446.0, 447.0, 448.0, 449.0, 450.0, 451.0, 452.0, 453.0, 454.0, 455.0, 456.0, 457.0, 458.0, 459.0, 460.0, 461.0, 462.0, 463.0, 464.0, 465.0, 466.0, 467.0, 468.0, 469.0, 470.0, 471.0, 472.0, 473.0, 474.0, 475.0, 476.0, 477.0, 478.0, 479.0, 480.0, 481.0, 482.0, 483.0, 484.0, 485.0, 486.0, 487.0, 488.0, 489.0, 490.0, 491.0, 492.0, 493.0, 494.0, 495.0, 496.0, 497.0, 498.0, 499.0, 500.0, 501.0, 502.0, 503.0, 504.0, 505.0, 506.0, 507.0, 508.0, 509.0, 510.0, 511.0, 512.0, 513.0, 514.0, 515.0, 516.0, 517.0, 518.0, 519.0, 520.0, 521.0, 522.0, 523.0, 524.0, 525.0, 526.0, 527.0, 528.0, 529.0, 530.0, 531.0, 532.0, 533.0, 534.0, 535.0, 536.0, 537.0, 538.0, 539.0, 540.0, 541.0, 542.0, 543.0, 544.0, 545.0, 546.0, 547.0, 548.0, 549.0, 550.0, 551.0, 552.0, 553.0, 554.0, 555.0, 556.0, 557.0, 558.0, 559.0, 560.0, 561.0, 562.0, 563.0, 564.0, 565.0, 566.0, 567.0, 568.0, 569.0, 570.0, 571.0, 572.0, 573.0, 574.0, 575.0, 576.0, 577.0, 578.0, 579.0, 580.0, 581.0, 582.0, 583.0, 584.0, 585.0, 586.0, 587.0, 588.0, 589.0, 590.0, 591.0, 592.0, 593.0, 594.0, 595.0, 596.0, 597.0, 598.0, 599.0, 600.0, 601.0, 602.0, 603.0, 605.0, 606.0, 607.0, 608.0, 609.0, 610.0, 611.0, 612.0, 613.0, 614.0, 615.0, 616.0, 617.0, 618.0, 619.0, 621.0, 622.0, 623.0, 624.0, 625.0, 626.0, 627.0, 628.0, 629.0, 630.0, 631.0, 632.0, 633.0, 634.0, 635.0, 636.0, 637.0, 638.0, 639.0, 640.0, 641.0, 642.0, 643.0, 644.0, 645.0, 646.0, 647.0, 648.0, 649.0, 650.0, 651.0, 652.0, 653.0, 654.0, 655.0, 656.0, 657.0, 658.0, 659.0, 660.0, 661.0, 662.0, 663.0, 664.0, 665.0, 666.0, 667.0, 668.0, 669.0, 670.0, 671.0, 672.0, 673.0, 674.0, 675.0, 676.0, 677.0, 678.0, 679.0, 680.0, 681.0, 682.0, 683.0, 684.0, 685.0, 686.0, 687.0, 688.0, 689.0, 690.0, 691.0, 692.0, 694.0, 695.0, 696.0, 697.0, 698.0, 699.0, 700.0, 701.0, 702.0, 703.0, 704.0, 705.0, 706.0, 707.0, 708.0, 709.0, 710.0, 711.0, 712.0, 713.0, 714.0, 715.0, 716.0, 717.0, 718.0, 719.0, 720.0, 721.0, 722.0, 723.0, 724.0, 725.0, 726.0, 727.0, 728.0, 729.0, 730.0, 731.0, 732.0, 733.0, 734.0, 735.0, 736.0, 737.0, 738.0, 739.0, 740.0, 741.0, 742.0, 743.0, 744.0, 745.0, 746.0, 747.0, 748.0, 749.0, 750.0, 751.0, 752.0, 753.0, 754.0, 755.0, 756.0, 757.0, 758.0, 759.0, 760.0, 761.0, 762.0, 763.0, 764.0, 765.0, 766.0, 767.0, 768.0, 769.0, 770.0, 771.0, 772.0, 773.0, 774.0, 775.0, 776.0, 777.0, 778.0, 779.0, 780.0, 781.0, 782.0, 783.0, 784.0, 785.0, 786.0, 787.0, 788.0, 789.0, 790.0, 791.0, 792.0, 793.0, 794.0, 795.0, 796.0, 797.0, 798.0, 799.0, 800.0, 801.0, 802.0, 803.0, 804.0, 805.0, 806.0, 807.0, 808.0, 809.0, 810.0, 811.0, 812.0, 813.0, 814.0, 815.0, 816.0, 817.0, 818.0, 819.0, 820.0, 821.0, 822.0, 823.0, 824.0, 825.0, 826.0, 827.0, 828.0, 829.0, 830.0, 831.0, 832.0, 833.0, 834.0, 835.0, 836.0, 837.0, 838.0, 839.0, 840.0, 841.0, 842.0, 843.0, 844.0, 845.0, 846.0, 847.0, 848.0, 849.0, 850.0, 851.0, 852.0, 853.0, 854.0, 855.0, 856.0, 857.0, 858.0, 859.0, 860.0, 861.0, 862.0, 863.0, 864.0, 865.0, 866.0, 867.0, 868.0, 869.0, 870.0, 871.0, 872.0, 873.0, 874.0, 875.0, 876.0, 877.0, 878.0, 879.0, 880.0, 881.0, 882.0, 883.0, 884.0, 885.0, 886.0, 887.0, 888.0, 889.0, 890.0, 891.0, 892.0, 893.0, 894.0, 895.0, 896.0, 897.0, 898.0, 899.0, 900.0, 901.0, 902.0, 903.0, 904.0, 905.0, 906.0, 907.0, 908.0, 909.0, 910.0, 911.0, 912.0, 913.0, 914.0, 915.0, 916.0, 917.0, 918.0, 919.0, 920.0, 921.0, 922.0, 923.0, 924.0, 925.0, 926.0, 927.0, 928.0, 929.0, 930.0, 931.0, 932.0, 933.0, 934.0, 935.0, 936.0, 937.0, 938.0, 939.0, 940.0, 941.0, 942.0, 943.0, 944.0, 945.0, 946.0, 947.0, 948.0, 949.0, 950.0, 951.0, 952.0, 953.0, 954.0, 955.0, 956.0, 957.0, 958.0, 959.0, 960.0, 961.0, 962.0, 963.0, 964.0, 965.0, 966.0, 967.0, 968.0, 969.0, 970.0, 971.0, 972.0, 973.0, 974.0, 975.0, 976.0, 977.0, 978.0, 979.0, 980.0, 981.0, 982.0, 983.0, 984.0, 985.0, 986.0, 987.0, 988.0, 989.0, 990.0, 991.0, 992.0, 993.0, 994.0, 995.0, 996.0, 997.0, 998.0, 999.0, 1000.0, 1001.0, 1002.0, 1003.0, 1004.0, 1005.0, 1006.0, 1007.0, 1008.0, 1009.0, 1010.0, 1011.0, 1012.0, 1013.0, 1014.0, 1015.0, 1016.0, 1017.0, 1018.0, 1019.0, 1020.0, 1021.0, 1022.0, 1023.0, 1024.0, 1025.0, 1026.0, 1027.0, 1028.0, 1029.0, 1030.0, 1031.0, 1032.0, 1033.0, 1034.0, 1035.0, 1036.0, 1037.0, 1038.0, 1039.0, 1040.0, 1041.0, 1042.0, 1043.0, 1044.0, 1045.0, 1046.0, 1047.0, 1048.0, 1049.0, 1050.0, 1051.0, 1052.0, 1053.0, 1054.0, 1055.0, 1056.0, 1057.0, 1058.0, 1059.0, 1060.0, 1061.0, 1062.0, 1063.0, 1064.0, 1065.0, 1066.0, 1067.0, 1068.0, 1069.0, 1070.0, 1071.0, 1072.0, 1073.0, 1074.0, 1075.0, 1076.0, 1077.0, 1078.0, 1079.0, 1080.0, 1081.0, 1082.0, 1083.0, 1084.0, 1085.0, 1086.0, 1087.0, 1088.0, 1089.0, 1090.0, 1091.0, 1092.0, 1093.0, 1094.0, 1095.0, 1096.0, 1097.0, 1098.0, 1099.0, 1100.0, 1101.0, 1102.0, 1103.0, 1104.0, 1105.0, 1106.0, 1108.0, 1109.0, 1110.0, 1111.0, 1112.0, 1113.0, 1114.0, 1115.0, 1116.0, 1117.0, 1118.0, 1119.0, 1120.0, 1121.0, 1122.0, 1123.0, 1124.0, 1125.0, 1126.0, 1127.0, 1128.0, 1129.0, 1130.0, 1131.0, 1132.0, 1133.0, 1134.0, 1135.0, 1136.0, 1137.0, 1138.0, 1139.0, 1140.0, 1141.0, 1142.0, 1143.0, 1144.0, 1145.0, 1146.0, 1147.0, 1148.0, 1149.0, 1150.0, 1151.0, 1152.0, 1153.0, 1154.0, 1155.0, 1156.0, 1157.0, 1158.0, 1159.0, 1160.0, 1161.0, 1162.0, 1163.0, 1164.0, 1165.0, 1166.0, 1167.0, 1168.0, 1169.0, 1170.0, 1171.0, 1172.0, 1173.0, 1174.0, 1175.0, 1176.0, 1177.0, 1178.0, 1179.0, 1180.0, 1181.0, 1182.0, 1183.0, 1184.0, 1185.0, 1186.0, 1187.0, 1188.0, 1189.0, 1190.0, 1191.0, 1192.0, 1193.0, 1194.0, 1195.0, 1196.0, 1197.0, 1198.0, 1199.0, 1200.0, 1201.0, 1202.0, 1203.0, 1204.0, 1205.0, 1206.0, 1207.0, 1208.0, 1209.0, 1210.0, 1211.0, 1212.0, 1213.0, 1214.0, 1215.0, 1216.0, 1217.0, 1218.0, 1219.0, 1220.0, 1221.0, 1222.0, 1223.0, 1224.0, 1225.0, 1226.0, 1227.0, 1228.0, 1229.0, 1230.0, 1231.0, 1232.0, 1233.0, 1234.0, 1235.0, 1236.0, 1237.0, 1238.0, 1239.0, 1240.0, 1241.0, 1242.0, 1243.0, 1244.0, 1245.0, 1246.0, 1247.0, 1248.0, 1249.0, 1250.0, 1251.0, 1252.0, 1253.0, 1254.0, 1255.0, 1256.0, 1257.0, 1258.0, 1259.0, 1260.0, 1261.0, 1262.0, 1263.0, 1264.0, 1265.0, 1266.0, 1267.0, 1268.0, 1269.0, 1270.0, 1271.0, 1272.0, 1273.0, 1274.0, 1275.0, 1276.0, 1277.0, 1278.0, 1279.0, 1280.0, 1281.0, 1282.0, 1283.0, 1284.0, 1285.0, 1286.0, 1287.0, 1288.0, 1289.0, 1290.0, 1291.0, 1292.0, 1293.0, 1294.0, 1295.0, 1296.0, 1297.0, 1298.0, 1299.0, 1300.0, 1301.0, 1302.0, 1303.0, 1304.0, 1305.0, 1306.0, 1307.0, 1308.0, 1309.0, 1310.0, 1311.0, 1312.0, 1313.0, 1314.0, 1315.0, 1316.0, 1317.0, 1318.0, 1319.0, 1320.0, 1321.0, 1322.0, 1323.0, 1324.0, 1325.0, 1326.0, 1327.0, 1328.0, 1329.0, 1330.0, 1331.0, 1332.0, 1333.0, 1334.0, 1335.0, 1336.0, 1337.0, 1338.0, 1339.0, 1340.0, 1341.0, 1342.0, 1343.0, 1344.0, 1345.0, 1346.0, 1347.0, 1348.0, 1349.0, 1350.0, 1351.0, 1352.0, 1353.0, 1354.0, 1355.0, 1356.0, 1357.0, 1358.0, 1359.0, 1360.0, 1361.0, 1362.0, 1363.0, 1364.0, 1365.0, 1366.0, 1367.0, 1368.0, 1369.0, 1370.0, 1371.0, 1372.0, 1373.0, 1374.0, 1375.0, 1376.0, 1377.0, 1378.0, 1379.0, 1380.0, 1381.0, 1382.0, 1383.0, 1384.0, 1386.0, 1387.0, 1388.0, 1389.0, 1390.0, 1391.0, 1392.0, 1393.0, 1394.0, 1395.0, 1396.0, 1397.0, 1398.0, 1399.0, 1400.0, 1401.0, 1402.0, 1403.0, 1404.0, 1405.0, 1406.0, 1407.0, 1408.0, 1409.0, 1410.0, 1411.0, 1412.0, 1413.0, 1414.0, 1415.0, 1416.0, 1417.0, 1418.0, 1419.0, 1420.0, 1421.0, 1422.0, 1423.0, 1424.0, 1425.0, 1426.0, 1427.0, 1428.0, 1429.0, 1430.0, 1431.0, 1432.0, 1433.0, 1434.0, 1435.0, 1436.0, 1437.0, 1438.0, 1439.0, 1440.0, 1441.0, 1442.0, 1443.0, 1444.0, 1445.0, 1446.0, 1447.0, 1448.0, 1449.0, 1450.0, 1451.0, 1452.0, 1453.0, 1454.0, 1455.0, 1456.0, 1457.0, 1458.0, 1459.0, 1460.0, 1461.0, 1462.0, 1463.0, 1464.0, 1465.0, 1466.0, 1467.0, 1468.0, 1469.0, 1470.0, 1471.0, 1472.0, 1473.0, 1474.0, 1475.0, 1476.0, 1477.0, 1478.0, 1479.0, 1480.0, 1481.0, 1482.0, 1483.0, 1484.0, 1485.0, 1486.0, 1487.0, 1488.0, 1489.0, 1490.0, 1491.0, 1492.0, 1493.0, 1494.0, 1495.0, 1496.0, 1497.0, 1498.0, 1499.0, 1500.0, 1501.0, 1502.0, 1503.0, 1504.0, 1505.0, 1506.0, 1507.0, 1508.0, 1509.0, 1510.0, 1511.0, 1512.0, 1513.0, 1514.0, 1515.0, 1516.0, 1517.0, 1518.0, 1519.0, 1520.0, 1521.0, 1522.0, 1523.0, 1524.0, 1525.0, 1526.0, 1527.0, 1528.0, 1529.0, 1530.0, 1531.0, 1532.0, 1533.0, 1534.0, 1535.0, 1536.0, 1537.0, 1538.0, 1539.0, 1540.0, 1541.0, 1542.0, 1543.0, 1544.0, 1545.0, 1546.0, 1547.0, 1548.0, 1549.0, 1550.0, 1551.0, 1552.0, 1553.0, 1554.0, 1555.0, 1556.0, 1557.0, 1558.0, 1559.0, 1560.0, 1561.0, 1562.0, 1563.0, 1564.0, 1565.0, 1566.0, 1567.0, 1568.0, 1569.0, 1570.0, 1571.0, 1572.0, 1573.0, 1574.0, 1575.0, 1576.0, 1577.0, 1578.0, 1579.0, 1580.0, 1581.0, 1582.0, 1583.0, 1584.0, 1585.0, 1586.0, 1587.0, 1588.0, 1589.0, 1590.0, 1591.0, 1592.0, 1593.0, 1594.0, 1595.0, 1596.0, 1597.0, 1598.0, 1599.0, 1600.0, 1601.0, 1602.0, 1603.0, 1604.0, 1605.0, 1606.0, 1607.0, 1608.0, 1609.0, 1610.0, 1611.0, 1612.0, 1613.0, 1614.0, 1615.0, 1616.0, 1617.0, 1618.0, 1619.0, 1620.0, 1621.0, 1622.0, 1623.0, 1624.0, 1625.0, 1626.0, 1627.0, 1628.0, 1629.0, 1630.0, 1631.0, 1632.0, 1633.0, 1634.0, 1635.0, 1636.0, 1637.0, 1638.0, 1639.0, 1640.0, 1641.0, 1642.0, 1643.0, 1644.0, 1645.0, 1646.0, 1647.0, 1648.0, 1649.0, 1650.0, 1651.0, 1652.0, 1653.0, 1654.0, 1655.0, 1656.0, 1657.0, 1658.0, 1659.0, 1660.0, 1661.0, 1662.0, 1663.0, 1664.0, 1665.0, 1666.0, 1667.0, 1668.0, 1669.0, 1670.0, 1671.0, 1672.0, 1673.0, 1674.0, 1675.0, 1676.0, 1677.0, 1678.0, 1679.0, 1680.0, 1681.0, 1682.0, 1683.0, 1684.0, 1685.0, 1686.0, 1687.0, 1688.0, 1689.0, 1690.0, 1691.0, 1692.0, 1693.0, 1694.0, 1695.0, 1696.0, 1697.0, 1698.0, 1699.0, 1700.0, 1701.0, 1702.0, 1703.0, 1704.0, 1705.0, 1706.0, 1707.0, 1708.0, 1709.0, 1710.0, 1711.0, 1712.0, 1713.0, 1714.0, 1715.0, 1716.0, 1717.0, 1718.0, 1719.0, 1720.0, 1721.0, 1722.0, 1723.0, 1724.0, 1725.0, 1726.0, 1727.0, 1728.0, 1729.0, 1730.0, 1731.0, 1732.0, 1733.0, 1734.0, 1735.0, 1736.0, 1737.0, 1738.0, 1739.0, 1740.0, 1741.0, 1742.0, 1743.0, 1744.0, 1745.0, 1746.0, 1747.0, 1748.0, 1749.0, 1750.0, 1751.0, 1752.0, 1753.0, 1754.0, 1755.0, 1756.0, 1757.0, 1758.0, 1759.0, 1760.0, 1761.0, 1762.0, 1763.0, 1764.0, 1765.0, 1766.0, 1767.0, 1768.0, 1769.0, 1770.0, 1771.0, 1772.0, 1773.0, 1774.0, 1775.0, 1776.0, 1777.0, 1778.0, 1779.0, 1780.0, 1781.0, 1782.0, 1783.0, 1784.0, 1785.0, 1786.0, 1787.0, 1788.0, 1789.0, 1790.0, 1791.0, 1792.0, 1793.0, 1794.0, 1795.0, 1796.0, 1797.0, 1798.0, 1799.0, 1800.0, 1801.0, 1802.0, 1803.0, 1804.0, 1805.0, 1806.0, 1807.0, 1808.0, 1809.0, 1810.0, 1811.0, 1812.0, 1813.0, 1814.0, 1815.0, 1816.0, 1817.0, 1818.0, 1819.0, 1820.0, 1821.0, 1822.0, 1823.0, 1824.0, 1825.0, 1826.0, 1827.0, 1828.0, 1829.0, 1830.0, 1831.0, 1832.0, 1833.0, 1834.0, 1835.0, 1836.0, 1837.0, 1838.0, 1839.0, 1840.0, 1841.0, 1842.0, 1843.0, 1844.0, 1845.0, 1846.0, 1847.0, 1848.0, 1849.0, 1850.0, 1851.0, 1852.0, 1853.0, 1854.0, 1855.0, 1856.0, 1857.0, 1858.0, 1859.0, 1860.0, 1861.0, 1862.0, 1863.0, 1864.0, 1865.0, 1866.0, 1867.0, 1868.0, 1869.0, 1870.0, 1871.0, 1872.0, 1873.0, 1874.0, 1875.0, 1876.0, 1877.0, 1878.0, 1879.0, 1880.0, 1881.0, 1882.0, 1883.0, 1884.0, 1885.0, 1886.0, 1887.0, 1888.0, 1889.0, 1890.0, 1891.0, 1892.0, 1893.0, 1894.0, 1895.0, 1896.0, 1897.0, 1898.0, 1899.0, 1900.0, 1901.0, 1902.0, 1903.0, 1904.0, 1905.0, 1906.0, 1907.0, 1908.0, 1909.0, 1910.0, 1911.0, 1912.0, 1913.0, 1914.0, 1915.0, 1916.0, 1917.0, 1918.0, 1919.0, 1920.0, 1921.0, 1922.0, 1923.0, 1924.0, 1925.0, 1926.0, 1927.0, 1928.0, 1929.0, 1930.0, 1931.0, 1932.0, 1933.0, 1934.0, 1935.0, 1936.0, 1937.0, 1938.0, 1939.0, 1940.0, 1941.0, 1942.0, 1943.0, 1944.0, 1945.0, 1946.0, 1947.0, 1948.0, 1949.0, 1950.0, 1951.0, 1952.0, 1953.0, 1954.0, 1955.0, 1956.0, 1957.0, 1958.0, 1959.0, 1960.0, 1961.0, 1962.0, 1963.0, 1964.0, 1965.0, 1966.0, 1967.0, 1968.0, 1969.0, 1970.0, 1971.0, 1972.0, 1973.0, 1974.0, 1975.0, 1976.0, 1977.0, 1978.0, 1979.0, 1980.0, 1981.0, 1982.0, 1983.0, 1984.0, 1985.0, 1986.0, 1987.0, 1988.0, 1989.0, 1990.0, 1991.0, 1992.0, 1993.0, 1994.0, 1995.0, 1996.0, 1997.0, 1998.0, 1999.0, 2000.0, 2001.0, 2002.0, 2003.0, 2004.0, 2005.0, 2006.0, 2007.0, 2008.0, 2009.0, 2010.0, 2011.0, 2012.0, 2013.0, 2014.0, 2015.0, 2016.0, 2017.0, 2018.0, 2019.0, 2020.0, 2021.0, 2022.0, 2023.0, 2024.0, 2025.0, 2026.0, 2027.0, 2028.0, 2029.0, 2030.0, 2031.0, 2032.0, 2033.0, 2034.0, 2035.0, 2036.0, 2037.0, 2038.0, 2039.0, 2040.0, 2041.0, 2042.0, 2043.0, 2044.0, 2045.0, 2047.0, 2048.0, 2049.0, 2050.0, 2051.0, 2052.0, 2053.0, 2054.0, 2055.0, 2056.0, 2057.0, 2058.0, 2059.0, 2060.0, 2061.0, 2062.0, 2063.0, 2064.0, 2065.0, 2066.0, 2067.0, 2068.0, 2069.0, 2070.0, 2071.0, 2072.0, 2073.0, 2074.0, 2075.0, 2076.0, 2077.0, 2078.0, 2079.0, 2080.0, 2081.0, 2082.0, 2083.0, 2084.0, 2085.0, 2086.0, 2087.0, 2088.0, 2089.0, 2090.0, 2091.0, 2092.0, 2093.0, 2094.0, 2095.0, 2096.0, 2097.0, 2098.0, 2099.0, 2100.0, 2101.0, 2102.0, 2103.0, 2105.0, 2106.0, 2107.0, 2108.0, 2109.0, 2110.0, 2111.0, 2112.0, 2113.0, 2114.0, 2115.0, 2116.0, 2117.0, 2118.0, 2119.0, 2120.0, 2121.0, 2122.0, 2123.0, 2124.0, 2125.0, 2126.0, 2127.0, 2128.0, 2129.0, 2130.0, 2131.0, 2132.0, 2133.0, 2134.0, 2135.0, 2136.0, 2137.0, 2138.0, 2139.0, 2140.0, 2141.0, 2142.0, 2143.0, 2144.0, 2145.0, 2146.0, 2147.0, 2148.0, 2149.0, 2150.0, 2151.0, 2152.0, 2153.0, 2154.0, 2155.0, 2156.0, 2157.0, 2158.0, 2159.0, 2160.0, 2161.0, 2162.0, 2163.0, 2164.0, 2165.0, 2166.0, 2167.0, 2168.0, 2169.0, 2170.0, 2171.0, 2172.0, 2173.0, 2174.0, 2175.0, 2176.0, 2177.0, 2178.0, 2179.0, 2180.0, 2181.0, 2182.0, 2183.0, 2184.0, 2185.0, 2186.0, 2187.0, 2188.0, 2189.0, 2190.0, 2191.0, 2192.0, 2193.0, 2194.0, 2195.0, 2196.0, 2197.0, 2198.0, 2199.0, 2200.0, 2201.0, 2202.0, 2203.0, 2204.0, 2205.0, 2206.0, 2207.0, 2208.0, 2209.0, 2210.0, 2211.0, 2212.0, 2213.0, 2214.0, 2215.0, 2216.0, 2217.0, 2218.0, 2219.0, 2220.0, 2221.0, 2222.0, 2223.0, 2224.0, 2225.0, 2226.0, 2227.0, 2228.0, 2229.0, 2230.0, 2231.0, 2232.0, 2233.0, 2234.0, 2235.0, 2236.0, 2238.0, 2239.0, 2240.0, 2241.0, 2242.0, 2243.0, 2244.0, 2245.0, 2246.0, 2247.0, 2248.0, 2249.0, 2250.0, 2251.0, 2252.0, 2253.0, 2254.0, 2255.0, 2256.0, 2257.0, 2258.0, 2259.0, 2260.0, 2261.0, 2262.0, 2263.0, 2264.0, 2265.0, 2266.0, 2267.0, 2268.0, 2269.0, 2270.0, 2271.0, 2272.0, 2273.0, 2274.0, 2275.0, 2276.0, 2277.0, 2278.0, 2279.0, 2280.0, 2281.0, 2282.0, 2283.0, 2284.0, 2285.0, 2286.0, 2287.0, 2288.0, 2289.0, 2290.0, 2291.0, 2292.0, 2293.0, 2294.0, 2295.0, 2296.0, 2297.0, 2298.0, 2299.0, 2300.0, 2301.0, 2302.0, 2303.0, 2304.0, 2305.0, 2306.0, 2307.0, 2308.0, 2309.0, 2310.0, 2311.0, 2312.0, 2313.0, 2314.0, 2315.0, 2316.0, 2317.0, 2318.0, 2319.0, 2320.0, 2321.0, 2322.0, 2323.0, 2324.0, 2325.0, 2326.0, 2327.0, 2328.0, 2329.0, 2330.0, 2331.0, 2332.0, 2333.0, 2334.0, 2335.0, 2336.0, 2337.0, 2338.0, 2339.0, 2340.0, 2341.0, 2342.0, 2343.0, 2344.0, 2345.0, 2346.0, 2347.0, 2348.0, 2349.0, 2350.0, 2351.0, 2352.0, 2353.0, 2354.0, 2355.0, 2356.0, 2357.0, 2358.0, 2359.0, 2360.0, 2361.0, 2362.0, 2363.0, 2364.0, 2365.0, 2366.0, 2367.0, 2368.0, 2369.0, 2370.0, 2371.0, 2372.0, 2373.0, 2374.0, 2375.0, 2376.0, 2377.0, 2378.0, 2379.0, 2380.0, 2381.0, 2382.0, 2383.0, 2384.0, 2385.0, 2386.0, 2387.0, 2388.0, 2389.0, 2390.0, 2391.0, 2392.0, 2393.0, 2394.0, 2395.0, 2396.0, 2397.0, 2398.0, 2399.0, 2400.0, 2402.0, 2403.0, 2404.0, 2405.0, 2406.0, 2407.0, 2408.0, 2409.0, 2410.0, 2411.0, 2412.0, 2413.0, 2414.0, 2415.0, 2416.0, 2417.0, 2418.0, 2419.0, 2420.0, 2421.0, 2422.0, 2423.0, 2424.0, 2425.0, 2426.0, 2427.0, 2428.0, 2429.0, 2430.0, 2431.0, 2432.0, 2433.0, 2434.0, 2435.0, 2436.0, 2437.0, 2438.0, 2439.0, 2440.0, 2441.0, 2442.0, 2443.0, 2444.0, 2445.0, 2446.0, 2447.0, 2448.0, 2449.0, 2450.0, 2451.0, 2452.0, 2453.0, 2454.0, 2455.0, 2456.0, 2457.0, 2458.0, 2459.0, 2460.0, 2461.0, 2462.0, 2463.0, 2464.0, 2465.0, 2466.0, 2467.0, 2468.0, 2469.0, 2470.0, 2471.0, 2472.0, 2473.0, 2474.0, 2475.0, 2476.0, 2477.0, 2478.0, 2479.0, 2480.0, 2481.0, 2482.0, 2483.0, 2484.0, 2485.0, 2486.0, 2487.0, 2488.0, 2489.0, 2490.0, 2491.0, 2492.0, 2493.0, 2494.0, 2495.0, 2496.0, 2497.0, 2498.0, 2499.0, 2500.0, 2501.0, 2502.0, 2503.0, 2504.0, 2505.0, 2506.0, 2507.0, 2508.0, 2509.0, 2510.0, 2511.0, 2512.0, 2513.0, 2514.0, 2515.0, 2516.0, 2517.0, 2518.0, 2519.0, 2520.0, 2521.0, 2522.0, 2524.0, 2525.0, 2526.0, 2527.0, 2528.0, 2529.0, 2530.0, 2531.0, 2532.0, 2533.0, 2534.0, 2535.0, 2536.0, 2537.0, 2538.0, 2539.0, 2540.0, 2541.0, 2542.0, 2543.0, 2544.0, 2545.0, 2546.0, 2547.0, 2548.0, 2549.0, 2550.0, 2551.0, 2552.0, 2553.0, 2554.0, 2555.0, 2556.0, 2557.0, 2558.0, 2559.0, 2560.0, 2562.0, 2563.0, 2564.0, 2565.0, 2566.0, 2567.0, 2568.0, 2569.0, 2570.0, 2571.0, 2572.0, 2573.0, 2574.0, 2575.0, 2576.0, 2577.0, 2578.0, 2579.0, 2580.0, 2581.0, 2582.0, 2583.0, 2584.0, 2585.0, 2586.0, 2587.0, 2588.0, 2589.0, 2590.0, 2591.0, 2592.0, 2593.0, 2594.0, 2595.0, 2596.0, 2597.0, 2598.0, 2599.0, 2600.0, 2601.0, 2602.0, 2603.0, 2604.0, 2605.0, 2606.0, 2607.0, 2608.0, 2609.0, 2610.0, 2611.0, 2612.0, 2613.0, 2614.0, 2615.0, 2616.0, 2617.0, 2618.0, 2619.0, 2620.0, 2621.0, 2622.0, 2623.0, 2624.0, 2625.0, 2626.0, 2627.0, 2628.0, 2629.0, 2630.0, 2631.0, 2632.0, 2633.0, 2634.0, 2635.0, 2636.0, 2637.0, 2638.0, 2639.0, 2640.0, 2641.0, 2642.0, 2643.0, 2644.0, 2645.0, 2646.0, 2647.0, 2648.0, 2649.0, 2650.0, 2651.0, 2652.0, 2653.0, 2654.0, 2655.0, 2656.0, 2657.0, 2658.0, 2659.0, 2660.0, 2661.0, 2662.0, 2663.0, 2664.0, 2665.0, 2666.0, 2667.0, 2668.0, 2669.0, 2670.0, 2671.0, 2672.0, 2673.0, 2674.0, 2675.0, 2676.0, 2677.0, 2678.0, 2679.0, 2680.0, 2681.0, 2682.0, 2683.0, 2684.0, 2685.0, 2686.0, 2687.0, 2688.0, 2689.0, 2690.0, 2691.0, 2692.0, 2693.0, 2694.0, 2695.0, 2696.0, 2697.0, 2698.0, 2700.0, 2701.0, 2702.0, 2703.0, 2704.0, 2705.0, 2706.0, 2707.0, 2708.0, 2709.0, 2710.0, 2711.0, 2712.0, 2713.0, 2714.0, 2715.0, 2716.0, 2717.0, 2718.0, 2719.0, 2720.0, 2721.0, 2722.0, 2723.0, 2724.0, 2725.0, 2726.0, 2727.0, 2728.0, 2729.0, 2730.0, 2731.0, 2732.0, 2733.0, 2734.0, 2735.0, 2736.0, 2737.0, 2738.0, 2739.0, 2740.0, 2741.0, 2742.0, 2743.0, 2744.0, 2745.0, 2746.0, 2747.0, 2748.0, 2749.0, 2750.0, 2751.0, 2752.0, 2753.0, 2754.0, 2755.0, 2756.0, 2757.0, 2758.0, 2759.0, 2760.0, 2761.0, 2762.0, 2763.0, 2764.0, 2765.0, 2766.0, 2767.0, 2768.0, 2769.0, 2770.0, 2771.0, 2772.0, 2773.0, 2774.0, 2775.0, 2776.0, 2777.0, 2778.0, 2779.0, 2780.0, 2781.0, 2782.0, 2783.0, 2784.0, 2785.0, 2786.0, 2787.0, 2788.0, 2789.0, 2790.0, 2791.0, 2792.0, 2793.0, 2794.0, 2795.0, 2796.0, 2797.0, 2798.0, 2799.0, 2800.0, 2801.0, 2802.0, 2803.0, 2804.0, 2805.0, 2806.0, 2807.0, 2808.0, 2809.0, 2810.0, 2811.0, 2812.0, 2813.0, 2814.0, 2815.0, 2816.0, 2817.0, 2818.0, 2819.0, 2820.0, 2821.0, 2822.0, 2823.0, 2824.0, 2825.0, 2826.0, 2827.0, 2828.0, 2829.0, 2830.0, 2831.0, 2832.0, 2833.0, 2834.0, 2835.0, 2836.0, 2837.0, 2838.0, 2839.0, 2840.0, 2841.0, 2842.0, 2843.0, 2844.0, 2845.0, 2846.0, 2847.0, 2848.0, 2849.0, 2850.0, 2851.0, 2852.0, 2853.0, 2854.0, 2855.0, 2856.0, 2857.0, 2858.0, 2859.0, 2860.0, 2861.0, 2862.0, 2863.0, 2864.0, 2865.0, 2866.0, 2867.0, 2868.0, 2869.0, 2870.0, 2871.0, 2872.0, 2873.0, 2874.0, 2875.0, 2876.0, 2877.0, 2878.0, 2879.0, 2880.0, 2881.0, 2882.0, 2883.0, 2884.0, 2885.0, 2886.0, 2887.0, 2888.0, 2889.0, 2890.0, 2891.0, 2892.0, 2893.0, 2894.0, 2895.0, 2896.0, 2897.0, 2898.0, 2899.0, 2900.0, 2901.0, 2902.0, 2903.0, 2904.0, 2905.0, 2906.0, 2907.0, 2908.0, 2909.0, 2910.0, 2911.0, 2912.0, 2913.0, 2914.0, 2915.0, 2916.0, 2917.0, 2918.0, 2919.0, 2920.0, 2921.0, 2922.0, 2923.0, 2924.0, 2925.0, 2926.0, 2927.0, 2928.0, 2929.0, 2930.0, 2931.0, 2932.0, 2933.0, 2934.0, 2935.0, 2936.0, 2937.0, 2938.0, 2939.0, 2940.0, 2941.0, 2942.0, 2943.0, 2944.0, 2945.0, 2946.0, 2947.0, 2948.0, 2949.0, 2950.0, 2951.0, 2952.0, 2953.0, 2954.0, 2955.0, 2956.0, 2957.0, 2958.0, 2959.0, 2960.0, 2961.0, 2962.0, 2963.0, 2964.0, 2965.0, 2966.0, 2967.0, 2968.0, 2969.0, 2970.0, 2971.0, 2972.0, 2973.0, 2974.0, 2975.0, 2976.0, 2977.0, 2978.0, 2979.0, 2980.0, 2981.0, 2982.0, 2983.0, 2984.0, 2985.0, 2986.0, 2987.0, 2988.0, 2989.0, 2990.0, 2991.0, 2992.0, 2993.0, 2994.0, 2995.0, 2996.0, 2997.0, 2998.0, 2999.0, 3000.0, 3001.0, 3002.0, 3003.0, 3004.0, 3005.0, 3006.0, 3007.0, 3008.0, 3009.0, 3010.0, 3011.0, 3012.0, 3013.0, 3014.0, 3015.0, 3016.0, 3017.0, 3018.0, 3019.0, 3020.0, 3021.0, 3022.0, 3023.0, 3024.0, 3025.0, 3026.0, 3027.0, 3028.0, 3029.0, 3030.0, 3031.0, 3032.0, 3033.0, 3034.0, 3035.0, 3036.0, 3037.0, 3038.0, 3039.0, 3040.0, 3041.0, 3042.0, 3043.0, 3044.0, 3045.0, 3046.0, 3047.0, 3048.0, 3049.0, 3050.0, 3051.0, 3052.0, 3053.0, 3054.0, 3055.0, 3056.0, 3057.0, 3058.0, 3059.0, 3060.0, 3061.0, 3062.0, 3063.0, 3064.0, 3065.0, 3066.0, 3067.0, 3068.0, 3069.0, 3070.0, 3071.0, 3072.0, 3073.0, 3074.0, 3075.0, 3076.0, 3077.0, 3078.0, 3079.0, 3080.0, 3081.0, 3082.0, 3083.0, 3084.0, 3085.0, 3086.0, 3087.0, 3088.0, 3089.0, 3090.0, 3091.0, 3092.0, 3093.0, 3094.0, 3095.0, 3096.0, 3097.0, 3098.0, 3099.0, 3100.0, 3101.0, 3102.0, 3103.0, 3104.0, 3105.0, 3106.0, 3107.0, 3108.0, 3109.0, 3110.0, 3111.0, 3112.0, 3113.0, 3114.0, 3115.0, 3116.0, 3117.0, 3118.0, 3119.0, 3120.0, 3121.0, 3122.0, 3123.0, 3124.0, 3125.0, 3126.0, 3127.0, 3128.0, 3129.0, 3130.0, 3131.0, 3132.0, 3133.0, 3134.0, 3135.0, 3136.0, 3137.0, 3138.0, 3139.0, 3140.0, 3141.0, 3142.0, 3143.0, 3144.0, 3145.0, 3146.0, 3147.0, 3148.0, 3149.0, 3150.0, 3151.0, 3152.0, 3153.0, 3154.0, 3155.0, 3156.0, 3157.0, 3158.0, 3159.0, 3160.0, 3161.0, 3162.0, 3163.0, 3164.0, 3165.0, 3166.0, 3167.0, 3168.0, 3169.0, 3170.0, 3171.0, 3172.0, 3173.0, 3174.0, 3175.0, 3176.0, 3177.0, 3178.0, 3179.0, 3180.0, 3181.0, 3182.0, 3183.0, 3184.0, 3185.0, 3186.0, 3187.0, 3188.0, 3189.0, 3190.0, 3191.0, 3192.0, 3193.0, 3194.0, 3195.0, 3196.0, 3197.0, 3198.0, 3199.0, 3200.0, 3201.0, 3202.0, 3203.0, 3204.0, 3205.0, 3206.0, 3207.0, 3208.0, 3209.0, 3210.0, 3211.0, 3212.0, 3213.0, 3214.0, 3215.0, 3216.0, 3217.0, 3218.0, 3219.0, 3220.0, 3221.0, 3222.0, 3223.0, 3224.0, 3225.0, 3226.0, 3227.0, 3228.0, 3229.0, 3230.0, 3231.0, 3232.0, 3233.0, 3234.0, 3235.0, 3236.0, 3237.0, 3238.0, 3239.0, 3240.0, 3241.0, 3242.0, 3243.0, 3244.0, 3245.0, 3246.0, 3247.0, 3248.0, 3249.0, 3250.0, 3251.0, 3252.0, 3253.0, 3254.0, 3255.0, 3256.0, 3258.0, 3259.0, 3260.0, 3261.0, 3262.0, 3263.0, 3264.0, 3265.0, 3266.0, 3267.0, 3268.0, 3269.0, 3270.0, 3271.0, 3272.0, 3273.0, 3274.0, 3275.0, 3276.0, 3277.0, 3278.0, 3279.0, 3280.0, 3281.0, 3282.0, 3283.0, 3284.0, 3285.0, 3286.0, 3287.0, 3288.0, 3289.0, 3290.0, 3291.0, 3292.0, 3293.0, 3294.0, 3295.0, 3296.0, 3297.0, 3298.0, 3299.0, 3300.0, 3301.0, 3302.0, 3303.0, 3304.0, 3305.0, 3306.0, 3307.0, 3308.0, 3309.0, 3310.0, 3311.0, 3312.0, 3313.0, 3314.0, 3315.0, 3316.0, 3317.0, 3318.0, 3319.0, 3320.0, 3321.0, 3322.0, 3323.0, 3324.0, 3325.0, 3326.0, 3327.0, 3328.0, 3329.0, 3330.0, 3331.0, 3332.0, 3333.0, 3334.0, 3335.0, 3336.0, 3337.0, 3338.0, 3339.0, 3340.0, 3341.0, 3342.0, 3343.0, 3344.0, 3345.0, 3346.0, 3347.0, 3348.0, 3349.0, 3350.0, 3351.0, 3352.0, 3353.0, 3354.0, 3355.0, 3356.0, 3357.0, 3358.0, 3359.0, 3360.0, 3361.0, 3362.0, 3363.0, 3364.0, 3365.0, 3366.0, 3367.0, 3368.0, 3369.0, 3370.0, 3371.0, 3372.0, 3373.0, 3374.0, 3375.0, 3376.0, 3377.0, 3378.0, 3379.0, 3380.0, 3381.0, 3382.0, 3383.0, 3384.0, 3385.0, 3386.0, 3387.0, 3388.0, 3389.0, 3390.0, 3391.0, 3392.0, 3393.0, 3394.0, 3395.0, 3396.0, 3397.0, 3398.0, 3399.0, 3400.0, 3401.0, 3402.0, 3403.0, 3404.0, 3405.0, 3406.0, 3407.0, 3408.0, 3409.0, 3410.0, 3411.0, 3412.0, 3413.0, 3414.0, 3415.0, 3416.0, 3417.0, 3418.0, 3419.0, 3420.0, 3421.0, 3422.0, 3423.0, 3424.0, 3425.0, 3426.0, 3427.0, 3428.0, 3429.0, 3430.0, 3431.0, 3432.0, 3433.0, 3434.0, 3435.0, 3436.0, 3437.0, 3438.0, 3439.0, 3440.0, 3441.0, 3442.0, 3443.0, 3444.0, 3445.0, 3446.0, 3447.0, 3448.0, 3449.0, 3450.0, 3451.0, 3452.0, 3453.0, 3454.0, 3455.0, 3456.0, 3457.0, 3458.0, 3459.0, 3460.0, 3461.0, 3462.0, 3463.0, 3464.0, 3465.0, 3466.0, 3467.0, 3468.0, 3469.0, 3470.0, 3471.0, 3472.0, 3473.0, 3474.0, 3475.0, 3476.0, 3477.0, 3478.0, 3479.0, 3480.0, 3481.0, 3482.0, 3483.0, 3484.0, 3485.0, 3486.0, 3487.0, 3489.0, 3490.0, 3491.0, 3492.0, 3493.0, 3494.0, 3495.0, 3496.0, 3497.0, 3498.0, 3499.0, 3500.0, 3501.0, 3502.0, 3503.0, 3504.0, 3505.0, 3506.0, 3507.0, 3508.0, 3509.0, 3510.0, 3511.0, 3512.0, 3513.0, 3514.0, 3515.0, 3516.0, 3517.0, 3518.0, 3519.0, 3520.0, 3521.0, 3522.0, 3523.0, 3524.0, 3525.0, 3526.0, 3527.0, 3528.0, 3529.0, 3530.0, 3531.0, 3532.0, 3533.0, 3534.0, 3535.0, 3536.0, 3537.0, 3538.0, 3539.0, 3540.0, 3541.0, 3542.0, 3543.0, 3544.0, 3545.0, 3546.0, 3547.0, 3548.0, 3549.0, 3550.0, 3551.0, 3552.0, 3553.0, 3554.0, 3555.0, 3556.0, 3557.0, 3558.0, 3559.0, 3560.0, 3561.0, 3562.0, 3563.0, 3564.0, 3565.0, 3566.0, 3567.0, 3568.0, 3569.0, 3570.0, 3571.0, 3572.0, 3573.0, 3574.0, 3575.0, 3576.0, 3577.0, 3578.0, 3579.0, 3580.0, 3581.0, 3582.0, 3583.0, 3584.0, 3585.0, 3586.0, 3587.0, 3588.0, 3589.0, 3590.0, 3591.0, 3592.0, 3593.0, 3594.0, 3595.0, 3596.0, 3597.0, 3598.0, 3599.0, 3600.0, 3601.0, 3602.0, 3603.0, 3604.0, 3605.0, 3606.0, 3607.0, 3608.0, 3609.0, 3610.0, 3611.0, 3612.0, 3613.0, 3614.0, 3615.0, 3616.0, 3617.0, 3618.0, 3619.0, 3620.0, 3621.0, 3622.0, 3623.0, 3624.0, 3625.0, 3626.0, 3627.0, 3628.0, 3629.0, 3630.0, 3631.0, 3632.0, 3633.0, 3634.0, 3635.0, 3636.0, 3637.0, 3638.0, 3639.0, 3640.0, 3641.0, 3642.0, 3643.0, 3644.0, 3645.0, 3646.0, 3647.0, 3648.0, 3649.0, 3650.0, 3652.0, 3653.0, 3654.0, 3655.0, 3656.0, 3657.0, 3658.0, 3659.0, 3660.0, 3661.0, 3662.0, 3663.0, 3664.0, 3665.0, 3666.0, 3667.0, 3668.0, 3669.0, 3670.0, 3671.0, 3672.0, 3673.0, 3674.0, 3675.0, 3676.0, 3677.0, 3678.0, 3679.0, 3680.0, 3681.0, 3682.0, 3683.0, 3684.0, 3685.0, 3686.0, 3687.0, 3688.0, 3689.0, 3690.0, 3691.0, 3692.0, 3693.0, 3694.0, 3695.0, 3696.0, 3697.0, 3698.0, 3699.0, 3700.0, 3701.0, 3702.0, 3703.0, 3704.0, 3705.0, 3706.0, 3707.0, 3708.0, 3709.0, 3710.0, 3711.0, 3712.0, 3713.0, 3714.0, 3715.0, 3716.0, 3717.0, 3718.0, 3719.0, 3720.0, 3721.0, 3722.0, 3723.0, 3724.0, 3725.0, 3726.0, 3727.0, 3728.0, 3729.0, 3730.0, 3731.0, 3732.0, 3733.0, 3734.0, 3735.0, 3736.0, 3737.0, 3738.0, 3739.0, 3740.0, 3741.0, 3742.0, 3743.0, 3744.0, 3745.0, 3746.0, 3747.0, 3748.0, 3749.0, 3750.0, 3751.0, 3752.0, 3754.0, 3755.0, 3756.0, 3758.0, 3759.0, 3760.0, 3761.0, 3762.0, 3763.0, 3764.0, 3765.0, 3766.0, 3767.0, 3768.0, 3769.0, 3770.0, 3771.0, 3772.0, 3773.0, 3774.0, 3775.0, 3776.0, 3777.0, 3778.0, 3779.0, 3780.0, 3781.0, 3782.0, 3783.0, 3784.0, 3785.0, 3786.0, 3787.0, 3788.0, 3789.0, 3790.0, 3791.0, 3792.0, 3793.0, 3794.0, 3795.0, 3796.0, 3797.0, 3798.0, 3799.0, 3800.0, 3801.0, 3802.0, 3803.0, 3804.0, 3805.0, 3806.0, 3807.0, 3808.0, 3809.0, 3810.0, 3811.0, 3812.0, 3813.0, 3814.0, 3815.0, 3816.0, 3817.0, 3818.0, 3819.0, 3820.0, 3821.0, 3822.0, 3823.0, 3824.0, 3825.0, 3826.0, 3827.0, 3828.0, 3829.0, 3830.0, 3831.0, 3832.0, 3833.0, 3834.0, 3835.0, 3836.0, 3837.0, 3838.0, 3839.0, 3840.0, 3841.0, 3842.0, 3843.0, 3844.0, 3845.0, 3846.0, 3847.0, 3848.0, 3849.0, 3850.0, 3851.0, 3852.0, 3853.0, 3854.0, 3855.0, 3856.0, 3857.0, 3858.0, 3859.0, 3860.0, 3861.0, 3862.0, 3863.0, 3864.0, 3865.0, 3866.0, 3867.0, 3868.0, 3869.0, 3870.0, 3871.0, 3872.0, 3873.0, 3874.0, 3875.0, 3876.0, 3877.0, 3878.0, 3879.0, 3880.0, 3881.0, 3882.0, 3883.0, 3884.0, 3885.0, 3886.0, 3887.0, 3888.0, 3889.0, 3890.0, 3891.0, 3892.0, 3893.0, 3894.0, 3895.0, 3896.0, 3897.0, 3898.0, 3899.0, 3900.0, 3901.0, 3902.0, 3903.0, 3904.0, 3905.0, 3906.0, 3907.0, 3908.0, 3909.0, 3910.0, 3911.0, 3912.0, 3913.0, 3914.0, 3915.0, 3916.0, 3917.0, 3918.0, 3919.0, 3920.0, 3921.0, 3922.0, 3923.0, 3924.0, 3925.0, 3926.0, 3927.0, 3928.0, 3929.0, 3930.0, 3931.0, 3932.0, 3933.0, 3934.0, 3935.0, 3936.0, 3937.0, 3938.0, 3939.0, 3940.0, 3941.0, 3942.0, 3943.0, 3944.0, 3945.0, 3946.0, 3947.0, 3948.0, 3949.0, 3950.0, 3951.0, 3952.0, 3953.0, 3954.0, 3955.0, 3956.0, 3957.0, 3958.0, 3959.0, 3960.0, 3961.0, 3962.0, 3963.0, 3964.0, 3965.0, 3966.0, 3967.0, 3968.0, 3969.0, 3970.0, 3971.0, 3972.0, 3973.0, 3974.0, 3975.0, 3976.0, 3977.0, 3978.0, 3979.0, 3980.0, 3981.0, 3982.0, 3983.0, 3984.0, 3985.0, 3986.0, 3987.0, 3988.0, 3989.0, 3990.0, 3991.0, 3992.0, 3993.0, 3994.0, 3995.0, 3996.0, 3997.0, 3998.0, 3999.0, 4000.0, 4001.0, 4002.0, 4003.0, 4004.0, 4005.0, 4006.0, 4007.0, 4008.0, 4009.0, 4010.0, 4011.0, 4012.0, 4013.0, 4014.0, 4015.0, 4016.0, 4017.0, 4018.0, 4019.0, 4020.0, 4021.0, 4022.0, 4023.0, 4024.0, 4025.0, 4026.0, 4027.0, 4028.0, 4029.0, 4030.0, 4031.0, 4032.0, 4033.0, 4034.0, 4035.0, 4036.0, 4037.0, 4038.0, 4039.0, 4040.0, 4041.0, 4042.0, 4043.0, 4044.0, 4045.0, 4047.0, 4048.0, 4049.0, 4050.0, 4051.0, 4052.0, 4053.0, 4054.0, 4055.0, 4056.0, 4057.0, 4058.0, 4059.0, 4060.0, 4061.0, 4062.0, 4063.0, 4064.0, 4065.0, 4066.0, 4067.0, 4068.0, 4069.0, 4070.0, 4071.0, 4072.0, 4073.0, 4074.0, 4075.0, 4076.0, 4077.0, 4078.0, 4079.0, 4080.0, 4081.0, 4082.0, 4083.0, 4084.0, 4085.0, 4086.0, 4087.0, 4088.0, 4089.0, 4090.0, 4091.0, 4092.0, 4093.0, 4094.0, 4095.0, 4096.0, 4097.0, 4098.0, 4099.0, 4100.0, 4101.0, 4102.0, 4103.0, 4104.0, 4105.0, 4106.0, 4107.0, 4108.0, 4109.0, 4110.0, 4111.0, 4112.0, 4113.0, 4114.0, 4115.0, 4116.0, 4117.0, 4118.0, 4119.0, 4120.0, 4121.0, 4122.0, 4123.0, 4124.0, 4125.0, 4126.0, 4127.0, 4128.0, 4129.0, 4130.0, 4131.0, 4132.0, 4133.0, 4134.0, 4135.0, 4136.0, 4137.0, 4138.0, 4139.0, 4140.0, 4141.0, 4142.0, 4143.0, 4144.0, 4145.0, 4146.0, 4147.0, 4148.0, 4149.0, 4150.0, 4151.0, 4152.0, 4153.0, 4154.0, 4155.0, 4156.0, 4157.0, 4158.0, 4159.0, 4160.0, 4161.0, 4162.0, 4163.0, 4164.0, 4165.0, 4166.0, 4167.0, 4168.0, 4169.0, 4170.0, 4171.0, 4172.0, 4173.0, 4174.0, 4175.0, 4176.0, 4177.0, 4178.0, 4179.0, 4180.0, 4181.0, 4182.0, 4183.0, 4184.0, 4185.0, 4186.0, 4187.0, 4188.0, 4189.0, 4190.0, 4191.0, 4192.0, 4193.0, 4194.0, 4195.0, 4196.0, 4197.0, 4198.0, 4199.0, 4200.0, 4201.0, 4202.0, 4203.0, 4204.0, 4205.0, 4206.0, 4207.0, 4208.0, 4209.0, 4210.0, 4211.0, 4212.0, 4213.0, 4214.0, 4215.0, 4216.0, 4217.0, 4218.0, 4219.0, 4220.0, 4221.0, 4222.0, 4223.0, 4224.0, 4225.0, 4226.0, 4227.0, 4228.0, 4229.0, 4230.0, 4231.0, 4232.0, 4233.0, 4234.0, 4235.0, 4236.0, 4237.0, 4238.0, 4239.0, 4240.0, 4241.0, 4242.0, 4243.0, 4244.0, 4245.0, 4246.0, 4247.0, 4248.0, 4249.0, 4250.0, 4251.0, 4252.0, 4253.0, 4254.0, 4255.0, 4256.0, 4258.0, 4259.0, 4260.0, 4261.0, 4262.0, 4263.0, 4264.0, 4265.0, 4266.0, 4267.0, 4268.0, 4269.0, 4270.0, 4271.0, 4272.0, 4273.0, 4274.0, 4275.0, 4276.0, 4277.0, 4278.0, 4279.0, 4280.0, 4281.0, 4282.0, 4283.0, 4284.0, 4285.0, 4286.0, 4287.0, 4288.0, 4289.0, 4290.0, 4291.0, 4292.0, 4293.0, 4294.0, 4295.0, 4296.0, 4297.0, 4298.0, 4299.0, 4300.0, 4301.0, 4302.0, 4303.0, 4304.0, 4305.0, 4306.0, 4307.0, 4308.0, 4309.0, 4310.0, 4311.0, 4312.0, 4313.0, 4314.0, 4315.0, 4316.0, 4317.0, 4318.0, 4319.0, 4320.0, 4321.0, 4322.0, 4323.0, 4324.0, 4325.0, 4326.0, 4327.0, 4328.0, 4329.0, 4330.0, 4331.0, 4332.0, 4333.0, 4334.0, 4335.0, 4336.0, 4337.0, 4338.0, 4339.0, 4340.0, 4341.0, 4342.0, 4343.0, 4344.0, 4345.0, 4346.0, 4347.0, 4348.0, 4349.0, 4350.0, 4351.0, 4352.0, 4353.0, 4354.0, 4355.0, 4356.0, 4357.0, 4358.0, 4359.0, 4360.0, 4361.0, 4362.0, 4363.0, 4364.0, 4365.0, 4366.0, 4367.0, 4368.0, 4369.0, 4370.0, 4371.0, 4372.0}\n",
      "\n",
      "****************** Recency **************\n",
      "\n",
      "{1, 2, 3, 4, 5, 6, 7, 8, 9, 10, 11, 12, 13, 14, 15, 16, 17, 18, 19, 20, 21, 22, 23, 24, 25, 26, 27, 28, 29, 30, 31, 32, 33, 34, 35, 36, 37, 38, 39, 40, 41, 42, 43, 44, 45, 46, 47, 48, 49, 50, 51, 52, 53, 54, 55, 56, 57, 58, 59, 60, 61, 62, 63, 64, 65, 66, 67, 69, 70, 71, 72, 73, 74, 75, 76, 77, 78, 79, 587, 81, 82, 83, 84, 85, 86, 87, 88, 89, 90, 526, 92, 93, 94, 95, 98, 99, 100, 101, 102, 103, 104, 105, 617, 107, 108, 109, 110, 111, 112, 113, 114, 115, 116, 117, 106, 119, 120, 121, 126, 127, 128, 129, 130, 131, 132, 133, 134, 135, 136, 137, 138, 139, 141, 142, 143, 144, 145, 146, 148, 149, 150, 151, 152, 155, 157, 161, 163, 165, 166, 167, 168, 169, 170, 171, 172, 173, 174, 175, 176, 177, 178, 179, 180, 181, 183, 185, 188, 190, 191, 196, 197, 198, 199, 200, 201, 203, 204, 205, 206, 207, 208, 209, 211, 212, 214, 216, 220, 226, 228, 230, 231, 232, 234, 235, 236, 237, 239, 240, 241, 242, 243, 244, 246, 250, 251, 252, 257, 258, 260, 261, 262, 264, 265, 266, 267, 268, 269, 270, 271, 272, 275, 277, 278, 283, 284, 286, 292, 293, 295, 296, 297, 298, 299, 300, 306, 307, 309, 320, 321, 322, 323, 324, 326, 327, 328, 329, 330, 331, 332, 333, 334, 335, 337, 351, 354, 355, 356, 357, 358, 359, 360, 361, 362, 363, 364, 365, 366, 367, 368, 369, 370, 371, 372, 373, 403, 80, 434, 464, 495}\n",
      "\n",
      "****************** Frequency **************\n",
      "\n",
      "{1, 2, 3, 4, 5, 6, 7, 8, 9, 10, 11, 12, 13, 14, 15, 16, 17, 18, 19, 20, 21, 22, 23, 24, 25, 26, 27, 28, 29, 30, 31, 32, 33, 34, 35, 36, 37, 38, 39, 40, 41, 42, 43, 44, 45, 46, 47, 48, 49, 50, 51, 52, 53, 54, 55, 56, 57, 58, 59, 60, 61, 62, 63, 64, 65, 66, 67, 68, 69, 70, 71, 72, 73, 74, 75, 76, 77, 78, 79, 80, 81, 82, 83, 84, 85, 86, 87, 88, 89, 90, 91, 92, 93, 94, 95, 96, 97, 98, 99, 100, 101, 102, 103, 104, 105, 106, 107, 108, 109, 110, 111, 112, 113, 114, 115, 116, 117, 118, 119, 120, 121, 122, 123, 124, 125, 126, 127, 128, 129, 130, 131, 132, 133, 134, 135, 136, 137, 138, 139, 140, 141, 142, 143, 144, 145, 146, 147, 148, 149, 150, 151, 152, 153, 154, 155, 156, 157, 158, 159, 160, 161, 162, 163, 164, 165, 166, 167, 168, 169, 170, 171, 172, 173, 174, 175, 176, 177, 178, 179, 180, 181, 182, 183, 184, 185, 186, 187, 188, 189, 190, 191, 192, 193, 194, 195, 196, 197, 198, 199, 200, 201, 202, 203, 204, 206, 207, 208, 209, 210, 211, 212, 213, 214, 215, 216, 217, 218, 219, 220, 221, 222, 223, 224, 225, 226, 227, 228, 229, 230, 231, 232, 233, 234, 235, 236, 237, 238, 239, 240, 241, 243, 244, 245, 246, 248, 249, 250, 251, 252, 253, 254, 255, 257, 258, 259, 260, 261, 262, 263, 264, 265, 267, 268, 269, 270, 271, 272, 273, 274, 275, 276, 277, 278, 280, 281, 282, 283, 284, 285, 286, 288, 289, 291, 293, 295, 296, 297, 298, 300, 302, 305, 306, 308, 310, 311, 312, 313, 314, 315, 316, 317, 318, 319, 320, 321, 322, 323, 324, 326, 327, 328, 329, 330, 332, 338, 340, 341, 342, 343, 344, 345, 346, 348, 349, 351, 352, 353, 357, 358, 359, 360, 362, 363, 364, 365, 366, 372, 374, 375, 377, 379, 380, 381, 383, 384, 387, 389, 391, 392, 394, 397, 399, 401, 406, 408, 409, 410, 411, 412, 413, 414, 416, 417, 418, 420, 421, 422, 426, 429, 436, 438, 439, 2487, 442, 444, 445, 447, 449, 451, 453, 455, 459, 460, 461, 466, 468, 470, 472, 473, 476, 483, 484, 485, 494, 495, 4592, 498, 499, 500, 501, 503, 506, 511, 514, 517, 518, 533, 541, 544, 545, 546, 555, 556, 559, 561, 563, 569, 575, 580, 585, 589, 603, 604, 608, 609, 619, 628, 631, 651, 657, 663, 666, 668, 687, 692, 695, 697, 699, 703, 716, 718, 720, 2775, 740, 741, 750, 751, 755, 794, 867, 895, 919, 5023, 934, 966, 973, 1008, 1048, 1059, 1077, 1124, 1150, 1157, 1159, 1202, 1274, 1390, 1507, 1617, 1662, 5854, 7919, 1848, 2045}\n",
      "\n",
      "****************** Monetary **************\n",
      "\n",
      "{8192.0, 704515.0, 65543.0, 16392.0, 155659.0, 466956.0, 32780.0, 614411.0, 49172.0, 73748.0, 57368.0, 81945.0, 172058.0, 81944.0, 32798.0, 155680.0, 65569.0, 172065.0, 106529.0, 393252.0, 49189.0, 516132.0, 229414.0, 98340.0, 40997.0, 73764.0, 163883.0, 49196.0, 65579.0, 704558.0, 57391.0, 16431.0, 73777.0, 540722.0, 106546.0, 65585.0, 114734.0, 245808.0, 49208.0, 131134.0, 49218.0, 49221.0, 24648.0, 41033.0, 81994.0, 221259.0, 1392716.0, 65615.0, 114768.0, 376917.0, 335958.0, 147542.0, 8280.0, 49240.0, 98389.0, 32861.0, 57438.0, 41055.0, 65630.0, 90208.0, 96.0, 131175.0, 114791.0, 147561.0, 41066.0, 147560.0, 24684.0, 311405.0, 65645.0, 41074.0, 778355.0, 106611.0, 106615.0, 327800.0, 139383.0, 1179769.0, 16507.0, 229498.0, 41086.0, 57472.0, 204930.0, 401539.0, 73859.0, 123014.0, 65678.0, 196754.0, 32916.0, 32918.0, 82070.0, 41114.0, 8352.0, 49312.0, 41122.0, 49315.0, 73890.0, 499878.0, 164007.0, 65704.0, 164008.0, 73898.0, 24747.0, 73894.0, 123053.0, 147640.0, 155834.0, 106684.0, 32958.0, 24768.0, 139457.0, 147650.0, 549059.0, 32961.0, 65730.0, 32970.0, 32972.0, 680140.0, 8398.0, 41168.0, 8400.0, 196820.0, 41174.0, 762070.0, 2670808.0, 663768.0, 41181.0, 82142.0, 344286.0, 73949.0, 114911.0, 32996.0, 188645.0, 90346.0, 57580.0, 164079.0, 41200.0, 90353.0, 33007.0, 426228.0, 57589.0, 106741.0, 327927.0, 90357.0, 278777.0, 41207.0, 123126.0, 1007860.0, 139519.0, 16640.0, 90375.0, 164108.0, 295181.0, 1958158.0, 172300.0, 123152.0, 8102167.0, 65819.0, 24860.0, 106784.0, 74019.0, 41251.0, 41252.0, 292.0, 65832.0, 114988.0, 409900.0, 221484.0, 16688.0, 57648.0, 33075.0, 1220918.0, 106810.0, 205115.0, 246076.0, 82235.0, 41275.0, 205119.0, 24900.0, 57670.0, 16711.0, 155976.0, 65865.0, 16714.0, 557387.0, 188748.0, 33100.0, 49484.0, 57679.0, 131409.0, 131413.0, 385369.0, 1130843.0, 90461.0, 885087.0, 41312.0, 123233.0, 221540.0, 229732.0, 164199.0, 278887.0, 270697.0, 106861.0, 24943.0, 115056.0, 41329.0, 188788.0, 147831.0, 49529.0, 41338.0, 147835.0, 115066.0, 180606.0, 196990.0, 8578.0, 24962.0, 388.0, 131467.0, 49548.0, 16780.0, 115089.0, 164242.0, 164243.0, 385430.0, 197015.0, 8600.0, 74134.0, 287131.0, 205212.0, 1229212.0, 24992.0, 508321.0, 704928.0, 8611.0, 16803.0, 41384.0, 106920.0, 16813.0, 16815.0, 106928.0, 745905.0, 221620.0, 57781.0, 598453.0, 860598.0, 33209.0, 16826.0, 90555.0, 49603.0, 33220.0, 328133.0, 49607.0, 156106.0, 344528.0, 66002.0, 33235.0, 25044.0, 41429.0, 278995.0, 25046.0, 25048.0, 1851865.0, 123354.0, 41435.0, 476.0, 82394.0, 57822.0, 74205.0, 106980.0, 213477.0, 49638.0, 139752.0, 221678.0, 8688.0, 16884.0, 82420.0, 501.0, 180730.0, 33275.0, 57851.0, 33277.0, 25082.0, 90622.0, 8702.0, 377345.0, 74236.0, 49659.0, 57860.0, 131589.0, 107015.0, 57864.0, 82441.0, 221706.0, 49673.0, 90636.0, 385554.0, 33300.0, 25108.0, 262679.0, 41500.0, 90653.0, 66077.0, 33315.0, 238117.0, 795177.0, 107056.0, 57912.0, 483896.0, 16960.0, 16961.0, 66112.0, 25157.0, 107078.0, 541255.0, 246345.0, 418378.0, 41551.0, 295511.0, 74329.0, 254556.0, 41568.0, 16994.0, 90726.0, 189031.0, 229993.0, 33388.0, 189038.0, 115313.0, 49778.0, 25201.0, 844408.0, 25210.0, 139899.0, 41596.0, 98938.0, 139902.0, 164479.0, 361086.0, 270975.0, 205444.0, 98949.0, 49797.0, 17031.0, 57991.0, 90760.0, 1680015.0, 541332.0, 98965.0, 107156.0, 49819.0, 25244.0, 17052.0, 74400.0, 1696418.0, 148131.0, 156323.0, 25253.0, 17062.0, 230056.0, 33451.0, 115376.0, 98993.0, 66230.0, 49854.0, 262856.0, 41673.0, 287435.0, 17100.0, 230093.0, 418511.0, 254672.0, 66257.0, 17106.0, 25300.0, 131800.0, 35472089.0, 238296.0, 33496.0, 213724.0, 41688.0, 467678.0, 205535.0, 734.0, 221921.0, 41700.0, 82660.0, 90856.0, 25323.0, 443115.0, 123629.0, 82670.0, 213745.0, 361204.0, 66295.0, 426744.0, 107256.0, 131835.0, 99077.0, 787206.0, 287498.0, 99091.0, 189204.0, 41747.0, 295701.0, 33556.0, 279320.0, 115487.0, 17184.0, 49953.0, 90914.0, 33570.0, 328479.0, 41760.0, 123680.0, 107303.0, 459560.0, 41770.0, 205612.0, 434992.0, 17200.0, 99121.0, 336690.0, 49972.0, 41781.0, 58171.0, 123707.0, 361279.0, 41792.0, 99140.0, 49990.0, 17226.0, 213834.0, 90956.0, 140110.0, 164687.0, 14312274.0, 107347.0, 123730.0, 9042.0, 25428.0, 276968.0, 25433.0, 17244.0, 328544.0, 1450852.0, 648038.0, 90984.0, 58218.0, 875.0, 99181.0, 99185.0, 525172.0, 41853.0, 58238.0, 123776.0, 213890.0, 17285.0, 99205.0, 25480.0, 82826.0, 82829.0, 115599.0, 25490.0, 58259.0, 33686.0, 50075.0, 17310.0, 66466.0, 9126.0, 50087.0, 25513.0, 287658.0, 25517.0, 82862.0, 1483696.0, 238514.0, 1876914.0, 91062.0, 24612.0, 50104.0, 17337.0, 132026.0, 99260.0, 271296.0, 197570.0, 33731.0, 115652.0, 205765.0, 25542.0, 25546.0, 17356.0, 41932.0, 41934.0, 156624.0, 66512.0, 17364.0, 353237.0, 91094.0, 107479.0, 25560.0, 33756.0, 738270.0, 33760.0, 25569.0, 402409.0, 50154.0, 25582.0, 451567.0, 25584.0, 50163.0, 41976.0, 41978.0, 25595.0, 189436.0, 893947.0, 123904.0, 25600.0, 418819.0, 664579.0, 173063.0, 74760.0, 132105.0, 25610.0, 66570.0, 9228.0, 99340.0, 107534.0, 295952.0, 82962.0, 115732.0, 66584.0, 17433.0, 33816.0, 304155.0, 42015.0, 25632.0, 91172.0, 33835.0, 58412.0, 623661.0, 25652.0, 58420.0, 17462.0, 246838.0, 33848.0, 91192.0, 74810.0, 25659.0, 156727.0, 42045.0, 58423.0, 74812.0, 17463.0, 164928.0, 173122.0, 42050.0, 132168.0, 66637.0, 17486.0, 214095.0, 287824.0, 17489.0, 148561.0, 459860.0, 50261.0, 164951.0, 189528.0, 1114.0, 123997.0, 74846.0, 459871.0, 33888.0, 33890.0, 1573987.0, 66660.0, 17512.0, 17513.0, 607342.0, 50286.0, 25714.0, 50292.0, 17526.0, 222328.0, 66685.0, 17533.0, 50301.0, 1320064.0, 58497.0, 83074.0, 33918.0, 50309.0, 107659.0, 17550.0, 214162.0, 230547.0, 66708.0, 115861.0, 17560.0, 25753.0, 287897.0, 25752.0, 9376.0, 124064.0, 197798.0, 91303.0, 279720.0, 1352873.0, 99498.0, 410798.0, 492719.0, 574643.0, 17591.0, 140472.0, 9400.0, 337083.0, 17596.0, 83133.0, 165057.0, 9410.0, 107713.0, 42180.0, 140484.0, 1008838.0, 124103.0, 255175.0, 42184.0, 33994.0, 312522.0, 74956.0, 115916.0, 206031.0, 9424.0, 17617.0, 42194.0, 255185.0, 132306.0, 124118.0, 140508.0, 279774.0, 427231.0, 17633.0, 50401.0, 34020.0, 25828.0, 132328.0, 165097.0, 66794.0, 255209.0, 50415.0, 369904.0, 42231.0, 99580.0, 75005.0, 9472.0, 492804.0, 42252.0, 99599.0, 25873.0, 25874.0, 17688.0, 599321.0, 410906.0, 58653.0, 25886.0, 148768.0, 83233.0, 99624.0, 484648.0, 361770.0, 238890.0, 189746.0, 116019.0, 58676.0, 25911.0, 369976.0, 1339.0, 42301.0, 107838.0, 124223.0, 165181.0, 99651.0, 263492.0, 34116.0, 25926.0, 148807.0, 83272.0, 42315.0, 34125.0, 9554.0, 42323.0, 75094.0, 222551.0, 148825.0, 140634.0, 17754.0, 75097.0, 132446.0, 836961.0, 9570.0, 140644.0, 83302.0, 214375.0, 370024.0, 42345.0, 222570.0, 34154.0, 91496.0, 247144.0, 345454.0, 75117.0, 58733.0, 17772.0, 329075.0, 271732.0, 116086.0, 58743.0, 255356.0, 107902.0, 25982.0, 9600.0, 329089.0, 206209.0, 42378.0, 17803.0, 361867.0, 50573.0, 361868.0, 25998.0, 886168.0, 427418.0, 26010.0, 50586.0, 116128.0, 124323.0, 107940.0, 107942.0, 411051.0, 50606.0, 107953.0, 140722.0, 50612.0, 42424.0, 124346.0, 140731.0, 50620.0, 26042.0, 239038.0, 42435.0, 58820.0, 34245.0, 50633.0, 230857.0, 263630.0, 157136.0, 83408.0, 42450.0, 1344984.0, 75231.0, 17888.0, 2434527.0, 280035.0, 58852.0, 320997.0, 17894.0, 165351.0, 67050.0, 58859.0, 26096.0, 26097.0, 173554.0, 378356.0, 255478.0, 132600.0, 50682.0, 124411.0, 67068.0, 50685.0, 91646.0, 239104.0, 50692.0, 34311.0, 443912.0, 189961.0, 181771.0, 173583.0, 550416.0, 116239.0, 67087.0, 34324.0, 17941.0, 181782.0, 157207.0, 55669.0, 67097.0, 1074717.0, 34334.0, 435749.0, 362022.0, 42546.0, 34354.0, 42548.0, 34357.0, 34358.0, 689718.0, 58936.0, 67129.0, 190014.0, 206399.0, 17985.0, 362050.0, 9795.0, 42564.0, 67141.0, 34377.0, 157257.0, 57308.0, 681548.0, 34381.0, 165454.0, 9806.0, 157264.0, 18004.0, 34390.0, 75351.0, 124504.0, 67161.0, 26199.0, 263771.0, 50777.0, 26205.0, 181857.0, 124514.0, 222822.0, 9834.0, 149106.0, 18035.0, 99956.0, 18037.0, 50804.0, 91772.0, 18046.0, 18048.0, 132737.0, 222850.0, 2147972.0, 296582.0, 403080.0, 353928.0, 34442.0, 34447.0, 124560.0, 50843.0, 149148.0, 34464.0, 18081.0, 67238.0, 165543.0, 165550.0, 222895.0, 1402544.0, 18096.0, 42674.0, 83635.0, 9908.0, 198320.0, 26288.0, 75445.0, 26294.0, 1017529.0, 452282.0, 34491.0, 26300.0, 239292.0, 67259.0, 280253.0, 304832.0, 18108.0, 50882.0, 42687.0, 83653.0, 83655.0, 231113.0, 50889.0, 59082.0, 132814.0, 296655.0, 26320.0, 304853.0, 59093.0, 42714.0, 83674.0, 9948.0, 75485.0, 763614.0, 714461.0, 804574.0, 886494.0, 231136.0, 181988.0, 18150.0, 59112.0, 100073.0, 18153.0, 59115.0, 75499.0, 206573.0, 83694.0, 18160.0, 59121.0, 18162.0, 75508.0, 42741.0, 26358.0, 91898.0, 640764.0, 67325.0, 157439.0, 1173248.0, 67332.0, 444165.0, 1800.0, 542473.0, 206602.0, 42763.0, 18190.0, 9998.0, -14575.0, 1189651.0, 42776.0, 42777.0, 67356.0, 452381.0, 75550.0, 1107743.0, 26400.0, 100126.0, 2017058.0, 18214.0, 116519.0, 501544.0, 34600.0, 124714.0, 182059.0, 18220.0, 100138.0, 280365.0, 50992.0, 132914.0, 108345.0, 10042.0, 75579.0, 91963.0, 59198.0, 42815.0, 59200.0, 10050.0, 26436.0, 42820.0, 321352.0, 34632.0, 952138.0, 59211.0, 362316.0, 173896.0, 51025.0, 34641.0, 51028.0, 18261.0, 26453.0, 182104.0, 108378.0, 26458.0, 18270.0, 42847.0, 18272.0, 10080.0, 100195.0, 272229.0, 116581.0, 10088.0, 157544.0, 59242.0, 419691.0, 26476.0, 42862.0, 206702.0, 698224.0, 10097.0, 173937.0, 198514.0, 395123.0, 182134.0, 34683.0, 165757.0, 550788.0, 190347.0, 599952.0, 5678995.0, 75669.0, 157596.0, 26526.0, 18334.0, 42912.0, 346015.0, 1956.0, 616357.0, 67494.0, 34727.0, 59304.0, 51112.0, 18342.0, 42924.0, 280494.0, 206770.0, 26550.0, 42935.0, 59321.0, 75707.0, 75708.0, 247744.0, 255937.0, 42948.0, 157640.0, 75720.0, 26572.0, 92116.0, 100311.0, 305113.0, 305114.0, 67546.0, 182235.0, 2172891.0, 59355.0, 59362.0, 1312740.0, 42981.0, 313317.0, 26600.0, 190440.0, 18412.0, 51181.0, 198638.0, 133103.0, 51182.0, 272369.0, 182258.0, 100339.0, 665586.0, 51188.0, 296952.0, 141305.0, 18424.0, 133115.0, 18428.0, 100349.0, 34814.0, 100352.0, 215044.0, 75781.0, 157700.0, 231432.0, 75785.0, 18444.0, 280591.0, 59408.0, 296979.0, 100372.0, 208824.0, 43032.0, 116762.0, 403483.0, 1230876.0, 34846.0, 223269.0, 18474.0, 501802.0, 26668.0, 100397.0, 133168.0, 43056.0, 51250.0, 2100.0, 755765.0, 231478.0, 2101.0, 26680.0, 174132.0, 75834.0, 43069.0, 370751.0, 34882.0, 18499.0, 43080.0, 67663.0, 34896.0, 43088.0, 59477.0, 26712.0, 206936.0, 116825.0, 116827.0, 338009.0, 395361.0, 297058.0, 116840.0, 34920.0, 10348.0, 26733.0, 34924.0, 239729.0, 518257.0, 75889.0, 174196.0, 100470.0, 92279.0, 10361.0, 305274.0, 92281.0, 34944.0, 813185.0, 34946.0, 125059.0, 75908.0, 141440.0, 43142.0, 125062.0, 10369.0, 43146.0, 755857.0, 342363.0, 34969.0, 166045.0, 141470.0, 26782.0, 387237.0, 43178.0, 305324.0, 100525.0, 43183.0, 182448.0, 1034416.0, 59569.0, 51379.0, 182452.0, 116921.0, 43194.0, 567483.0, 26814.0, 18624.0, 1091776.0, 327718.0, 207044.0, 903364.0, 43206.0, 67781.0, 59592.0, 297164.0, 231630.0, 75982.0, 100562.0, 698580.0, 116949.0, 10454.0, 116957.0, 18656.0, 26851.0, 26852.0, 35050.0, 223467.0, 76012.0, 76010.0, 67823.0, 67824.0, 59636.0, 43254.0, 133366.0, 551160.0, 43257.0, 51452.0, 166142.0, 10495.0, 1517822.0, 35080.0, 256264.0, 297226.0, 35083.0, 84236.0, 207117.0, 18697.0, 76044.0, 43280.0, 542986.0, 76050.0, 35091.0, 35090.0, 59663.0, 469272.0, 657689.0, 256284.0, -14052.0, 67870.0, 59680.0, 10530.0, 141602.0, 35107.0, 84261.0, 26919.0, 452903.0, 35113.0, 108842.0, 76075.0, 43306.0, 280874.0, 92461.0, 76076.0, 272688.0, 133424.0, 18738.0, 76084.0, 51509.0, 108853.0, 10554.0, 10559.0, 878911.0, 26950.0, 665927.0, 125256.0, 92490.0, 256333.0, 10575.0, 297296.0, 321877.0, 125270.0, 395607.0, 26968.0, 215386.0, 960858.0, 26970.0, 35167.0, 43360.0, 10592.0, 51552.0, 84323.0, 26980.0, 199013.0, 108902.0, 1665383.0, 330088.0, 59751.0, 26987.0, 35184.0, 715121.0, 26994.0, 18804.0, 35190.0, 100727.0, 452984.0, 59773.0, 51582.0, 18819.0, 485764.0, 100745.0, 43402.0, 207244.0, 100749.0, 92558.0, 35212.0, 371084.0, 59790.0, 35218.0, 223635.0, 35220.0, 3762581.0, 674198.0, 461206.0, 43417.0, 27034.0, 100762.0, 166300.0, 51618.0, 43429.0, 256421.0, 76200.0, 35243.0, 84396.0, 76204.0, 18864.0, 371121.0, 35250.0, 10674.0, 321975.0, 174521.0, 51641.0, 10681.0, 68029.0, 43453.0, 248262.0, 133577.0, 27084.0, 158156.0, 18894.0, 272844.0, 109009.0, 51670.0, 59862.0, 27096.0, 10714.0, 10716.0, 84447.0, 125408.0, 133600.0, 371170.0, 18915.0, 166372.0, 35299.0, 289254.0, 10728.0, 494059.0, 59883.0, 27119.0, 27120.0, 182772.0, 223736.0, 182781.0, 330237.0, 518655.0, 84480.0, 526849.0, 84481.0, 84483.0, 27140.0, 68102.0, 1092102.0, 27146.0, 76299.0, 51724.0, 76302.0, 551439.0, 10769.0, 133651.0, 59924.0, 10773.0, 51732.0, 117271.0, 2580.0, 27159.0, 100890.0, 10774.0, 27165.0, 27166.0, 420386.0, 35362.0, 2009637.0, 100905.0, 92714.0, 35371.0, 18987.0, 92719.0, 141877.0, 223798.0, 117303.0, 68153.0, 92731.0, 76348.0, 682557.0, 59968.0, 133701.0, 395849.0, 109130.0, 338509.0, 35406.0, 43601.0, 27219.0, 7965268.0, 19030.0, 51802.0, 2650.0, 158300.0, -21926.0, 43617.0, 248418.0, 43618.0, 43628.0, 10860.0, 264813.0, 10863.0, 43632.0, 404083.0, 363126.0, 92791.0, 19065.0, 43651.0, 117382.0, 35462.0, 101000.0, 43666.0, 60051.0, 35476.0, 19091.0, 182933.0, 43672.0, 199322.0, 723615.0, 199329.0, 76450.0, 215714.0, 240292.0, 27300.0, 92837.0, 903847.0, 191145.0, 35499.0, 43694.0, 76464.0, 19122.0, 2738.0, 1288884.0, 182965.0, 101045.0, 158398.0, 133825.0, 322243.0, 264900.0, 10948.0, 27336.0, 27340.0, 207566.0, 19152.0, 142033.0, 35544.0, 43739.0, 756444.0, 92893.0, 27360.0, 101088.0, 264931.0, 166627.0, 142053.0, 51942.0, 10984.0, 101099.0, 207597.0, 51949.0, 723702.0, 92920.0, 19192.0, 35580.0, 27391.0, 12307199.0, 76546.0, 11010.0, 84741.0, -38138.0, 84744.0, 51979.0, 19212.0, 117519.0, 305937.0, 158482.0, 150294.0, 43800.0, 43804.0, 19230.0, 92962.0, 469795.0, 486178.0, 305960.0, 142128.0, 240432.0, 125747.0, 1043253.0, 101174.0, 1067830.0, 355128.0, 19257.0, 27448.0, 76604.0, 420668.0, 969535.0, 43839.0, 19263.0, 11076.0, 93001.0, 166730.0, 68427.0, 461643.0, 76621.0, 256845.0, 256847.0, 805712.0, 35658.0, 306003.0, 158550.0, 314199.0, 109401.0, 101211.0, 27487.0, 76640.0, 84834.0, 35685.0, 789349.0, 27496.0, 191337.0, 11112.0, 445290.0, 445292.0, 273260.0, 62453.0, 199535.0, 158576.0, 52082.0, 576371.0, 52086.0, 84855.0, 224120.0, 35705.0, 134008.0, 248699.0, 60284.0, 1051522.0, 11140.0, 43908.0, 35718.0, 60294.0, 43912.0, 117642.0, 199562.0, 109452.0, 11150.0, 215951.0, 215952.0, 35727.0, 43922.0, 199572.0, 93077.0, 60310.0, 306071.0, 11160.0, 35737.0, 150427.0, 19356.0, 986014.0, 1297312.0, 27552.0, 175010.0, 207780.0, 60324.0, 551846.0, 68520.0, 68524.0, 76718.0, 27568.0, 142258.0, 125874.0, 68532.0, 117683.0, 256952.0, 76730.0, 11195.0, 175036.0, 52158.0, 27584.0, 175040.0, 469954.0, 379844.0, 248779.0, 240588.0, 60365.0, 43982.0, 117711.0, 35792.0, 43984.0, 27602.0, 11220.0, 27606.0, 68568.0, 273371.0, 35809.0, 175075.0, 117732.0, 84965.0, 35815.0, 52201.0, 60393.0, 52202.0, 27628.0, 289773.0, 216049.0, 68598.0, 150518.0, 52214.0, 44025.0, 789498.0, 306174.0, 19458.0, 240644.0, 44037.0, 27652.0, 84999.0, 265224.0, 76805.0, 125963.0, 101389.0, 240653.0, 52241.0, 347155.0, 93204.0, 44052.0, 27672.0, 44056.0, 19482.0, 281630.0, 240673.0, 76835.0, 134183.0, 27693.0, 642095.0, 224304.0, 191539.0, 76856.0, 68666.0, 126011.0, 60477.0, 101438.0, 35902.0, 52288.0, 44097.0, 68672.0, 27709.0, 19526.0, 445511.0, 35912.0, 158793.0, 52298.0, 224329.0, 109640.0, 101450.0, 35918.0, 527431.0, 44112.0, 404564.0, 142420.0, 76886.0, 68693.0, 101464.0, 11351.0, 27737.0, 44123.0, 167004.0, 101468.0, 199772.0, 183392.0, 19557.0, 60518.0, 232554.0, 126061.0, 158830.0, 19567.0, -2624.0, 150642.0, 52340.0, 1453178.0, 576635.0, 117884.0, 27772.0, 511104.0, 19584.0, 109698.0, 52358.0, 158855.0, 109703.0, 240778.0, 44172.0, 35983.0, 35984.0, 19601.0, 35986.0, 11411.0, 27795.0, 527510.0, 44183.0, 232600.0, 175255.0, 11419.0, 322723.0, 98337.0, 27817.0, 199851.0, 167084.0, 314542.0, 101555.0, 396474.0, 1764541.0, 36030.0, 19647.0, 363712.0, 199874.0, 19650.0, 232645.0, 93386.0, 117966.0, 68814.0, 421070.0, 183502.0, 27858.0, 109779.0, 306391.0, 85208.0, 19676.0, 167132.0, 27868.0, 60636.0, 330978.0, 60644.0, 52453.0, 396518.0, 117991.0, 273640.0, 93417.0, 101610.0, 44267.0, 117993.0, 19687.0, 27886.0, 126192.0, 19696.0, 322809.0, 44282.0, 11513.0, 273660.0, 68861.0, 167165.0, 27904.0, 273666.0, 19714.0, 44292.0, 85253.0, 142597.0, 44294.0, 19720.0, 109831.0, 60680.0, 347407.0, 68880.0, 191760.0, 273686.0, 68888.0, 109849.0, 19737.0, 339225.0, 134430.0, 126239.0, 167200.0, 93470.0, 77092.0, 593189.0, 421159.0, 19752.0, 27949.0, 142637.0, 60719.0, 560430.0, 11570.0, 36147.0, 60724.0, 691509.0, 27954.0, 19762.0, 36152.0, 52538.0, 380221.0, 134462.0, 19775.0, 1379646.0, 609602.0, 2657603.0, 372035.0, 822597.0, 68935.0, 19784.0, 929097.0, 593226.0, 159048.0, 93520.0, 585042.0, 372051.0, 68949.0, 52570.0, 175452.0, 134493.0, 27996.0, 3423.0, 200035.0, 77159.0, 3432.0, 19817.0, 68973.0, 52590.0, 19825.0, 109939.0, 28023.0, 134520.0, 68983.0, 36216.0, 126330.0, 257404.0, 44410.0, 290174.0, 544128.0, 175489.0, 93575.0, 208264.0, 19853.0, 257423.0, 101776.0, 142742.0, 19864.0, 101787.0, 77212.0, 118173.0, 44446.0, 454048.0, 93600.0, 85411.0, 93603.0, 44453.0, 77222.0, 52646.0, 855461.0, 257443.0, 519594.0, 93618.0, 52658.0, 306612.0, 11703.0, 11706.0, 69052.0, 36288.0, 134597.0, 60870.0, 560583.0, 60878.0, 44495.0, 126415.0, 757205.0, 445913.0, 69082.0, 257501.0, 3552.0, 93665.0, 126434.0, 1125862.0, 19943.0, 44518.0, 388583.0, 306670.0, 28144.0, 60914.0, 1428979.0, 142836.0, 175602.0, 724470.0, 560630.0, 93684.0, 159222.0, 28154.0, 265717.0, 200188.0, 552450.0, 69124.0, 257542.0, 257545.0, 19978.0, 19982.0, 11792.0, 60948.0, 159253.0, 167446.0, 167447.0, 85528.0, 323099.0, 126491.0, 69155.0, 372260.0, 20005.0, 216614.0, 691752.0, 52778.0, 323115.0, 192044.0, 11822.0, 28207.0, 314931.0, 77363.0, 118325.0, 118323.0, 60981.0, 20019.0, 372281.0, 85561.0, 273980.0, 20029.0, 142910.0, 85566.0, 11840.0, 20033.0, 282177.0, 183875.0, 36422.0, 36425.0, 142926.0, 93775.0, 69200.0, 69203.0, 20052.0, 355926.0, 274006.0, 85597.0, 69213.0, 77407.0, 323168.0, 519784.0, 323177.0, 257648.0, 52852.0, 110200.0, 77434.0, 3708.0, 61055.0, 85632.0, 77441.0, 20097.0, -4476.0, 69255.0, 167559.0, 134791.0, 11915.0, 110221.0, 28303.0, 118417.0, 142996.0, 36502.0, 52887.0, 372376.0, 52890.0, 274078.0, 44703.0, 69282.0, 44708.0, 11940.0, 601766.0, 167592.0, 192172.0, 200365.0, 11952.0, 28338.0, 77492.0, 69302.0, 20151.0, 118456.0, 77497.0, 667322.0, 249529.0, 241336.0, 151230.0, 69313.0, 11970.0, 20166.0, 44744.0, 1347272.0, 896714.0, 61131.0, 77516.0, 36552.0, 159439.0, 102097.0, 93907.0, 224981.0, 52949.0, 69336.0, 77529.0, 151258.0, 290524.0, 12000.0, 134881.0, 110307.0, 208612.0, 102117.0, 36582.0, 437988.0, 44778.0, 3820.0, 405232.0, 77554.0, 77556.0, 12024.0, 85755.0, 52989.0, 69374.0, 438015.0, 151298.0, 315141.0, 52998.0, 52999.0, 134920.0, 151305.0, 134922.0, 126731.0, 61196.0, 12046.0, 159504.0, 126737.0, 184082.0, 438036.0, 102165.0, 85782.0, 44825.0, 347933.0, 143134.0, 85793.0, 462629.0, 36648.0, 4443946.0, 339755.0, 53042.0, 36660.0, 143160.0, 5754682.0, 216890.0, 167741.0, 77629.0, 216898.0, 282435.0, 44869.0, 241480.0, 175945.0, 225096.0, 315213.0, 61264.0, 331601.0, 44882.0, 77649.0, 36692.0, 85845.0, 225109.0, 28507.0, 36701.0, 118623.0, 135009.0, 53090.0, 85857.0, 167780.0, 257892.0, 77670.0, 77671.0, 44904.0, 200553.0, 77673.0, 85864.0, 20327.0, 511853.0, 20334.0, 12143.0, 110450.0, 77684.0, 20341.0, 44919.0, 20344.0, 175995.0, 85885.0, 36735.0, 28544.0, 20354.0, 184196.0, 216966.0, 85894.0, 20362.0, 12170.0, 36747.0, 143247.0, 53136.0, 143249.0, 69528.0, 12185.0, 307098.0, 12186.0, 77722.0, 20380.0, 61344.0, 20384.0, 77731.0, 12198.0, 28584.0, 578816.0, 36779.0, 20400.0, 552884.0, 323508.0, 61366.0, 126900.0, 20408.0, 12216.0, 225210.0, 20410.0, 4022.0, 77752.0, 53182.0, 28602.0, 651200.0, 12220.0, 20422.0, 102345.0, 20425.0, 69579.0, 53197.0, 257999.0, 53203.0, 45012.0, 12246.0, 307161.0, 28636.0, 159709.0, 839645.0, 94174.0, 53216.0, 20448.0, 995305.0, 85994.0, 20462.0, 86000.0, 45041.0, 36851.0, 102388.0, 323574.0, 12288.0, 356353.0, 45056.0, 94211.0, 20484.0, 20480.0, 69639.0, 69640.0, 1339400.0, 28683.0, 36876.0, 86032.0, 12304.0, 86035.0, 28691.0, 4116.0, 159767.0, 20510.0, -4064.0, 217121.0, 20514.0, 454691.0, 127019.0, 61487.0, 45106.0, 36916.0, 77878.0, 12342.0, 127033.0, 331835.0, 372796.0, 118844.0, 28734.0, 151615.0, 57814.0, 86081.0, 168003.0, 200773.0, 127049.0, 282697.0, 45131.0, 86092.0, 4170.0, 307280.0, 86097.0, 20562.0, 200790.0, 20568.0, 258136.0, 36953.0, 86108.0, 290909.0, 20580.0, 110694.0, 36966.0, 110696.0, 28776.0, 20586.0, 274541.0, 266350.0, 127086.0, 53359.0, 110705.0, 36978.0, 110702.0, 4212.0, 340085.0, 135280.0, 28791.0, 69752.0, 36985.0, 831607.0, 954492.0, 4221.0, 905343.0, 94336.0, 209028.0, 266373.0, 28807.0, 110728.0, 37000.0, 69768.0, 37002.0, 77964.0, 12428.0, 1486990.0, 209038.0, 372880.0, 700558.0, 143507.0, 12435.0, 53399.0, 12447.0, 61600.0, 37026.0, 364714.0, 86186.0, 28848.0, 20657.0, 20656.0, 53427.0, 94388.0, 12466.0, 45236.0, 28855.0, 159927.0, 495801.0, 131110.0, 12483.0, 422084.0, 192709.0, 53444.0, 37062.0, 397510.0, 110794.0, 20682.0, 626894.0, 37070.0, 86224.0, 37072.0, 45266.0, 45270.0, 45271.0, 78040.0, 28891.0, 61660.0, 119004.0, 78047.0, 520416.0, 848097.0, 348386.0, 504037.0, 536807.0, 86248.0, 463081.0, 1183977.0, 12526.0, 28914.0, 332019.0, 168178.0, 225525.0, 422131.0, 45303.0, 340213.0, 184573.0, 110847.0, 151807.0, 684289.0, 20740.0, 37124.0, 53515.0, 45323.0, 151822.0, 2109710.0, 78096.0, 504079.0, 307474.0, 258322.0, 110868.0, 45334.0, 127255.0, 28954.0, 69915.0, 20764.0, 176417.0, 4386.0, 168226.0, 45349.0, 102696.0, 4392.0, 815404.0, 241966.0, 20787.0, 61750.0, 12599.0, 53560.0, 20798.0, 192831.0, 151874.0, 201032.0, 192840.0, 61770.0, 94538.0, 78156.0, 29006.0, 29008.0, 45394.0, 86357.0, 4438.0, 86360.0, 20827.0, 110944.0, 430434.0, 61795.0, 78180.0, 12644.0, 479590.0, 45412.0, 1552745.0, 12651.0, 53611.0, 94571.0, 37230.0, 20847.0, 12656.0, 315762.0, 119155.0, 160118.0, 381303.0, 1593720.0, 37240.0, 20859.0, 135550.0, 127367.0, 29064.0, 53641.0, 291208.0, 45451.0, 61836.0, 110989.0, 815503.0, 45460.0, 86422.0, 127383.0, 553366.0, 217497.0, 119191.0, 53659.0, 70043.0, 430493.0, 61855.0, 111008.0, 29088.0, 61859.0, 217510.0, 1331624.0, 348584.0, 1864111.0, 782768.0, 176559.0, 405939.0, 168376.0, 37304.0, 250304.0, 12736.0, 12744.0, 12748.0, 209357.0, 446928.0, 61916.0, 20956.0, 78302.0, 29149.0, 37344.0, 291298.0, 127459.0, 741859.0, 176613.0, 12774.0, 225766.0, 1266152.0, 225769.0, 70122.0, 3224042.0, 111079.0, 111085.0, 143854.0, 53737.0, 12778.0, 45546.0, 168425.0, 127475.0, 184820.0, 70133.0, 1012214.0, 61942.0, 94706.0, 184826.0, 168444.0, 602621.0, 1307135.0, 29186.0, 127492.0, 111110.0, 61960.0, 152076.0, 258574.0, 29201.0, 29204.0, 21015.0, 70168.0, 21018.0, 29210.0, 12830.0, 94751.0, 111136.0, 21026.0, 12837.0, 373287.0, 168488.0, 78378.0, 12842.0, 45614.0, 135727.0, 29233.0, 21042.0, 176695.0, 111164.0, 291394.0, 86595.0, 12868.0, 234056.0, 193097.0, 70219.0, 21072.0, -11694.0, 201305.0, 111196.0, 37469.0, 250461.0, 53855.0, 528991.0, 111199.0, 53858.0, 717407.0, 12904.0, 78443.0, 201327.0, 53872.0, -3470.0, 70260.0, 37494.0, 373367.0, 4728.0, 70264.0, 29306.0, 184954.0, 29308.0, 37501.0, 12923.0, 643712.0, 193153.0, 152194.0, 78464.0, 21123.0, 12933.0, 70278.0, 45703.0, 111240.0, 119435.0, 381948.0, 37517.0, 78478.0, 266897.0, 299665.0, 78482.0, 70292.0, 53908.0, 45716.0, 21144.0, 62108.0, 70304.0, 45730.0, 45732.0, 12965.0, 12968.0, 29355.0, 86703.0, 234160.0, 127664.0, 29359.0, 45748.0, 78518.0, 12983.0, 53946.0, 29371.0, 103103.0, 78531.0, 21188.0, 201413.0, 94918.0, 127685.0, 103112.0, 45773.0, 692945.0, 185041.0, 144081.0, 479956.0, 160470.0, 3035863.0, 94935.0, 127709.0, 103134.0, 53983.0, 13024.0, 37601.0, 463584.0, 21215.0, 586469.0, 553702.0, 13030.0, 37608.0, 78571.0, 234223.0, 62196.0, 70388.0, 29432.0, -3336.0, 4859.0, 21246.0, 13054.0, 504576.0, 561920.0, 840450.0, 488195.0, 29440.0, 70407.0, 21256.0, 7394059.0, 29451.0, 201487.0, 799507.0, 586519.0, 29465.0, 86809.0, 86813.0, 62239.0, 21284.0, 45861.0, 340774.0, 37675.0, 70444.0, 160559.0, 242480.0, 29490.0, 348978.0, 29493.0, 242485.0, 127802.0, -3268.0, 176957.0, 45886.0, 422719.0, 45888.0, 201536.0, 160578.0, 95041.0, 160585.0, 54095.0, 62289.0, 316242.0, 955219.0, 283473.0, 398166.0, 185175.0, 21336.0, 45910.0, 299868.0, 349024.0, 37730.0, 381795.0, 283495.0, 29545.0, 373610.0, 21355.0, 258923.0, 111470.0, 13166.0, 13168.0, 136049.0, 45946.0, 136059.0, 37754.0, 86908.0, 54144.0, 1520512.0, 21381.0, 45958.0, 242570.0, 21387.0, 86924.0, 45964.0, 62347.0, 127888.0, 529301.0, 2192280.0, 29593.0, 21402.0, 70556.0, 21408.0, 234402.0, 193443.0, 111524.0, 5911467.0, 209838.0, 209842.0, 5044.0, 54197.0, 54198.0, 496567.0, 54200.0, 21431.0, 627642.0, 46012.0, 1455036.0, 226239.0, 46017.0, 193474.0, 62408.0, 357322.0, 234447.0, 275408.0, 29649.0, 46031.0, 291798.0, 78809.0, 21465.0, 37853.0, 349151.0, 37857.0, 29666.0, 54245.0, 111590.0, 758759.0, 78824.0, 177128.0, 447464.0, 152555.0, 46056.0, 103398.0, 13290.0, 95215.0, 37871.0, 21484.0, 119797.0, 62454.0, 46069.0, 29688.0, 144377.0, 13306.0, 242682.0, 611321.0, 29692.0, 340990.0, 177151.0, 62464.0, 21501.0, 2307074.0, 21507.0, 37892.0, 390149.0, -3069.0, 193546.0, 242700.0, 54287.0, 5136.0, 21520.0, 62484.0, 119829.0, 168982.0, 119828.0, 29723.0, 259102.0, 13343.0, 414756.0, 95269.0, 201764.0, 37927.0, 111655.0, 5160.0, 119844.0, 9335851.0, 1381412.0, 676906.0, 275497.0, 21551.0, 87088.0, 21555.0, 37940.0, 29749.0, 37943.0, 70712.0, 398393.0, 29753.0, 119867.0, 21562.0, 152639.0, 87105.0, 62530.0, 21571.0, 13378.0, 5190.0, 128072.0, 29769.0, 324683.0, 406604.0, 341069.0, 660555.0, 46159.0, 21583.0, 78931.0, 111700.0, 5205.0, 70742.0, 37972.0, 660568.0, 300117.0, 95322.0, 46170.0, 406613.0, 185437.0, 21598.0, 37982.0, 431200.0, 21600.0, 87133.0, 111717.0, 111718.0, 21605.0, 308328.0, 13417.0, 136305.0, 87156.0, 529526.0, 46200.0, 95357.0, 21630.0, 29822.0, 29825.0, 46210.0, 70789.0, 29830.0, 46214.0, 78984.0, 95370.0, 21642.0, 193689.0, 193690.0, 38045.0, 7533725.0, 21663.0, 382113.0, 251041.0, 38051.0, 136356.0, 38053.0, 38054.0, 13474.0, 644264.0, 46249.0, 341161.0, 95396.0, 406700.0, 1602732.0, 38062.0, 54448.0, 21688.0, 87225.0, 13498.0, 152761.0, 529598.0, 136385.0, 29891.0, 10654918.0, 95431.0, 111816.0, 46280.0, 79053.0, 62672.0, 38098.0, 87251.0, 333013.0, 46294.0, 29911.0, 333016.0, 87257.0, 390362.0, 54495.0, 242911.0, 79087.0, 464114.0, 333042.0, 29939.0, 103668.0, 136439.0, 791800.0, 29944.0, 333049.0, 38140.0, 29949.0, 21760.0, 791808.0, 13569.0, 87299.0, 595203.0, 5376.0, 169222.0, 128257.0, 38148.0, 455940.0, 193802.0, 46346.0, 54538.0, 103693.0, 193809.0, 46356.0, 13588.0, 95512.0, 136474.0, 242971.0, 79132.0, 79134.0, 357665.0, 251172.0, 29991.0, 152872.0, 234793.0, 111914.0, 38187.0, 46376.0, 308526.0, 161072.0, 38200.0, 13624.0, 54586.0, 144699.0, 161084.0, 12637501.0, 226622.0, 202046.0, 13631.0, 128322.0, 324930.0, 341316.0, 46405.0, 30020.0, 54596.0, 259403.0, 95565.0, 13646.0, 4396368.0, 21842.0, 38231.0, 136536.0, 30040.0, 21850.0, 185690.0, 5468.0, 226647.0, 21854.0, 79199.0, 161123.0, 87396.0, 144739.0, 62822.0, 267623.0, 120164.0, 38249.0, 136553.0, 529764.0, 54634.0, 120173.0, 87399.0, 267625.0, 152946.0, 111989.0, 79226.0, 161146.0, 103808.0, 46465.0, 54658.0, 46468.0, 95624.0, 13704.0, 62856.0, 13708.0, 30092.0, 152975.0, 21906.0, 13716.0, 54681.0, 21914.0, 46490.0, 275868.0, 21924.0, 62884.0, 267687.0, 136620.0, 38316.0, 341424.0, 30130.0, 21939.0, 38324.0, 292277.0, 1734068.0, 62905.0, 46523.0, 38331.0, 62909.0, 30142.0, 677311.0, 251328.0, 234945.0, 325058.0, 87491.0, 95684.0, 30140.0, 38342.0, 357826.0, 382408.0, 21961.0, 193992.0, 292298.0, 112077.0, 71118.0, 62926.0, 38352.0, 153040.0, 21970.0, 30164.0, 38358.0, 169431.0, 38360.0, 251353.0, 136670.0, 316895.0, 284129.0, 71144.0, 38376.0, 13802.0, 161258.0, 21996.0, 46572.0, 177644.0, 54767.0, 136687.0, 103922.0, 300532.0, 95733.0, 54774.0, 54787.0, 13828.0, 38409.0, 46602.0, 30222.0, 54798.0, 267792.0, 22032.0, 579088.0, 13846.0, 87576.0, 13848.0, 136732.0, 38428.0, 95772.0, 54812.0, 13856.0, 71200.0, 63012.0, 79400.0, 87593.0, 308777.0, 161323.0, 46634.0, 38446.0, 13871.0, 144944.0, 562737.0, 54832.0, 128566.0, 30262.0, 325180.0, 235070.0, 161344.0, 177729.0, 79425.0, 46656.0, 5701.0, 22086.0, 235080.0, 349768.0, 22090.0, 63051.0, -10680.0, 104010.0, 63054.0, 13908.0, 104020.0, 30294.0, 177752.0, 7820889.0, 923231.0, 71264.0, 71265.0, 79455.0, 3651176.0, 71273.0, 972397.0, -2451.0, 218736.0, 22128.0, 46706.0, 79473.0, 54904.0, 95866.0, 145021.0, 210559.0, 30336.0, 71297.0, 22148.0, 30342.0, 153223.0, 54920.0, 38536.0, 13962.0, 145039.0, 13968.0, 63119.0, 13967.0, 54933.0, 816798.0, 38559.0, 38560.0, 472737.0, 38565.0, 38566.0, 5798.0, 112297.0, 30381.0, 161456.0, 95922.0, 30389.0, 710326.0, 145080.0, 718522.0, 95933.0, 14015.0, 202432.0, 46786.0, 177858.0, 341703.0, 120521.0, 38604.0, 95948.0, 153292.0, -2353.0, 14037.0, 30426.0, 30431.0, 14052.0, 79589.0, 14054.0, 46824.0, 71404.0, 46831.0, 22258.0, 46836.0, 259829.0, 472820.0, 325367.0, 358137.0, 653050.0, 669448.0, 759560.0, 79626.0, 55050.0, 243469.0, 202509.0, 153358.0, 464656.0, 259854.0, 202517.0, 276245.0, 38679.0, 890648.0, 96024.0, 202519.0, 14109.0, 2807583.0, 30496.0, 112418.0, 87845.0, 30502.0, 14120.0, 300842.0, 22317.0, 137007.0, 38705.0, 46897.0, 79670.0, 30522.0, 22333.0, 63296.0, 194369.0, 14148.0, 87878.0, 440139.0, 145227.0, 63310.0, 30543.0, 22350.0, 46932.0, 46934.0, 22364.0, 38752.0, 71521.0, 14178.0, 14180.0, 38759.0, 538472.0, 87913.0, 38760.0, 169837.0, 464752.0, 14194.0, 235382.0, 505719.0, 30584.0, 22390.0, 202618.0, 6010.0, 55165.0, 382850.0, 22403.0, 276356.0, 30596.0, 161666.0, 30599.0, 63374.0, 71566.0, 259986.0, 792467.0, 96146.0, 38806.0, 333719.0, 169880.0, 128920.0, 87962.0, 87961.0, 6044.0, 366492.0, 71583.0, 300960.0, 63392.0, 128931.0, 137124.0, 3594149.0, 276390.0, 47020.0, 30638.0, 120751.0, 47024.0, 79793.0, 137136.0, 464819.0, 137140.0, 79790.0, 538550.0, 210873.0, 620479.0, 473027.0, 120775.0, 30664.0, 96205.0, 38863.0, 47060.0, 161750.0, 38876.0, -2082.0, 1611744.0, 104417.0, 6115.0, 22500.0, 30694.0, 14310.0, 38888.0, 30704.0, 219123.0, 14328.0, 71675.0, 63483.0, 55293.0, 14333.0, 30719.0, 1406976.0, 514048.0, 5134340.0, 645129.0, 251913.0, 55305.0, 55309.0, 497679.0, 22543.0, 317457.0, 79890.0, 374803.0, 161808.0, 14358.0, 55324.0, 325660.0, 47133.0, 1021983.0, 145437.0, 1095714.0, 14376.0, 47145.0, 235562.0, 440360.0, 63532.0, 694317.0, 415792.0, 22579.0, 14389.0, 219191.0, 63546.0, 694331.0, 170044.0, 243774.0, 923710.0, 38976.0, 1349698.0, 71747.0, 104517.0, 22600.0, 47178.0, 88140.0, 71763.0, 112726.0, 268376.0, 325723.0, 39003.0, 129116.0, 39004.0, 63582.0, 79968.0, 30820.0, 39014.0, 235623.0, 112750.0, 14447.0, 112751.0, 112756.0, 47220.0, 104566.0, 2447479.0, 168952.0, 415866.0, 30846.0, 170113.0, 39044.0, 612488.0, 55433.0, 39048.0, 3332232.0, 22664.0, 293010.0, 88210.0, 243860.0, 39061.0, 383127.0, 47256.0, 14489.0, 6302.0, 563358.0, 104608.0, 137379.0, 14500.0, 170148.0, 55462.0, 55464.0, 178345.0, 227500.0, 342192.0, 47281.0, 252082.0, 39090.0, 63664.0, 22712.0, 301242.0, 47291.0, 301243.0, 96442.0, 63678.0, 178362.0, 202938.0, 55492.0, 22725.0, 63686.1, 301260.0, 14544.0, 1341649.0, 121040.0, 620755.0, 47314.0, 22741.0, 1226964.0, 407767.0, 63704.0, 80087.0, 170200.0, 6360.0, 547037.0, 22749.0, 776413.0, 194785.0, 145640.0, 186600.0, 235755.0, 407797.0, 6396.0, 55550.0, 71935.0, 47361.0, 39173.0, 39174.0, 88330.0, 47372.0, 719118.0, 63759.0, 1448208.0, 112915.0, 22803.0, 1030421.0, 30997.0, 694553.0, 1014043.0, 55581.0, 153889.0, 178467.0, 88356.0, 137507.0, 121126.0, 309544.0, 39209.0, 153899.0, 211244.0, 178480.0, 186675.0, 14644.0, 440629.0, 22838.0, 235829.0, 55611.0, 244031.0, 72000.0, 88386.0, 112967.0, 293193.0, 4987212.0, 55630.0, 14670.0, 612688.0, 88401.0, 153936.0, 39251.0, 702806.0, 39255.0, 47450.0, 366939.0, 112988.0, 6492.0, 383325.0, 63839.0, 47454.0, 137562.0, 6498.0, 1145182.0, 129380.0, 88420.0, 39270.0, 88424.0, 268649.0, 481643.0, 80236.0, 63854.0, 80239.0, 113008.0, 203120.0, 113009.0, 31091.0, 72051.0, 842101.0, 178550.0, 63861.0, 31093.0, 301433.0, 88440.0, 31095.0, -1668.0, 22909.0, 55678.0, 96639.0, 342397.0, 14724.0, 39303.0, 47496.0, 186771.0, 203156.0, 137620.0, 14742.0, 39319.0, 883096.0, -1636.0, 14750.0, 14751.0, 252319.0, 39328.0, 121247.0, 80295.0, 473517.0, 14765.0, 80303.0, 31152.0, 121262.0, 154037.0, 14774.0, 55733.0, 80312.0, 14778.0, 55740.0, 72124.0, 14783.0, 547265.0, 47553.0, 22980.0, 154054.0, 113094.0, 252362.0, 276938.0, 14797.0, 834000.0, 14801.0, 227796.0, 178646.0, 31193.0, 711129.0, 80348.0, 154078.0, 63967.0, 170464.0, 55780.0, 162277.0, 145894.0, 195048.0, 14824.0, 1407465.0, 268779.0, 481769.0, 31213.0, 31214.0, 31215.0, 104944.0, 195057.0, 6640.0, 408051.0, 1317359.0, 39419.0, 55805.0, 186878.0, 23040.0, 104962.0, 55811.0, 72195.0, 276997.0, 211462.0, 23043.0, 1554952.0, 31239.0, 227850.0, 145928.0, 23052.0, 244230.0, 14862.0, 23059.0, 145941.0, 129563.0, 47644.0, 154140.0, 14875.0, 39456.0, 113185.0, 104993.0, 80419.0, 23076.0, 14880.0, 227879.0, 170536.0, 39466.0, 14892.0, 39471.0, 39472.0, 14899.0, 293427.0, 47669.0, 47670.0, 162358.0, 39478.0, 55861.0, 47675.0, 23100.0, 457277.0, 186949.0, 80460.0, 178765.0, 752205.0, 39507.0, 47700.0, 31318.0, 96854.0, 6745.0, 31322.0, 693336.0, 670301.0, 195167.0, 39520.0, 318049.0, 440930.0, 39523.0, 47719.0, 31338.0, 80491.0, 80492.0, 23149.0, 113263.0, 350832.0, 105074.0, 64118.0, 326262.0, 47738.0, 187007.0, 137856.0, 162433.0, 113282.0, 170624.0, 39552.0, 137861.0, 14983.0, 72328.0, 506508.0, 195212.0, 6800.0, 277140.0, 252565.0, 31384.0, 244378.0, 72347.0, 39579.0, 195229.0, 187038.0, 80538.0, 39584.0, 211617.0, 326306.0, 113316.0, 244389.0, 47783.0, 80554.0, 47787.0, 39598.0, 211636.0, 64182.0, 31421.0, 170687.0, 72383.0, 203457.0, 252607.0, 15043.0, 47807.0, 64204.0, 56016.0, 80593.0, 47824.0, 334548.0, 113369.0, 15066.0, 72413.0, 31453.0, 96992.0, 23267.0, 72422.0, 80616.0, 97001.0, 6892.0, 31470.0, 293614.0, 31473.0, 121590.0, 80631.0, 318210.0, 334596.0, 695046.0, 47878.0, 129799.0, 23305.0, 293643.0, 285459.0, 23316.0, 72472.0, 47900.0, 23326.0, 72480.0, 47906.0, 105251.0, 465699.0, 39716.0, 23336.0, 1497897.0, 269098.0, 47916.0, 924462.0, 97077.0, 47926.0, 211767.0, 105270.0, 842554.0, -50372.0, 47933.0, 47935.0, 64319.0, 23362.0, 39746.0, 15182.0, -1199.0, 23380.0, 72533.0, 80726.0, 105300.0, 203608.0, 121689.0, 228186.0, 97120.0, 39776.0, 359266.0, 15204.0, 97128.0, 236395.0, 105324.0, 23409.0, 23410.0, 64371.0, 31604.0, 15220.0, 23415.0, 441209.0, 113532.0, 105342.0, 113535.0, 97152.0, 56193.0, 23428.0, 48005.0, 23431.0, 72584.0, 146312.0, 129929.0, 203656.0, 97166.0, 39827.0, 88980.0, 48021.0, 490389.0, 23444.0, 23450.0, 146333.0, 121764.0, 1383334.0, 695207.0, 179117.0, 72623.0, 72624.0, 236466.0, 80819.0, 424884.0, 56244.0, 23474.0, 310204.0, 416700.0, 56256.0, 48065.0, 121794.0, 195522.0, 48067.0, 555971.0, 170950.0, 15299.0, 121802.0, 850894.0, 105424.0, 72658.0, 39890.0, 400340.0, 646102.0, 97239.0, 261080.0, 113622.0, 89049.0, 662491.0, 89052.0, 89053.0, 64478.0, 80862.0, 777185.0, 31718.0, 15336.0, 39919.0, 162800.0, 23537.0, 269298.0, 4832240.0, 97267.0, 1145846.0, 15351.0, 15354.0, 482302.0, 1113095.0, 408585.0, 15372.0, 138256.0, 80913.0, 48144.0, 146451.0, 39956.0, 703510.0, 56352.0, 130082.0, 121896.0, 7208.0, 244776.0, 162856.0, 31788.0, 425005.0, 72750.0, 23600.0, 72753.0, 662579.0, 564277.0, 48181.0, -968.0, 31803.0, 293948.0, 39997.0, 408638.0, 228414.0, 89151.0, 662591.0, 72769.0, 7235.0, 121921.0, 48200.0, 113740.0, 7248.0, 244819.0, 23637.0, 56409.0, 105563.0, 72796.0, 212061.0, 760924.0, 23647.0, 15456.0, 359523.0, 56421.0, 769126.0, 195689.0, 703594.0, 56428.0, 318572.0, 7278.0, 138350.0, 72815.0, 367728.0, 40044.0, 113776.0, 81014.0, 138360.0, 40057.0, 23673.0, 425084.0, 154749.0, 48252.0, 146562.0, 64644.0, 220293.0, 81029.0, 6102150.0, 40072.0, 982153.0, 490634.0, 40075.0, 244876.0, 97413.0, 48270.0, 105616.0, 15505.0, 441490.0, 187540.0, 572565.0, 359575.0, 392347.0, 89244.0, 2432157.0, 375967.0, 343200.0, 122017.0, 31906.0, 171170.0, 31905.0, 236710.0, 490663.0, 72872.0, 113833.0, 23720.0, 146605.0, 793774.0, 384183.0, 105656.0, 89272.0, 105655.0, 23739.0, 48318.0, -831.0, 15558.0, 23751.0, 23752.0, 31944.0, 105674.0, 40134.0, 23750.0, 15568.0, 23760.0, 23762.0, 253139.0, 548056.0, 138458.0, 56539.0, 244954.0, 56544.0, 310503.0, 105703.0, 244969.0, 236775.0, 302316.0, 1096941.0, 40174.0, 23791.0, 89330.0, 1318131.0, 64756.0, 40181.0, 15607.0, 204024.0, 48376.0, 48380.0, 23804.0, 48381.0, 15618.0, 179460.0, 81157.0, 56580.0, 48395.0, 515344.0, 113940.0, 64788.0, 236823.0, 64792.0, 498969.0, 72987.0, 146716.0, 15645.0, 48415.0, 376098.0, 15650.0, 40232.0, 64809.0, 48432.0, 23856.0, 785712.0, 179507.0, 48435.0, 523576.0, 769339.0, 64828.0, 384317.0, 113984.0, 941377.0, 40258.0, 3243332.0, 179530.0, 48459.0, 1031503.0, 621903.0, 32082.0, 32085.0, 81238.0, 892248.0, 56664.0, 105821.0, 130398.0, 73054.0, 425313.0, 154979.0, 64870.0, 89447.0, 32105.0, 163178.0, 146796.0, 56690.0, 7542.0, 179575.0, 48504.0, 15741.0, 15742.0, 23935.0, 15744.0, 56705.0, 114051.0, 400772.0, 441734.0, 40327.0, 277896.0, 15752.0, 89482.0, 40332.0, 155020.0, 15756.0, 605585.0, 884115.0, 138643.0, 64915.0, 302485.0, 73116.0, 97695.0, 97696.0, 597409.0, 777635.0, 23974.0, 253351.0, 97703.0, 3423657.0, 15784.0, 48552.0, 327088.0, 40371.0, 56756.0, 187830.0, 40374.0, 196024.0, 81337.0, 769466.0, -8769.0, 105920.0, 24002.0, 32195.0, 499138.0, 48581.0, 179656.0, 64970.0, 1605069.0, 105934.0, 48591.0, 24018.0, 81366.0, 171479.0, 24024.0, 40408.0, 40409.0, 89571.0, 24036.0, 24037.0, 163300.0, 450023.0, 48614.0, 196073.0, 40426.0, 138731.0, 65006.0, 196078.0, 56822.0, 523767.0, 40440.0, 81403.0, 97789.0, 65022.0, 32256.0, 89601.0, 171521.0, 56833.0, 40452.0, 24069.0, 32266.0, 146957.0, 138769.0, 286226.0, 351763.0, 48661.0, 89621.0, 409118.0, 24095.0, 5094946.0, 384550.0, 48678.0, 73258.0, 728619.0, 15917.0, 163374.0, 130608.0, 458288.0, 40498.0, 146993.0, 32308.0, 40499.0, 163383.0, 40506.0, 56894.0, 220734.0, 638527.0, 302655.0, 15938.0, 335427.0, 40516.0, 245317.0, 138822.0, 56899.0, 179777.0, 48715.0, 130636.0, 114256.0, 32337.0, 97873.0, 40530.0, 106069.0, 425558.0, 15960.0, 335450.0, 7771.0, 24156.0, 228957.0, 32352.0, 24160.0, 106086.0, 65128.0, 261737.0, 130667.0, 130668.0, 24175.0, -398.0, 89714.0, 368244.0, 106110.0, -382.0, 40579.0, 188035.0, 433797.0, 106117.0, 261766.0, 24198.0, 40584.0, 24197.0, 32404.0, 40596.0, 179860.0, 7833.0, 73369.0, 368287.0, 16032.0, 81568.0, 24230.0, 48809.0, 302762.0, 97967.0, 114352.0, 16049.0, 48818.0, 48816.0, 32436.0, 24240.0, 286388.0, 24248.0, 368314.0, 253627.0, 40635.0, 32445.0, 532160.0, 16065.0, 57024.0, 65219.0, 130755.0, 294597.0, -315.0, 57030.0, 425672.0, 196296.0, 2137798.0, 73419.0, 32461.0, 32462.0, 302797.0, 48845.0, 40660.0, 155349.0, 65239.0, 147161.0, 204506.0, -294.0, 16092.0, 73437.0, 24284.0, 32480.0, 122592.0, 270048.0, 24292.0, 237285.0, 245476.0, 392932.0, 89832.0, 48876.0, 253948.0, 106222.0, 24302.0, 24304.0, 48880.0, 1031921.0, 24307.0, 179956.0, 40694.0, 196342.0, 65272.0, 57083.0, 81662.0, 196350.0, 48896.0, 130818.0, 81667.0, 245508.0, 16132.0, 16136.0, 7944.0, 122634.0, 212747.0, 17710859.0, 57100.0, 155405.0, 1138448.0, 106260.0, 147223.0, 712472.0, 40728.0, 40730.0, 65303.0, 32542.0, 32543.0, 73505.0, 245538.0, 147233.0, 1294116.0, 270114.0, 7980.0, 278318.0, 81711.0, -209.0, 73521.0, 48944.0, 24371.0, 106292.0, 48945.0, 16182.0, 139063.0, 106296.0, 139064.0, -198.0, 548667.0, 40763.0, 180694.0, 204607.0, 2006852.0, 65348.0, 556871.0, 89927.0, 286537.0, 16202.0, 32587.0, 40776.0, 180043.0, 8013.0, 122707.0, 32596.0, 155477.0, 401237.0, 687959.0, 40792.0, 343898.0, 294747.0, 8028.0, 48988.0, 24418.0, 8037.0, 81766.0, 89960.0, 188267.0, 180078.0, 212852.0, 81782.0, 65398.0, 8056.0, 114558.0, 204673.0, 81794.0, 1761155.0, 57222.0, 8070.0, 507784.0, 16265.0, 155530.0, 65414.0, 57229.0, 155533.0, 114576.0, 32656.0, 229267.0, 8084.0, 57238.0, 16279.0, 8088.0, 32664.0, 311195.0, 98208.0, 147361.0, 417701.0, 24489.0, 16299.0, 16303.0, 49072.0, 57265.0, 442293.0, 24504.0, 311225.0, 49082.0, 65468.0, 49084.0, 8128.0, 221122.0, 229316.0, 524229.0, 401350.0, 32711.0, 57288.0, 57286.0, 270278.0, 32715.0, 1294278.0, 8141.0, 24518.0, -49.0, 98247.0, 98257.0, 557010.0, 90067.0, 360404.0, 40918.0, 16342.0, 24536.0, 196569.0, 303066.0, 434140.0, 8157.0, 65501.0, 40925.0, 8160.0, 32736.0, 32738.0, 155618.0, 57316.0, 81893.0, 16358.0, 16365.0, 32750.0, 204781.0, 565232.0, 106483.0, 827382.0, 532472.0, 106491.0, 376828.0}\n",
      "\n"
     ]
    }
   ],
   "source": [
    "# Printing the values of RFM and CID\n",
    "\n",
    "for i in RFMscore.columns:\n",
    "    print('******************',i,'**************')\n",
    "    print()\n",
    "    print(set(RFMscore[i].to_list()))\n",
    "    print()"
   ]
  },
  {
   "cell_type": "markdown",
   "id": "639c78ce",
   "metadata": {},
   "source": [
    "## Segmentation"
   ]
  },
  {
   "cell_type": "code",
   "execution_count": 102,
   "id": "29167511",
   "metadata": {},
   "outputs": [
    {
     "data": {
      "text/plain": [
       "count    4349.000000\n",
       "mean       61.445160\n",
       "std        89.656941\n",
       "min         1.000000\n",
       "25%        10.000000\n",
       "50%        19.000000\n",
       "75%        73.000000\n",
       "max       617.000000\n",
       "Name: Recency, dtype: float64"
      ]
     },
     "execution_count": 102,
     "metadata": {},
     "output_type": "execute_result"
    }
   ],
   "source": [
    "# less days of visit means the cx has visited recently and they are valuable\n",
    "\n",
    "\n",
    "RFMscore['Recency'].describe()"
   ]
  },
  {
   "cell_type": "code",
   "execution_count": 103,
   "id": "96030123",
   "metadata": {},
   "outputs": [
    {
     "data": {
      "text/plain": [
       "count    4349.000000\n",
       "mean       92.632559\n",
       "std       230.742279\n",
       "min         1.000000\n",
       "25%        17.000000\n",
       "50%        42.000000\n",
       "75%       101.000000\n",
       "max      7919.000000\n",
       "Name: Frequency, dtype: float64"
      ]
     },
     "execution_count": 103,
     "metadata": {},
     "output_type": "execute_result"
    }
   ],
   "source": [
    "# Cx who has visited multiple times are valuable cx\n",
    "\n",
    "RFMscore['Frequency'].describe()"
   ]
  },
  {
   "cell_type": "code",
   "execution_count": 106,
   "id": "f7727b71",
   "metadata": {},
   "outputs": [
    {
     "data": {
      "text/plain": [
       "count    4.349000e+03\n",
       "mean     2.294939e+05\n",
       "std      8.556685e+05\n",
       "min     -5.037200e+04\n",
       "25%      3.814000e+04\n",
       "50%      8.363500e+04\n",
       "75%      2.054440e+05\n",
       "max      3.547209e+07\n",
       "Name: Monetary, dtype: float64"
      ]
     },
     "execution_count": 106,
     "metadata": {},
     "output_type": "execute_result"
    }
   ],
   "source": [
    "# CX with high spends are valuable\n",
    "\n",
    "RFMscore['Monetary'].describe()"
   ]
  },
  {
   "cell_type": "code",
   "execution_count": 107,
   "id": "522135fc",
   "metadata": {},
   "outputs": [
    {
     "data": {
      "text/plain": [
       "{'CustomerID': {0.25: 1095.0, 0.5: 2186.0, 0.75: 3279.0},\n",
       " 'Recency': {0.25: 10.0, 0.5: 19.0, 0.75: 73.0},\n",
       " 'Frequency': {0.25: 17.0, 0.5: 42.0, 0.75: 101.0},\n",
       " 'Monetary': {0.25: 38140.0, 0.5: 83635.0, 0.75: 205444.0}}"
      ]
     },
     "execution_count": 107,
     "metadata": {},
     "output_type": "execute_result"
    }
   ],
   "source": [
    "# Quantiles q1,q2,q3 of RFM which is used to segment the cx\n",
    "\n",
    "quantile = RFMscore.quantile(q=[0.25,0.50,0.75])\n",
    "quantile = quantile.to_dict()\n",
    "quantile"
   ]
  },
  {
   "cell_type": "code",
   "execution_count": 108,
   "id": "b5feb5a7",
   "metadata": {},
   "outputs": [],
   "source": [
    "# Functoin to Segment cx based on Recency\n",
    "\n",
    "def recency(rec,q,v):\n",
    "    \n",
    "    if rec<=q[v][0.25]:\n",
    "        return 1\n",
    "    elif rec<=q[v][0.50]:\n",
    "        return 2\n",
    "    elif rec<=q[v][0.75]:\n",
    "        return 3\n",
    "    else:\n",
    "        return 4\n",
    "    "
   ]
  },
  {
   "cell_type": "code",
   "execution_count": 109,
   "id": "f25d87ef",
   "metadata": {},
   "outputs": [],
   "source": [
    "# Function to segment cx based on Frequency\n",
    "\n",
    "def frequency(rec,q,v):\n",
    "    if rec<=q[v][0.25]:\n",
    "        return 4\n",
    "    elif rec<=q[v][0.50]:\n",
    "        return 3\n",
    "    elif rec<=q[v][0.75]:\n",
    "        return 2\n",
    "    else:\n",
    "        return 1"
   ]
  },
  {
   "cell_type": "code",
   "execution_count": 110,
   "id": "30178fd9",
   "metadata": {},
   "outputs": [],
   "source": [
    "# Function to segment cx based on Monetary\n",
    "\n",
    "def monetary(rec,q,v):\n",
    "    if rec<=q[v][0.25]:\n",
    "        return 4\n",
    "    elif rec<=q[v][0.50]:\n",
    "        return 3\n",
    "    elif rec<=q[v][0.75]:\n",
    "        return 2\n",
    "    else:\n",
    "        return 1"
   ]
  },
  {
   "cell_type": "code",
   "execution_count": null,
   "id": "8ce3ec69",
   "metadata": {},
   "outputs": [],
   "source": [
    "# To segement the cx based on the quantile value of recency, frequency, monetary"
   ]
  },
  {
   "cell_type": "code",
   "execution_count": 111,
   "id": "741f59f2",
   "metadata": {},
   "outputs": [],
   "source": [
    "RFMscore['R'] = RFMscore['Recency'].apply(recency, args= (quantile,'Recency'))"
   ]
  },
  {
   "cell_type": "code",
   "execution_count": 112,
   "id": "a90dc5c5",
   "metadata": {},
   "outputs": [],
   "source": [
    "RFMscore['F'] = RFMscore['Frequency'].apply(frequency, args= (quantile,'Frequency'))"
   ]
  },
  {
   "cell_type": "code",
   "execution_count": 113,
   "id": "4f467712",
   "metadata": {},
   "outputs": [],
   "source": [
    "RFMscore['M'] = RFMscore['Monetary'].apply(monetary, args= (quantile,'Monetary'))"
   ]
  },
  {
   "cell_type": "code",
   "execution_count": 116,
   "id": "a9b6a6f3",
   "metadata": {},
   "outputs": [],
   "source": [
    "RFMscore.reset_index(inplace=True)"
   ]
  },
  {
   "cell_type": "code",
   "execution_count": 117,
   "id": "b35cef00",
   "metadata": {},
   "outputs": [
    {
     "data": {
      "text/html": [
       "<div>\n",
       "<style scoped>\n",
       "    .dataframe tbody tr th:only-of-type {\n",
       "        vertical-align: middle;\n",
       "    }\n",
       "\n",
       "    .dataframe tbody tr th {\n",
       "        vertical-align: top;\n",
       "    }\n",
       "\n",
       "    .dataframe thead th {\n",
       "        text-align: right;\n",
       "    }\n",
       "</style>\n",
       "<table border=\"1\" class=\"dataframe\">\n",
       "  <thead>\n",
       "    <tr style=\"text-align: right;\">\n",
       "      <th></th>\n",
       "      <th>CustomerID</th>\n",
       "      <th>Recency</th>\n",
       "      <th>Frequency</th>\n",
       "      <th>Monetary</th>\n",
       "      <th>R</th>\n",
       "      <th>F</th>\n",
       "      <th>M</th>\n",
       "    </tr>\n",
       "  </thead>\n",
       "  <tbody>\n",
       "    <tr>\n",
       "      <th>0</th>\n",
       "      <td>2.0</td>\n",
       "      <td>4</td>\n",
       "      <td>181</td>\n",
       "      <td>550416.0</td>\n",
       "      <td>1</td>\n",
       "      <td>1</td>\n",
       "      <td>1</td>\n",
       "    </tr>\n",
       "    <tr>\n",
       "      <th>1</th>\n",
       "      <td>3.0</td>\n",
       "      <td>77</td>\n",
       "      <td>27</td>\n",
       "      <td>257404.0</td>\n",
       "      <td>4</td>\n",
       "      <td>3</td>\n",
       "      <td>1</td>\n",
       "    </tr>\n",
       "    <tr>\n",
       "      <th>2</th>\n",
       "      <td>4.0</td>\n",
       "      <td>20</td>\n",
       "      <td>72</td>\n",
       "      <td>176613.0</td>\n",
       "      <td>3</td>\n",
       "      <td>2</td>\n",
       "      <td>2</td>\n",
       "    </tr>\n",
       "    <tr>\n",
       "      <th>3</th>\n",
       "      <td>5.0</td>\n",
       "      <td>18</td>\n",
       "      <td>16</td>\n",
       "      <td>41976.0</td>\n",
       "      <td>2</td>\n",
       "      <td>4</td>\n",
       "      <td>3</td>\n",
       "    </tr>\n",
       "    <tr>\n",
       "      <th>4</th>\n",
       "      <td>6.0</td>\n",
       "      <td>9</td>\n",
       "      <td>84</td>\n",
       "      <td>151822.0</td>\n",
       "      <td>1</td>\n",
       "      <td>2</td>\n",
       "      <td>2</td>\n",
       "    </tr>\n",
       "    <tr>\n",
       "      <th>...</th>\n",
       "      <td>...</td>\n",
       "      <td>...</td>\n",
       "      <td>...</td>\n",
       "      <td>...</td>\n",
       "      <td>...</td>\n",
       "      <td>...</td>\n",
       "      <td>...</td>\n",
       "    </tr>\n",
       "    <tr>\n",
       "      <th>4344</th>\n",
       "      <td>4368.0</td>\n",
       "      <td>17</td>\n",
       "      <td>10</td>\n",
       "      <td>20480.0</td>\n",
       "      <td>2</td>\n",
       "      <td>4</td>\n",
       "      <td>4</td>\n",
       "    </tr>\n",
       "    <tr>\n",
       "      <th>4345</th>\n",
       "      <td>4369.0</td>\n",
       "      <td>181</td>\n",
       "      <td>7</td>\n",
       "      <td>10774.0</td>\n",
       "      <td>4</td>\n",
       "      <td>4</td>\n",
       "      <td>4</td>\n",
       "    </tr>\n",
       "    <tr>\n",
       "      <th>4346</th>\n",
       "      <td>4370.0</td>\n",
       "      <td>12</td>\n",
       "      <td>13</td>\n",
       "      <td>24962.0</td>\n",
       "      <td>2</td>\n",
       "      <td>4</td>\n",
       "      <td>4</td>\n",
       "    </tr>\n",
       "    <tr>\n",
       "      <th>4347</th>\n",
       "      <td>4371.0</td>\n",
       "      <td>4</td>\n",
       "      <td>751</td>\n",
       "      <td>279720.0</td>\n",
       "      <td>1</td>\n",
       "      <td>1</td>\n",
       "      <td>1</td>\n",
       "    </tr>\n",
       "    <tr>\n",
       "      <th>4348</th>\n",
       "      <td>4372.0</td>\n",
       "      <td>51</td>\n",
       "      <td>68</td>\n",
       "      <td>256952.0</td>\n",
       "      <td>3</td>\n",
       "      <td>2</td>\n",
       "      <td>1</td>\n",
       "    </tr>\n",
       "  </tbody>\n",
       "</table>\n",
       "<p>4349 rows × 7 columns</p>\n",
       "</div>"
      ],
      "text/plain": [
       "      CustomerID  Recency  Frequency  Monetary  R  F  M\n",
       "0            2.0        4        181  550416.0  1  1  1\n",
       "1            3.0       77         27  257404.0  4  3  1\n",
       "2            4.0       20         72  176613.0  3  2  2\n",
       "3            5.0       18         16   41976.0  2  4  3\n",
       "4            6.0        9         84  151822.0  1  2  2\n",
       "...          ...      ...        ...       ... .. .. ..\n",
       "4344      4368.0       17         10   20480.0  2  4  4\n",
       "4345      4369.0      181          7   10774.0  4  4  4\n",
       "4346      4370.0       12         13   24962.0  2  4  4\n",
       "4347      4371.0        4        751  279720.0  1  1  1\n",
       "4348      4372.0       51         68  256952.0  3  2  1\n",
       "\n",
       "[4349 rows x 7 columns]"
      ]
     },
     "execution_count": 117,
     "metadata": {},
     "output_type": "execute_result"
    }
   ],
   "source": [
    "# scores of 1,1,1 are good customers and 4,4,4 are non important cx\n",
    "\n",
    "RFMscore"
   ]
  },
  {
   "cell_type": "code",
   "execution_count": 118,
   "id": "0c1bae3e",
   "metadata": {},
   "outputs": [],
   "source": [
    "# Adding the R,F,M values, so that score 3 being the best cx and 12 being the poor cx\n",
    "\n",
    "\n",
    "RFMscore['RFM'] = RFMscore['R']+RFMscore['F']+RFMscore['M']"
   ]
  },
  {
   "cell_type": "code",
   "execution_count": 119,
   "id": "73165deb",
   "metadata": {},
   "outputs": [
    {
     "data": {
      "text/html": [
       "<div>\n",
       "<style scoped>\n",
       "    .dataframe tbody tr th:only-of-type {\n",
       "        vertical-align: middle;\n",
       "    }\n",
       "\n",
       "    .dataframe tbody tr th {\n",
       "        vertical-align: top;\n",
       "    }\n",
       "\n",
       "    .dataframe thead th {\n",
       "        text-align: right;\n",
       "    }\n",
       "</style>\n",
       "<table border=\"1\" class=\"dataframe\">\n",
       "  <thead>\n",
       "    <tr style=\"text-align: right;\">\n",
       "      <th></th>\n",
       "      <th>CustomerID</th>\n",
       "      <th>Recency</th>\n",
       "      <th>Frequency</th>\n",
       "      <th>Monetary</th>\n",
       "      <th>R</th>\n",
       "      <th>F</th>\n",
       "      <th>M</th>\n",
       "      <th>RFM</th>\n",
       "    </tr>\n",
       "  </thead>\n",
       "  <tbody>\n",
       "    <tr>\n",
       "      <th>0</th>\n",
       "      <td>2.0</td>\n",
       "      <td>4</td>\n",
       "      <td>181</td>\n",
       "      <td>550416.0</td>\n",
       "      <td>1</td>\n",
       "      <td>1</td>\n",
       "      <td>1</td>\n",
       "      <td>3</td>\n",
       "    </tr>\n",
       "    <tr>\n",
       "      <th>1</th>\n",
       "      <td>3.0</td>\n",
       "      <td>77</td>\n",
       "      <td>27</td>\n",
       "      <td>257404.0</td>\n",
       "      <td>4</td>\n",
       "      <td>3</td>\n",
       "      <td>1</td>\n",
       "      <td>8</td>\n",
       "    </tr>\n",
       "    <tr>\n",
       "      <th>2</th>\n",
       "      <td>4.0</td>\n",
       "      <td>20</td>\n",
       "      <td>72</td>\n",
       "      <td>176613.0</td>\n",
       "      <td>3</td>\n",
       "      <td>2</td>\n",
       "      <td>2</td>\n",
       "      <td>7</td>\n",
       "    </tr>\n",
       "    <tr>\n",
       "      <th>3</th>\n",
       "      <td>5.0</td>\n",
       "      <td>18</td>\n",
       "      <td>16</td>\n",
       "      <td>41976.0</td>\n",
       "      <td>2</td>\n",
       "      <td>4</td>\n",
       "      <td>3</td>\n",
       "      <td>9</td>\n",
       "    </tr>\n",
       "    <tr>\n",
       "      <th>4</th>\n",
       "      <td>6.0</td>\n",
       "      <td>9</td>\n",
       "      <td>84</td>\n",
       "      <td>151822.0</td>\n",
       "      <td>1</td>\n",
       "      <td>2</td>\n",
       "      <td>2</td>\n",
       "      <td>5</td>\n",
       "    </tr>\n",
       "    <tr>\n",
       "      <th>...</th>\n",
       "      <td>...</td>\n",
       "      <td>...</td>\n",
       "      <td>...</td>\n",
       "      <td>...</td>\n",
       "      <td>...</td>\n",
       "      <td>...</td>\n",
       "      <td>...</td>\n",
       "      <td>...</td>\n",
       "    </tr>\n",
       "    <tr>\n",
       "      <th>4344</th>\n",
       "      <td>4368.0</td>\n",
       "      <td>17</td>\n",
       "      <td>10</td>\n",
       "      <td>20480.0</td>\n",
       "      <td>2</td>\n",
       "      <td>4</td>\n",
       "      <td>4</td>\n",
       "      <td>10</td>\n",
       "    </tr>\n",
       "    <tr>\n",
       "      <th>4345</th>\n",
       "      <td>4369.0</td>\n",
       "      <td>181</td>\n",
       "      <td>7</td>\n",
       "      <td>10774.0</td>\n",
       "      <td>4</td>\n",
       "      <td>4</td>\n",
       "      <td>4</td>\n",
       "      <td>12</td>\n",
       "    </tr>\n",
       "    <tr>\n",
       "      <th>4346</th>\n",
       "      <td>4370.0</td>\n",
       "      <td>12</td>\n",
       "      <td>13</td>\n",
       "      <td>24962.0</td>\n",
       "      <td>2</td>\n",
       "      <td>4</td>\n",
       "      <td>4</td>\n",
       "      <td>10</td>\n",
       "    </tr>\n",
       "    <tr>\n",
       "      <th>4347</th>\n",
       "      <td>4371.0</td>\n",
       "      <td>4</td>\n",
       "      <td>751</td>\n",
       "      <td>279720.0</td>\n",
       "      <td>1</td>\n",
       "      <td>1</td>\n",
       "      <td>1</td>\n",
       "      <td>3</td>\n",
       "    </tr>\n",
       "    <tr>\n",
       "      <th>4348</th>\n",
       "      <td>4372.0</td>\n",
       "      <td>51</td>\n",
       "      <td>68</td>\n",
       "      <td>256952.0</td>\n",
       "      <td>3</td>\n",
       "      <td>2</td>\n",
       "      <td>1</td>\n",
       "      <td>6</td>\n",
       "    </tr>\n",
       "  </tbody>\n",
       "</table>\n",
       "<p>4349 rows × 8 columns</p>\n",
       "</div>"
      ],
      "text/plain": [
       "      CustomerID  Recency  Frequency  Monetary  R  F  M  RFM\n",
       "0            2.0        4        181  550416.0  1  1  1    3\n",
       "1            3.0       77         27  257404.0  4  3  1    8\n",
       "2            4.0       20         72  176613.0  3  2  2    7\n",
       "3            5.0       18         16   41976.0  2  4  3    9\n",
       "4            6.0        9         84  151822.0  1  2  2    5\n",
       "...          ...      ...        ...       ... .. .. ..  ...\n",
       "4344      4368.0       17         10   20480.0  2  4  4   10\n",
       "4345      4369.0      181          7   10774.0  4  4  4   12\n",
       "4346      4370.0       12         13   24962.0  2  4  4   10\n",
       "4347      4371.0        4        751  279720.0  1  1  1    3\n",
       "4348      4372.0       51         68  256952.0  3  2  1    6\n",
       "\n",
       "[4349 rows x 8 columns]"
      ]
     },
     "execution_count": 119,
     "metadata": {},
     "output_type": "execute_result"
    }
   ],
   "source": [
    "RFMscore"
   ]
  },
  {
   "cell_type": "code",
   "execution_count": 121,
   "id": "f8c525ac",
   "metadata": {},
   "outputs": [
    {
     "data": {
      "text/plain": [
       "3     509\n",
       "10    480\n",
       "9     460\n",
       "8     451\n",
       "7     439\n",
       "12    408\n",
       "11    404\n",
       "5     402\n",
       "6     399\n",
       "4     397\n",
       "Name: RFM, dtype: int64"
      ]
     },
     "execution_count": 121,
     "metadata": {},
     "output_type": "execute_result"
    }
   ],
   "source": [
    "# Num of cx in each score\n",
    "\n",
    "RFMscore['RFM'].value_counts()"
   ]
  },
  {
   "cell_type": "code",
   "execution_count": 122,
   "id": "9e30f64e",
   "metadata": {},
   "outputs": [],
   "source": [
    "# To split the scores into 4 quartiles/segments and naming them \n",
    "\n",
    "Customer_category = ['Platinum','Gold','Silver','Bronze']\n",
    "\n",
    "Score_cuts = pd.qcut(RFMscore['RFM'],q=4,labels=Customer_category)"
   ]
  },
  {
   "cell_type": "code",
   "execution_count": 124,
   "id": "8d872178",
   "metadata": {},
   "outputs": [],
   "source": [
    "# Assigning the name to each quartile\n",
    "\n",
    "RFMscore['Customer_category'] = Score_cuts.values"
   ]
  },
  {
   "cell_type": "code",
   "execution_count": 129,
   "id": "86d6c5c6",
   "metadata": {},
   "outputs": [
    {
     "data": {
      "text/html": [
       "<div>\n",
       "<style scoped>\n",
       "    .dataframe tbody tr th:only-of-type {\n",
       "        vertical-align: middle;\n",
       "    }\n",
       "\n",
       "    .dataframe tbody tr th {\n",
       "        vertical-align: top;\n",
       "    }\n",
       "\n",
       "    .dataframe thead th {\n",
       "        text-align: right;\n",
       "    }\n",
       "</style>\n",
       "<table border=\"1\" class=\"dataframe\">\n",
       "  <thead>\n",
       "    <tr style=\"text-align: right;\">\n",
       "      <th></th>\n",
       "      <th>CustomerID</th>\n",
       "      <th>Recency</th>\n",
       "      <th>Frequency</th>\n",
       "      <th>Monetary</th>\n",
       "      <th>R</th>\n",
       "      <th>F</th>\n",
       "      <th>M</th>\n",
       "      <th>RFM</th>\n",
       "      <th>Customer_category</th>\n",
       "    </tr>\n",
       "  </thead>\n",
       "  <tbody>\n",
       "    <tr>\n",
       "      <th>0</th>\n",
       "      <td>2.0</td>\n",
       "      <td>4</td>\n",
       "      <td>181</td>\n",
       "      <td>550416.0</td>\n",
       "      <td>1</td>\n",
       "      <td>1</td>\n",
       "      <td>1</td>\n",
       "      <td>3</td>\n",
       "      <td>Platinum</td>\n",
       "    </tr>\n",
       "    <tr>\n",
       "      <th>1</th>\n",
       "      <td>3.0</td>\n",
       "      <td>77</td>\n",
       "      <td>27</td>\n",
       "      <td>257404.0</td>\n",
       "      <td>4</td>\n",
       "      <td>3</td>\n",
       "      <td>1</td>\n",
       "      <td>8</td>\n",
       "      <td>Gold</td>\n",
       "    </tr>\n",
       "    <tr>\n",
       "      <th>2</th>\n",
       "      <td>4.0</td>\n",
       "      <td>20</td>\n",
       "      <td>72</td>\n",
       "      <td>176613.0</td>\n",
       "      <td>3</td>\n",
       "      <td>2</td>\n",
       "      <td>2</td>\n",
       "      <td>7</td>\n",
       "      <td>Gold</td>\n",
       "    </tr>\n",
       "    <tr>\n",
       "      <th>3</th>\n",
       "      <td>5.0</td>\n",
       "      <td>18</td>\n",
       "      <td>16</td>\n",
       "      <td>41976.0</td>\n",
       "      <td>2</td>\n",
       "      <td>4</td>\n",
       "      <td>3</td>\n",
       "      <td>9</td>\n",
       "      <td>Silver</td>\n",
       "    </tr>\n",
       "    <tr>\n",
       "      <th>4</th>\n",
       "      <td>6.0</td>\n",
       "      <td>9</td>\n",
       "      <td>84</td>\n",
       "      <td>151822.0</td>\n",
       "      <td>1</td>\n",
       "      <td>2</td>\n",
       "      <td>2</td>\n",
       "      <td>5</td>\n",
       "      <td>Platinum</td>\n",
       "    </tr>\n",
       "    <tr>\n",
       "      <th>...</th>\n",
       "      <td>...</td>\n",
       "      <td>...</td>\n",
       "      <td>...</td>\n",
       "      <td>...</td>\n",
       "      <td>...</td>\n",
       "      <td>...</td>\n",
       "      <td>...</td>\n",
       "      <td>...</td>\n",
       "      <td>...</td>\n",
       "    </tr>\n",
       "    <tr>\n",
       "      <th>4344</th>\n",
       "      <td>4368.0</td>\n",
       "      <td>17</td>\n",
       "      <td>10</td>\n",
       "      <td>20480.0</td>\n",
       "      <td>2</td>\n",
       "      <td>4</td>\n",
       "      <td>4</td>\n",
       "      <td>10</td>\n",
       "      <td>Silver</td>\n",
       "    </tr>\n",
       "    <tr>\n",
       "      <th>4345</th>\n",
       "      <td>4369.0</td>\n",
       "      <td>181</td>\n",
       "      <td>7</td>\n",
       "      <td>10774.0</td>\n",
       "      <td>4</td>\n",
       "      <td>4</td>\n",
       "      <td>4</td>\n",
       "      <td>12</td>\n",
       "      <td>Bronze</td>\n",
       "    </tr>\n",
       "    <tr>\n",
       "      <th>4346</th>\n",
       "      <td>4370.0</td>\n",
       "      <td>12</td>\n",
       "      <td>13</td>\n",
       "      <td>24962.0</td>\n",
       "      <td>2</td>\n",
       "      <td>4</td>\n",
       "      <td>4</td>\n",
       "      <td>10</td>\n",
       "      <td>Silver</td>\n",
       "    </tr>\n",
       "    <tr>\n",
       "      <th>4347</th>\n",
       "      <td>4371.0</td>\n",
       "      <td>4</td>\n",
       "      <td>751</td>\n",
       "      <td>279720.0</td>\n",
       "      <td>1</td>\n",
       "      <td>1</td>\n",
       "      <td>1</td>\n",
       "      <td>3</td>\n",
       "      <td>Platinum</td>\n",
       "    </tr>\n",
       "    <tr>\n",
       "      <th>4348</th>\n",
       "      <td>4372.0</td>\n",
       "      <td>51</td>\n",
       "      <td>68</td>\n",
       "      <td>256952.0</td>\n",
       "      <td>3</td>\n",
       "      <td>2</td>\n",
       "      <td>1</td>\n",
       "      <td>6</td>\n",
       "      <td>Gold</td>\n",
       "    </tr>\n",
       "  </tbody>\n",
       "</table>\n",
       "<p>4349 rows × 9 columns</p>\n",
       "</div>"
      ],
      "text/plain": [
       "      CustomerID  Recency  Frequency  Monetary  R  F  M  RFM Customer_category\n",
       "0            2.0        4        181  550416.0  1  1  1    3          Platinum\n",
       "1            3.0       77         27  257404.0  4  3  1    8              Gold\n",
       "2            4.0       20         72  176613.0  3  2  2    7              Gold\n",
       "3            5.0       18         16   41976.0  2  4  3    9            Silver\n",
       "4            6.0        9         84  151822.0  1  2  2    5          Platinum\n",
       "...          ...      ...        ...       ... .. .. ..  ...               ...\n",
       "4344      4368.0       17         10   20480.0  2  4  4   10            Silver\n",
       "4345      4369.0      181          7   10774.0  4  4  4   12            Bronze\n",
       "4346      4370.0       12         13   24962.0  2  4  4   10            Silver\n",
       "4347      4371.0        4        751  279720.0  1  1  1    3          Platinum\n",
       "4348      4372.0       51         68  256952.0  3  2  1    6              Gold\n",
       "\n",
       "[4349 rows x 9 columns]"
      ]
     },
     "execution_count": 129,
     "metadata": {},
     "output_type": "execute_result"
    }
   ],
   "source": [
    "RFMscore"
   ]
  },
  {
   "cell_type": "code",
   "execution_count": 130,
   "id": "e138b019",
   "metadata": {},
   "outputs": [],
   "source": [
    "# Exporting Manual data as csv\n",
    "\n",
    "\n",
    "RFMscore.to_csv('Segementation_Analysis')"
   ]
  },
  {
   "cell_type": "code",
   "execution_count": 133,
   "id": "ae4b0172",
   "metadata": {},
   "outputs": [],
   "source": [
    "# Visualization\n",
    "# calculating the aggregated RFM value for each category \n",
    "\n",
    "new_data_point = RFMscore.groupby('Customer_category')[['Recency','Frequency','Monetary','CustomerID']].agg({\n",
    "    'Recency':'sum','Frequency':'sum','Monetary':'sum','CustomerID':'nunique'\n",
    "}).reset_index()"
   ]
  },
  {
   "cell_type": "code",
   "execution_count": 135,
   "id": "bd2437f5",
   "metadata": {},
   "outputs": [],
   "source": [
    "new_data_point.rename(columns={'CustomerID':'Num_of_customers'},inplace=True)"
   ]
  },
  {
   "cell_type": "code",
   "execution_count": 138,
   "id": "a77ce439",
   "metadata": {},
   "outputs": [],
   "source": [
    "# percentage distribution among the diff category \n",
    "\n",
    "new_data_point['Percentage'] = round(new_data_point['Num_of_customers']/new_data_point['Num_of_customers'].sum()*100,2)"
   ]
  },
  {
   "cell_type": "code",
   "execution_count": 139,
   "id": "f853dfce",
   "metadata": {},
   "outputs": [
    {
     "data": {
      "text/html": [
       "<div>\n",
       "<style scoped>\n",
       "    .dataframe tbody tr th:only-of-type {\n",
       "        vertical-align: middle;\n",
       "    }\n",
       "\n",
       "    .dataframe tbody tr th {\n",
       "        vertical-align: top;\n",
       "    }\n",
       "\n",
       "    .dataframe thead th {\n",
       "        text-align: right;\n",
       "    }\n",
       "</style>\n",
       "<table border=\"1\" class=\"dataframe\">\n",
       "  <thead>\n",
       "    <tr style=\"text-align: right;\">\n",
       "      <th></th>\n",
       "      <th>Customer_category</th>\n",
       "      <th>Recency</th>\n",
       "      <th>Frequency</th>\n",
       "      <th>Monetary</th>\n",
       "      <th>Num_of_customers</th>\n",
       "      <th>Percentage</th>\n",
       "    </tr>\n",
       "  </thead>\n",
       "  <tbody>\n",
       "    <tr>\n",
       "      <th>0</th>\n",
       "      <td>Platinum</td>\n",
       "      <td>13340</td>\n",
       "      <td>297150</td>\n",
       "      <td>765731356.0</td>\n",
       "      <td>1308</td>\n",
       "      <td>30.08</td>\n",
       "    </tr>\n",
       "    <tr>\n",
       "      <th>1</th>\n",
       "      <td>Gold</td>\n",
       "      <td>42079</td>\n",
       "      <td>73994</td>\n",
       "      <td>160271639.0</td>\n",
       "      <td>1289</td>\n",
       "      <td>29.64</td>\n",
       "    </tr>\n",
       "    <tr>\n",
       "      <th>2</th>\n",
       "      <td>Silver</td>\n",
       "      <td>78927</td>\n",
       "      <td>23588</td>\n",
       "      <td>52766014.1</td>\n",
       "      <td>940</td>\n",
       "      <td>21.61</td>\n",
       "    </tr>\n",
       "    <tr>\n",
       "      <th>3</th>\n",
       "      <td>Bronze</td>\n",
       "      <td>132879</td>\n",
       "      <td>8127</td>\n",
       "      <td>19300105.0</td>\n",
       "      <td>812</td>\n",
       "      <td>18.67</td>\n",
       "    </tr>\n",
       "  </tbody>\n",
       "</table>\n",
       "</div>"
      ],
      "text/plain": [
       "  Customer_category  Recency  Frequency     Monetary  Num_of_customers  \\\n",
       "0          Platinum    13340     297150  765731356.0              1308   \n",
       "1              Gold    42079      73994  160271639.0              1289   \n",
       "2            Silver    78927      23588   52766014.1               940   \n",
       "3            Bronze   132879       8127   19300105.0               812   \n",
       "\n",
       "   Percentage  \n",
       "0       30.08  \n",
       "1       29.64  \n",
       "2       21.61  \n",
       "3       18.67  "
      ]
     },
     "execution_count": 139,
     "metadata": {},
     "output_type": "execute_result"
    }
   ],
   "source": [
    "new_data_point"
   ]
  },
  {
   "cell_type": "code",
   "execution_count": 160,
   "id": "fa61cb01",
   "metadata": {},
   "outputs": [
    {
     "data": {
      "image/png": "[encoded data removed]",
      "text/plain": [
       "<Figure size 640x480 with 1 Axes>"
      ]
     },
     "metadata": {},
     "output_type": "display_data"
    }
   ],
   "source": [
    "# pie plot representation of cx category distribution\n",
    "\n",
    "plt.pie(new_data_point['Percentage'],labels=new_data_point['Customer_category'],autopct='%.2f')\n",
    "plt.show()"
   ]
  },
  {
   "cell_type": "markdown",
   "id": "98c799b3",
   "metadata": {},
   "source": [
    "## KMeans Clustering"
   ]
  },
  {
   "cell_type": "code",
   "execution_count": 164,
   "id": "42e23c9c",
   "metadata": {},
   "outputs": [],
   "source": [
    "# Analysing using KMeans model\n",
    "# Extracting RFM score values only for analysis\n",
    "\n",
    "RFMscore1 = RFMscore.iloc[:,1:4]"
   ]
  },
  {
   "cell_type": "code",
   "execution_count": 166,
   "id": "39b71d2d",
   "metadata": {},
   "outputs": [
    {
     "data": {
      "text/html": [
       "<div>\n",
       "<style scoped>\n",
       "    .dataframe tbody tr th:only-of-type {\n",
       "        vertical-align: middle;\n",
       "    }\n",
       "\n",
       "    .dataframe tbody tr th {\n",
       "        vertical-align: top;\n",
       "    }\n",
       "\n",
       "    .dataframe thead th {\n",
       "        text-align: right;\n",
       "    }\n",
       "</style>\n",
       "<table border=\"1\" class=\"dataframe\">\n",
       "  <thead>\n",
       "    <tr style=\"text-align: right;\">\n",
       "      <th></th>\n",
       "      <th>Recency</th>\n",
       "      <th>Frequency</th>\n",
       "      <th>Monetary</th>\n",
       "    </tr>\n",
       "  </thead>\n",
       "  <tbody>\n",
       "    <tr>\n",
       "      <th>0</th>\n",
       "      <td>4</td>\n",
       "      <td>181</td>\n",
       "      <td>550416.0</td>\n",
       "    </tr>\n",
       "    <tr>\n",
       "      <th>1</th>\n",
       "      <td>77</td>\n",
       "      <td>27</td>\n",
       "      <td>257404.0</td>\n",
       "    </tr>\n",
       "    <tr>\n",
       "      <th>2</th>\n",
       "      <td>20</td>\n",
       "      <td>72</td>\n",
       "      <td>176613.0</td>\n",
       "    </tr>\n",
       "    <tr>\n",
       "      <th>3</th>\n",
       "      <td>18</td>\n",
       "      <td>16</td>\n",
       "      <td>41976.0</td>\n",
       "    </tr>\n",
       "    <tr>\n",
       "      <th>4</th>\n",
       "      <td>9</td>\n",
       "      <td>84</td>\n",
       "      <td>151822.0</td>\n",
       "    </tr>\n",
       "    <tr>\n",
       "      <th>...</th>\n",
       "      <td>...</td>\n",
       "      <td>...</td>\n",
       "      <td>...</td>\n",
       "    </tr>\n",
       "    <tr>\n",
       "      <th>4344</th>\n",
       "      <td>17</td>\n",
       "      <td>10</td>\n",
       "      <td>20480.0</td>\n",
       "    </tr>\n",
       "    <tr>\n",
       "      <th>4345</th>\n",
       "      <td>181</td>\n",
       "      <td>7</td>\n",
       "      <td>10774.0</td>\n",
       "    </tr>\n",
       "    <tr>\n",
       "      <th>4346</th>\n",
       "      <td>12</td>\n",
       "      <td>13</td>\n",
       "      <td>24962.0</td>\n",
       "    </tr>\n",
       "    <tr>\n",
       "      <th>4347</th>\n",
       "      <td>4</td>\n",
       "      <td>751</td>\n",
       "      <td>279720.0</td>\n",
       "    </tr>\n",
       "    <tr>\n",
       "      <th>4348</th>\n",
       "      <td>51</td>\n",
       "      <td>68</td>\n",
       "      <td>256952.0</td>\n",
       "    </tr>\n",
       "  </tbody>\n",
       "</table>\n",
       "<p>4349 rows × 3 columns</p>\n",
       "</div>"
      ],
      "text/plain": [
       "      Recency  Frequency  Monetary\n",
       "0           4        181  550416.0\n",
       "1          77         27  257404.0\n",
       "2          20         72  176613.0\n",
       "3          18         16   41976.0\n",
       "4           9         84  151822.0\n",
       "...       ...        ...       ...\n",
       "4344       17         10   20480.0\n",
       "4345      181          7   10774.0\n",
       "4346       12         13   24962.0\n",
       "4347        4        751  279720.0\n",
       "4348       51         68  256952.0\n",
       "\n",
       "[4349 rows x 3 columns]"
      ]
     },
     "execution_count": 166,
     "metadata": {},
     "output_type": "execute_result"
    }
   ],
   "source": [
    "RFMscore1"
   ]
  },
  {
   "cell_type": "code",
   "execution_count": 168,
   "id": "eebf1a34",
   "metadata": {},
   "outputs": [],
   "source": [
    "from sklearn.preprocessing import StandardScaler\n",
    "\n",
    "# Since the data in monetary variable is higher, we scale it, using standard scaler\n",
    "\n",
    "sc = StandardScaler()\n",
    "rfm = sc.fit_transform(RFMscore1)"
   ]
  },
  {
   "cell_type": "code",
   "execution_count": 170,
   "id": "f754357b",
   "metadata": {},
   "outputs": [],
   "source": [
    "# creating dataframe to store the scaled data\n",
    "\n",
    "scaled_data = pd.DataFrame(rfm, index = RFMscore1.index, columns = RFMscore1.columns)"
   ]
  },
  {
   "cell_type": "code",
   "execution_count": 171,
   "id": "c8b7b558",
   "metadata": {},
   "outputs": [
    {
     "data": {
      "text/html": [
       "<div>\n",
       "<style scoped>\n",
       "    .dataframe tbody tr th:only-of-type {\n",
       "        vertical-align: middle;\n",
       "    }\n",
       "\n",
       "    .dataframe tbody tr th {\n",
       "        vertical-align: top;\n",
       "    }\n",
       "\n",
       "    .dataframe thead th {\n",
       "        text-align: right;\n",
       "    }\n",
       "</style>\n",
       "<table border=\"1\" class=\"dataframe\">\n",
       "  <thead>\n",
       "    <tr style=\"text-align: right;\">\n",
       "      <th></th>\n",
       "      <th>Recency</th>\n",
       "      <th>Frequency</th>\n",
       "      <th>Monetary</th>\n",
       "    </tr>\n",
       "  </thead>\n",
       "  <tbody>\n",
       "    <tr>\n",
       "      <th>0</th>\n",
       "      <td>-0.640796</td>\n",
       "      <td>0.383014</td>\n",
       "      <td>0.375097</td>\n",
       "    </tr>\n",
       "    <tr>\n",
       "      <th>1</th>\n",
       "      <td>0.173513</td>\n",
       "      <td>-0.284474</td>\n",
       "      <td>0.032622</td>\n",
       "    </tr>\n",
       "    <tr>\n",
       "      <th>2</th>\n",
       "      <td>-0.462317</td>\n",
       "      <td>-0.089428</td>\n",
       "      <td>-0.061808</td>\n",
       "    </tr>\n",
       "    <tr>\n",
       "      <th>3</th>\n",
       "      <td>-0.484627</td>\n",
       "      <td>-0.332151</td>\n",
       "      <td>-0.219173</td>\n",
       "    </tr>\n",
       "    <tr>\n",
       "      <th>4</th>\n",
       "      <td>-0.585021</td>\n",
       "      <td>-0.037416</td>\n",
       "      <td>-0.090784</td>\n",
       "    </tr>\n",
       "    <tr>\n",
       "      <th>...</th>\n",
       "      <td>...</td>\n",
       "      <td>...</td>\n",
       "      <td>...</td>\n",
       "    </tr>\n",
       "    <tr>\n",
       "      <th>4344</th>\n",
       "      <td>-0.495782</td>\n",
       "      <td>-0.358157</td>\n",
       "      <td>-0.244298</td>\n",
       "    </tr>\n",
       "    <tr>\n",
       "      <th>4345</th>\n",
       "      <td>1.333623</td>\n",
       "      <td>-0.371160</td>\n",
       "      <td>-0.255642</td>\n",
       "    </tr>\n",
       "    <tr>\n",
       "      <th>4346</th>\n",
       "      <td>-0.551556</td>\n",
       "      <td>-0.345154</td>\n",
       "      <td>-0.239059</td>\n",
       "    </tr>\n",
       "    <tr>\n",
       "      <th>4347</th>\n",
       "      <td>-0.640796</td>\n",
       "      <td>2.853587</td>\n",
       "      <td>0.058705</td>\n",
       "    </tr>\n",
       "    <tr>\n",
       "      <th>4348</th>\n",
       "      <td>-0.116515</td>\n",
       "      <td>-0.106766</td>\n",
       "      <td>0.032093</td>\n",
       "    </tr>\n",
       "  </tbody>\n",
       "</table>\n",
       "<p>4349 rows × 3 columns</p>\n",
       "</div>"
      ],
      "text/plain": [
       "       Recency  Frequency  Monetary\n",
       "0    -0.640796   0.383014  0.375097\n",
       "1     0.173513  -0.284474  0.032622\n",
       "2    -0.462317  -0.089428 -0.061808\n",
       "3    -0.484627  -0.332151 -0.219173\n",
       "4    -0.585021  -0.037416 -0.090784\n",
       "...        ...        ...       ...\n",
       "4344 -0.495782  -0.358157 -0.244298\n",
       "4345  1.333623  -0.371160 -0.255642\n",
       "4346 -0.551556  -0.345154 -0.239059\n",
       "4347 -0.640796   2.853587  0.058705\n",
       "4348 -0.116515  -0.106766  0.032093\n",
       "\n",
       "[4349 rows x 3 columns]"
      ]
     },
     "execution_count": 171,
     "metadata": {},
     "output_type": "execute_result"
    }
   ],
   "source": [
    "scaled_data"
   ]
  },
  {
   "cell_type": "code",
   "execution_count": 172,
   "id": "8aea265c",
   "metadata": {},
   "outputs": [],
   "source": [
    "from sklearn.cluster import KMeans"
   ]
  },
  {
   "cell_type": "code",
   "execution_count": 174,
   "id": "57d0d781",
   "metadata": {},
   "outputs": [],
   "source": [
    "#Running kmeans model with diff clusters to find the wcss value\n",
    "\n",
    "wcss = []\n",
    "\n",
    "for i in range(2,15):\n",
    "    km = KMeans(n_clusters = i,init= 'k-means++',max_iter= 1000,random_state=101)\n",
    "    km.fit(scaled_data)\n",
    "    wcss.append(km.inertia_)"
   ]
  },
  {
   "cell_type": "code",
   "execution_count": 175,
   "id": "1adbac8a",
   "metadata": {},
   "outputs": [
    {
     "data": {
      "text/plain": [
       "[9014.850261247644,\n",
       " 5556.252595830578,\n",
       " 4360.01764079818,\n",
       " 3395.5113997655812,\n",
       " 2484.308783838068,\n",
       " 1977.385006518356,\n",
       " 1707.2951468495858,\n",
       " 1549.3674511554395,\n",
       " 1295.7580014294863,\n",
       " 1130.8929188869624,\n",
       " 1005.4770073822908,\n",
       " 865.9594536402858,\n",
       " 780.9308235109465]"
      ]
     },
     "execution_count": 175,
     "metadata": {},
     "output_type": "execute_result"
    }
   ],
   "source": [
    "wcss"
   ]
  },
  {
   "cell_type": "code",
   "execution_count": 181,
   "id": "7973e4dc",
   "metadata": {},
   "outputs": [],
   "source": [
    "# Number of clusters\n",
    "\n",
    "abc = list(range(1,14))"
   ]
  },
  {
   "cell_type": "code",
   "execution_count": 182,
   "id": "0e79ef9f",
   "metadata": {},
   "outputs": [
    {
     "data": {
      "text/plain": [
       "[1, 2, 3, 4, 5, 6, 7, 8, 9, 10, 11, 12, 13]"
      ]
     },
     "execution_count": 182,
     "metadata": {},
     "output_type": "execute_result"
    }
   ],
   "source": [
    "abc\n"
   ]
  },
  {
   "cell_type": "code",
   "execution_count": 184,
   "id": "de4eb23d",
   "metadata": {},
   "outputs": [
    {
     "data": {
      "text/plain": [
       "<Axes: >"
      ]
     },
     "execution_count": 184,
     "metadata": {},
     "output_type": "execute_result"
    },
    {
     "data": {
      "image/png": "[encoded data removed]",
      "text/plain": [
       "<Figure size 640x480 with 1 Axes>"
      ]
     },
     "metadata": {},
     "output_type": "display_data"
    }
   ],
   "source": [
    "# plotting wcss against num of clusters to get the optimal value\n",
    "# k = 5 is optimal based on the elbow curve approach\n",
    "\n",
    "sns.pointplot(x=abc,y=wcss)"
   ]
  },
  {
   "cell_type": "code",
   "execution_count": 185,
   "id": "a9065c5e",
   "metadata": {},
   "outputs": [],
   "source": [
    "# using k = 5 to run the model\n",
    "\n",
    "km = KMeans(n_clusters = 5,init= 'k-means++',max_iter= 1000,random_state=101)"
   ]
  },
  {
   "cell_type": "code",
   "execution_count": 187,
   "id": "54ef5d1c",
   "metadata": {},
   "outputs": [],
   "source": [
    "# Prediction of cx into 5 segments\n",
    "\n",
    "out = km.fit_predict(scaled_data)"
   ]
  },
  {
   "cell_type": "code",
   "execution_count": 188,
   "id": "8fa72380",
   "metadata": {},
   "outputs": [
    {
     "data": {
      "text/plain": [
       "array([0, 0, 0, ..., 0, 0, 0], dtype=int32)"
      ]
     },
     "execution_count": 188,
     "metadata": {},
     "output_type": "execute_result"
    }
   ],
   "source": [
    "out"
   ]
  },
  {
   "cell_type": "code",
   "execution_count": 201,
   "id": "48ae732f",
   "metadata": {},
   "outputs": [],
   "source": [
    "# Adding cluster variable to scaled data table\n",
    "\n",
    "scaled_data['Cluster'] = out"
   ]
  },
  {
   "cell_type": "code",
   "execution_count": 202,
   "id": "c55e7c0b",
   "metadata": {},
   "outputs": [
    {
     "data": {
      "text/html": [
       "<div>\n",
       "<style scoped>\n",
       "    .dataframe tbody tr th:only-of-type {\n",
       "        vertical-align: middle;\n",
       "    }\n",
       "\n",
       "    .dataframe tbody tr th {\n",
       "        vertical-align: top;\n",
       "    }\n",
       "\n",
       "    .dataframe thead th {\n",
       "        text-align: right;\n",
       "    }\n",
       "</style>\n",
       "<table border=\"1\" class=\"dataframe\">\n",
       "  <thead>\n",
       "    <tr style=\"text-align: right;\">\n",
       "      <th></th>\n",
       "      <th>Recency</th>\n",
       "      <th>Frequency</th>\n",
       "      <th>Monetary</th>\n",
       "      <th>Cluster</th>\n",
       "    </tr>\n",
       "  </thead>\n",
       "  <tbody>\n",
       "    <tr>\n",
       "      <th>0</th>\n",
       "      <td>-0.640796</td>\n",
       "      <td>0.383014</td>\n",
       "      <td>0.375097</td>\n",
       "      <td>0</td>\n",
       "    </tr>\n",
       "    <tr>\n",
       "      <th>1</th>\n",
       "      <td>0.173513</td>\n",
       "      <td>-0.284474</td>\n",
       "      <td>0.032622</td>\n",
       "      <td>0</td>\n",
       "    </tr>\n",
       "    <tr>\n",
       "      <th>2</th>\n",
       "      <td>-0.462317</td>\n",
       "      <td>-0.089428</td>\n",
       "      <td>-0.061808</td>\n",
       "      <td>0</td>\n",
       "    </tr>\n",
       "    <tr>\n",
       "      <th>3</th>\n",
       "      <td>-0.484627</td>\n",
       "      <td>-0.332151</td>\n",
       "      <td>-0.219173</td>\n",
       "      <td>0</td>\n",
       "    </tr>\n",
       "    <tr>\n",
       "      <th>4</th>\n",
       "      <td>-0.585021</td>\n",
       "      <td>-0.037416</td>\n",
       "      <td>-0.090784</td>\n",
       "      <td>0</td>\n",
       "    </tr>\n",
       "    <tr>\n",
       "      <th>...</th>\n",
       "      <td>...</td>\n",
       "      <td>...</td>\n",
       "      <td>...</td>\n",
       "      <td>...</td>\n",
       "    </tr>\n",
       "    <tr>\n",
       "      <th>4344</th>\n",
       "      <td>-0.495782</td>\n",
       "      <td>-0.358157</td>\n",
       "      <td>-0.244298</td>\n",
       "      <td>0</td>\n",
       "    </tr>\n",
       "    <tr>\n",
       "      <th>4345</th>\n",
       "      <td>1.333623</td>\n",
       "      <td>-0.371160</td>\n",
       "      <td>-0.255642</td>\n",
       "      <td>1</td>\n",
       "    </tr>\n",
       "    <tr>\n",
       "      <th>4346</th>\n",
       "      <td>-0.551556</td>\n",
       "      <td>-0.345154</td>\n",
       "      <td>-0.239059</td>\n",
       "      <td>0</td>\n",
       "    </tr>\n",
       "    <tr>\n",
       "      <th>4347</th>\n",
       "      <td>-0.640796</td>\n",
       "      <td>2.853587</td>\n",
       "      <td>0.058705</td>\n",
       "      <td>0</td>\n",
       "    </tr>\n",
       "    <tr>\n",
       "      <th>4348</th>\n",
       "      <td>-0.116515</td>\n",
       "      <td>-0.106766</td>\n",
       "      <td>0.032093</td>\n",
       "      <td>0</td>\n",
       "    </tr>\n",
       "  </tbody>\n",
       "</table>\n",
       "<p>4349 rows × 4 columns</p>\n",
       "</div>"
      ],
      "text/plain": [
       "       Recency  Frequency  Monetary  Cluster\n",
       "0    -0.640796   0.383014  0.375097        0\n",
       "1     0.173513  -0.284474  0.032622        0\n",
       "2    -0.462317  -0.089428 -0.061808        0\n",
       "3    -0.484627  -0.332151 -0.219173        0\n",
       "4    -0.585021  -0.037416 -0.090784        0\n",
       "...        ...        ...       ...      ...\n",
       "4344 -0.495782  -0.358157 -0.244298        0\n",
       "4345  1.333623  -0.371160 -0.255642        1\n",
       "4346 -0.551556  -0.345154 -0.239059        0\n",
       "4347 -0.640796   2.853587  0.058705        0\n",
       "4348 -0.116515  -0.106766  0.032093        0\n",
       "\n",
       "[4349 rows x 4 columns]"
      ]
     },
     "execution_count": 202,
     "metadata": {},
     "output_type": "execute_result"
    }
   ],
   "source": [
    "scaled_data"
   ]
  },
  {
   "cell_type": "code",
   "execution_count": 194,
   "id": "a4e0dca7",
   "metadata": {},
   "outputs": [
    {
     "data": {
      "text/plain": [
       "0    3687\n",
       "1     635\n",
       "3      22\n",
       "2       4\n",
       "4       1\n",
       "Name: Cluster, dtype: int64"
      ]
     },
     "execution_count": 194,
     "metadata": {},
     "output_type": "execute_result"
    }
   ],
   "source": [
    "# Gives the segmentation of cx in to different clusters\n",
    "\n",
    "scaled_data['Cluster'].value_counts()"
   ]
  },
  {
   "cell_type": "code",
   "execution_count": 199,
   "id": "4279ea22",
   "metadata": {},
   "outputs": [],
   "source": [
    "# To know more insights by comparing the  input data, cluster is added to the rfm score \n",
    "\n",
    "RFMscore1['Cluster'] = out "
   ]
  },
  {
   "cell_type": "code",
   "execution_count": 203,
   "id": "fec135fa",
   "metadata": {},
   "outputs": [
    {
     "data": {
      "text/html": [
       "<div>\n",
       "<style scoped>\n",
       "    .dataframe tbody tr th:only-of-type {\n",
       "        vertical-align: middle;\n",
       "    }\n",
       "\n",
       "    .dataframe tbody tr th {\n",
       "        vertical-align: top;\n",
       "    }\n",
       "\n",
       "    .dataframe thead th {\n",
       "        text-align: right;\n",
       "    }\n",
       "</style>\n",
       "<table border=\"1\" class=\"dataframe\">\n",
       "  <thead>\n",
       "    <tr style=\"text-align: right;\">\n",
       "      <th></th>\n",
       "      <th>Recency</th>\n",
       "      <th>Frequency</th>\n",
       "      <th>Monetary</th>\n",
       "      <th>Cluster</th>\n",
       "    </tr>\n",
       "  </thead>\n",
       "  <tbody>\n",
       "    <tr>\n",
       "      <th>0</th>\n",
       "      <td>4</td>\n",
       "      <td>181</td>\n",
       "      <td>550416.0</td>\n",
       "      <td>0</td>\n",
       "    </tr>\n",
       "    <tr>\n",
       "      <th>1</th>\n",
       "      <td>77</td>\n",
       "      <td>27</td>\n",
       "      <td>257404.0</td>\n",
       "      <td>0</td>\n",
       "    </tr>\n",
       "    <tr>\n",
       "      <th>2</th>\n",
       "      <td>20</td>\n",
       "      <td>72</td>\n",
       "      <td>176613.0</td>\n",
       "      <td>0</td>\n",
       "    </tr>\n",
       "    <tr>\n",
       "      <th>3</th>\n",
       "      <td>18</td>\n",
       "      <td>16</td>\n",
       "      <td>41976.0</td>\n",
       "      <td>0</td>\n",
       "    </tr>\n",
       "    <tr>\n",
       "      <th>4</th>\n",
       "      <td>9</td>\n",
       "      <td>84</td>\n",
       "      <td>151822.0</td>\n",
       "      <td>0</td>\n",
       "    </tr>\n",
       "    <tr>\n",
       "      <th>...</th>\n",
       "      <td>...</td>\n",
       "      <td>...</td>\n",
       "      <td>...</td>\n",
       "      <td>...</td>\n",
       "    </tr>\n",
       "    <tr>\n",
       "      <th>4344</th>\n",
       "      <td>17</td>\n",
       "      <td>10</td>\n",
       "      <td>20480.0</td>\n",
       "      <td>0</td>\n",
       "    </tr>\n",
       "    <tr>\n",
       "      <th>4345</th>\n",
       "      <td>181</td>\n",
       "      <td>7</td>\n",
       "      <td>10774.0</td>\n",
       "      <td>1</td>\n",
       "    </tr>\n",
       "    <tr>\n",
       "      <th>4346</th>\n",
       "      <td>12</td>\n",
       "      <td>13</td>\n",
       "      <td>24962.0</td>\n",
       "      <td>0</td>\n",
       "    </tr>\n",
       "    <tr>\n",
       "      <th>4347</th>\n",
       "      <td>4</td>\n",
       "      <td>751</td>\n",
       "      <td>279720.0</td>\n",
       "      <td>0</td>\n",
       "    </tr>\n",
       "    <tr>\n",
       "      <th>4348</th>\n",
       "      <td>51</td>\n",
       "      <td>68</td>\n",
       "      <td>256952.0</td>\n",
       "      <td>0</td>\n",
       "    </tr>\n",
       "  </tbody>\n",
       "</table>\n",
       "<p>4349 rows × 4 columns</p>\n",
       "</div>"
      ],
      "text/plain": [
       "      Recency  Frequency  Monetary  Cluster\n",
       "0           4        181  550416.0        0\n",
       "1          77         27  257404.0        0\n",
       "2          20         72  176613.0        0\n",
       "3          18         16   41976.0        0\n",
       "4           9         84  151822.0        0\n",
       "...       ...        ...       ...      ...\n",
       "4344       17         10   20480.0        0\n",
       "4345      181          7   10774.0        1\n",
       "4346       12         13   24962.0        0\n",
       "4347        4        751  279720.0        0\n",
       "4348       51         68  256952.0        0\n",
       "\n",
       "[4349 rows x 4 columns]"
      ]
     },
     "execution_count": 203,
     "metadata": {},
     "output_type": "execute_result"
    }
   ],
   "source": [
    "RFMscore1"
   ]
  },
  {
   "cell_type": "code",
   "execution_count": null,
   "id": "2b7c1874",
   "metadata": {},
   "outputs": [],
   "source": [
    "# Since the manual segmnetation is done based on 4 quartiles and distinguished customers as 4 categories based on\n",
    "# the overall rfm score. It provides more insights about how to handle the cx based on the categories\n",
    "# platinum is the prime cx who can not be lost at any time\n",
    "# Gold is those who can be converted into prime by running marketing campaigns\n",
    "# Should focus more on the silver and bronze cx by giving them offer, regular deals to make them upgrade to top \n",
    "# categories\n",
    "\n",
    "\n",
    "# Model segments the cx into 5 categories based on nearest neighbour approach. New data in the future can be \n",
    "# passed into the model to predict the cx category and plan according to the needs."
   ]
  }
 ],
 "metadata": {
  "kernelspec": {
   "display_name": "Python 3 (ipykernel)",
   "language": "python",
   "name": "python3"
  },
  "language_info": {
   "codemirror_mode": {
    "name": "ipython",
    "version": 3
   },
   "file_extension": ".py",
   "mimetype": "text/x-python",
   "name": "python",
   "nbconvert_exporter": "python",
   "pygments_lexer": "ipython3",
   "version": "3.10.9"
  }
 },
 "nbformat": 4,
 "nbformat_minor": 5
}
